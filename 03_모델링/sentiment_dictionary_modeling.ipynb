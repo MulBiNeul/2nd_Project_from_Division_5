{
 "cells": [
  {
   "cell_type": "code",
   "execution_count": 71,
   "id": "6e9ce11c",
   "metadata": {},
   "outputs": [],
   "source": [
    "from konlpy.tag import Okt\n",
    "from collections import Counter\n",
    "import pandas as pd\n",
    "import matplotlib.pyplot as plt\n",
    "import numpy as np\n",
    "from sklearn.metrics.pairwise import cosine_similarity\n",
    "from sklearn.feature_extraction.text import TfidfVectorizer\n",
    "import os"
   ]
  },
  {
   "cell_type": "markdown",
   "id": "4e129312",
   "metadata": {},
   "source": [
    "### 불용어 처리 방법론"
   ]
  },
  {
   "cell_type": "code",
   "execution_count": 72,
   "id": "59b10c23",
   "metadata": {},
   "outputs": [],
   "source": [
    "# 데이터 로드\n",
    "df = pd.read_csv(\"../01_데이터수집/data/finance_data.csv\").drop_duplicates(subset=[\"kor_sentence\"])\n",
    "texts = df[\"kor_sentence\"].tolist()"
   ]
  },
  {
   "cell_type": "code",
   "execution_count": 73,
   "id": "3d0572a0",
   "metadata": {},
   "outputs": [
    {
     "name": "stdout",
     "output_type": "stream",
     "text": [
      "불용어 후보: ['하다', '있다', '되다', '유로', '핀란드', '회사', '늘다', '이다', '증가', '매출', '되어다', '이익', '서비스', '밝히다', '영업', '그룹', '사업', '계약', '예정', '따르다', '시장', '대한', '제공', '기간', '새롭다', '발표', '업체', '주식', '생산', '포함', '감소', '인수', '개발', '공장', '제품', '투자', '헬싱키', '크다', '고객', '솔루션', '손실', '기록', '가다', '오이', '기술', '직원', '비다', '은행', '운영', '같다', '오다', '판매', '노키아', '순이익', '공급', '건설', '기업', '예상', '우리', '산업', '오늘', '시스템', '거래', '러시아', '이번', '않다', '위해', '제조업체', '현재', '계획', '지역', '사용', '시작', '프로젝트', '통해', '체결', '동안', '명의', '수익', '또한', '다른', '가격', '스웨덴', '가장', '두다', '관리', '받다', '이상', '달러', '부문', '목표', '모든', '백만', '매각', '미국', '주문', '모바일', '기계', '본사', '보유', '돼다', '제조', '최대', '네트워크', '이전', '해당', '하락', '관련', '소프트웨어', '이사회', '세계', '통신', '연간', '장비', '비용', '가치', '보고', '대비', '보다', '주요', '노르', '결과', '부동산', '전체', '전략', '자본', '정보', '비즈니스', '위치', '세다', '기반', '소유', '유지', '가지', '자회사', '동기', '미디어', '지원', '협상', '분야', '라인', '데이터', '주다', '설립', '브랜드', '발행', '국가', '결정', '성장', '제안', '뉴스', '시설', '협력', '시키다', '추가', '중국', '보고서', '현지', '유럽', '전자', '실적', '전망', '금액', '해고', '지난', '개월', '아니다', '떨어지다', '인도', '분석', '확장', '차지', '글로벌', '프로그램', '대해', '공개', '거래소', '센터', '일부', '알다', '계속', '주주', '개선', '파트너', '하나', '때문', '만들다', '주가', '상승', '측은', '휴대폰', '시간', '활동', '에너지', '구성', '자금', '규모']\n"
     ]
    }
   ],
   "source": [
    "# 1번 방법\n",
    "# 전체 문장에서 너무 자주 등장하는 단어를 불용어로 간주 - 빈도 기반 상위 n%\n",
    "\n",
    "okt = Okt()\n",
    "all_words = []\n",
    "\n",
    "# 토큰화\n",
    "for text in texts:\n",
    "    tokens = okt.pos(text, stem=True)\n",
    "    all_words.extend([w for w, pos in tokens if pos in ['Noun', 'Adjective', 'Verb'] and len(w) > 1])\n",
    "\n",
    "# 빈도 계산\n",
    "counter = Counter(all_words)\n",
    "total = sum(counter.values())\n",
    "\n",
    "# 전체에서 가장 많이 나온 상위 n% 단어를 불용어 후보로 선택\n",
    "top_k = int(len(counter) * 0.03)  # 상위 3%\n",
    "candidate_stopwords = [w for w, _ in counter.most_common(top_k)]\n",
    "\n",
    "print(\"불용어 후보:\", candidate_stopwords)"
   ]
  },
  {
   "cell_type": "code",
   "execution_count": 74,
   "id": "4c8cbe3c",
   "metadata": {},
   "outputs": [
    {
     "name": "stdout",
     "output_type": "stream",
     "text": [
      "label 전반에 걸쳐 등장하는 불용어 후보: []\n"
     ]
    }
   ],
   "source": [
    "# 2번 방법\n",
    "# 모든 label에 고르게 등장하는 단어 추출\n",
    "\n",
    "# 각 label별 단어 집합 추출\n",
    "label_words = {0: [], 1: [], 2: []}  # 중립, 긍정, 부정\n",
    "\n",
    "for label in [0, 1, 2]:\n",
    "    for text in df[df[\"labels\"] == label][\"kor_sentence\"]:\n",
    "        tokens = okt.pos(text, stem=True)\n",
    "        label_words[label].extend([w for w, pos in tokens if pos in ['Noun', 'Adjective', 'Verb'] and len(w) > 1])\n",
    "\n",
    "# 각 단어가 몇 개의 클래스에서 등장하는지 확인\n",
    "all_labels = {word: 0 for word in set(label_words[0] + label_words[1] + label_words[2])}\n",
    "for word in all_labels:\n",
    "    all_labels[word] = sum([word in label_words[label] for label in [0,1,2]])\n",
    "\n",
    "# 모든 label에서 등장한 단어\n",
    "candidate_stopwords = [word for word, count in all_labels.items() if count == 3]\n",
    "print(\"label 전반에 걸쳐 등장하는 불용어 후보:\", candidate_stopwords)"
   ]
  },
  {
   "cell_type": "code",
   "execution_count": 75,
   "id": "5f90cc4a",
   "metadata": {},
   "outputs": [
    {
     "name": "stdout",
     "output_type": "stream",
     "text": [
      "문장 다수에 등장하는 단어 → 불용어 후보: ['하다']\n"
     ]
    }
   ],
   "source": [
    "# 3번 방법\n",
    "# 문장당 자주 등장하는 단어 수집 후 TF기반 필터링\n",
    "\n",
    "tf_counter = Counter()\n",
    "\n",
    "for text in texts:\n",
    "    tokens = okt.pos(text, stem=True)\n",
    "    words = [w for w, pos in tokens if pos in ['Noun', 'Adjective', 'Verb'] and len(w) > 1]\n",
    "    tf_counter.update(set(words))  # 문장 내 중복 제거하여 update\n",
    "\n",
    "# 일정 문서 이상에 등장한 단어는 너무 흔한 단어로 간주\n",
    "min_df = int(len(texts) * 0.3)  # 전체 문장의 30% 이상에 등장\n",
    "candidate_stopwords = [w for w, c in tf_counter.items() if c > min_df]\n",
    "print(\"문장 다수에 등장하는 단어 → 불용어 후보:\", candidate_stopwords)"
   ]
  },
  {
   "cell_type": "code",
   "execution_count": 76,
   "id": "cbd48f50",
   "metadata": {},
   "outputs": [],
   "source": [
    "# 금융 불용어 추가 생성\n",
    "\n",
    "financial_stopwords = {\n",
    "    \"시장\", \"주가\", \"증시\", \"투자\", \"매수\", \"매도\", \"주식\", \"증권\", \n",
    "    \"코스피\", \"코스닥\", \"기업\", \"경제\", \"금융\", \"지수\", \"수익\", \n",
    "    \"매출\", \"실적\", \"전망\", \"환율\", \"금리\", \"거래\", \"포트폴리오\"\n",
    "}"
   ]
  },
  {
   "cell_type": "markdown",
   "id": "acb287e1",
   "metadata": {},
   "source": [
    "### 감성 사전 구축"
   ]
  },
  {
   "cell_type": "code",
   "execution_count": 77,
   "id": "7e7303e9",
   "metadata": {},
   "outputs": [
    {
     "name": "stderr",
     "output_type": "stream",
     "text": [
      "/var/folders/x1/g6cgmw8x0b31zv5jcsxfxn880000gn/T/ipykernel_8591/3790149314.py:3: FutureWarning: Downcasting behavior in `replace` is deprecated and will be removed in a future version. To retain the old behavior, explicitly call `result.infer_objects(copy=False)`. To opt-in to the future behavior, set `pd.set_option('future.no_silent_downcasting', True)`\n",
      "  df[\"labels\"] = df[\"labels\"].replace({\"neutral\": 0, \"positive\": 1, \"negative\": 2})\n"
     ]
    },
    {
     "name": "stdout",
     "output_type": "stream",
     "text": [
      "긍정 단어 수: 2895\n",
      "부정 단어 수: 1371\n"
     ]
    }
   ],
   "source": [
    "# 데이터 로드\n",
    "df = pd.read_csv(\"../01_데이터수집/data/finance_data.csv\").drop_duplicates(subset=[\"kor_sentence\"])\n",
    "df[\"labels\"] = df[\"labels\"].replace({\"neutral\": 0, \"positive\": 1, \"negative\": 2})\n",
    "texts = df[\"kor_sentence\"].tolist()\n",
    "\n",
    "okt = Okt()\n",
    "\n",
    "# 불용어 후보 생성 (상위 3% 빈도 단어 + 금융 특화)\n",
    "all_words = []\n",
    "for text in texts:\n",
    "    tokens = okt.pos(text, stem=True)\n",
    "    all_words.extend([w for w, pos in tokens if pos in ['Noun', 'Adjective', 'Verb'] and len(w) > 1])\n",
    "\n",
    "counter = Counter(all_words)\n",
    "top_k = int(len(counter) * 0.03)\n",
    "high_freq_stopwords = set([w for w, _ in counter.most_common(top_k)])\n",
    "\n",
    "# 금융 특화 불용어\n",
    "financial_stopwords = {\n",
    "    \"시장\", \"주가\", \"증시\", \"투자\", \"매수\", \"매도\", \"주식\", \"증권\", \n",
    "    \"코스피\", \"코스닥\", \"기업\", \"경제\", \"금융\", \"지수\", \"수익\", \n",
    "    \"매출\", \"실적\", \"전망\", \"환율\", \"금리\", \"거래\", \"포트폴리오\"\n",
    "}\n",
    "\n",
    "# 전체 불용어 세트\n",
    "candidate_stopwords = high_freq_stopwords | financial_stopwords\n",
    "\n",
    "# 토큰 추출 함수\n",
    "def extract_tokens(text):\n",
    "    tokens = okt.pos(text, stem=True)\n",
    "    return [\n",
    "        word for word, pos in tokens\n",
    "        if pos in [\"Noun\", \"Adjective\", \"Verb\"] and len(word) > 1 and word not in candidate_stopwords\n",
    "    ]   # 불용어는 제거 후 반환\n",
    "\n",
    "# 긍정 / 부정 문장 분리\n",
    "pos_sentences = df[df[\"labels\"] == 1][\"kor_sentence\"]\n",
    "neg_sentences = df[df[\"labels\"] == 2][\"kor_sentence\"]\n",
    "\n",
    "# 단어 수집\n",
    "pos_words, neg_words = [], []\n",
    "for s in pos_sentences:\n",
    "    pos_words.extend(extract_tokens(s))\n",
    "for s in neg_sentences:\n",
    "    neg_words.extend(extract_tokens(s))\n",
    "\n",
    "# 빈도 및 점수 계산\n",
    "pos_counter = Counter(pos_words)\n",
    "neg_counter = Counter(neg_words)\n",
    "all_tokens = set(pos_counter) | set(neg_counter)\n",
    "\n",
    "scores = {}\n",
    "for word in all_tokens:\n",
    "    pf, nf = pos_counter.get(word, 0), neg_counter.get(word, 0)\n",
    "    scores[word] = round((pf - nf) / (pf + nf + 1e-5), 4)\n",
    "\n",
    "os.makedirs(\"sentiment_dictionary\", exist_ok=True)\n",
    "\n",
    "# 긍정 단어 DataFrame 생성 및 저장\n",
    "positive_with_score = [(word, count, scores[word]) for word, count in pos_counter.items()]\n",
    "df_positive = pd.DataFrame(positive_with_score, columns=[\"단어\", \"빈도\", \"점수\"])\n",
    "df_positive = df_positive.sort_values(by=\"빈도\", ascending=False).reset_index(drop=True)\n",
    "# df_positive.to_csv(\"sentiment_dictionary/positive_words_dict.csv\", index=False, encoding=\"utf-8-sig\")\n",
    "\n",
    "# 부정 단어 DataFrame 생성 및 저장\n",
    "negative_with_score = [(word, count, scores[word]) for word, count in neg_counter.items()]\n",
    "df_negative = pd.DataFrame(negative_with_score, columns=[\"단어\", \"빈도\", \"점수\"])\n",
    "df_negative = df_negative.sort_values(by=\"빈도\", ascending=False).reset_index(drop=True)\n",
    "# df_negative.to_csv(\"sentiment_dictionary/negative_words_dict.csv\", index=False, encoding=\"utf-8-sig\")\n",
    "\n",
    "print(\"긍정 단어 수:\", len(df_positive))\n",
    "print(\"부정 단어 수:\", len(df_negative))"
   ]
  },
  {
   "cell_type": "code",
   "execution_count": 78,
   "id": "2c65082b",
   "metadata": {},
   "outputs": [
    {
     "data": {
      "application/vnd.microsoft.datawrangler.viewer.v0+json": {
       "columns": [
        {
         "name": "index",
         "rawType": "int64",
         "type": "integer"
        },
        {
         "name": "단어",
         "rawType": "object",
         "type": "string"
        },
        {
         "name": "빈도",
         "rawType": "int64",
         "type": "integer"
        },
        {
         "name": "점수",
         "rawType": "float64",
         "type": "float"
        }
       ],
       "ref": "a437b882-a831-4154-b527-dc7780d28471",
       "rows": [
        [
         "0",
         "절감",
         "32",
         "0.8824"
        ],
        [
         "1",
         "효율",
         "32",
         "0.9394"
        ],
        [
         "2",
         "수주",
         "29",
         "0.871"
        ],
        [
         "3",
         "판매량",
         "24",
         "0.5484"
        ],
        [
         "4",
         "늘리다",
         "23",
         "1.0"
        ],
        [
         "5",
         "각각",
         "22",
         "0.913"
        ],
        [
         "6",
         "장기",
         "21",
         "0.8261"
        ],
        [
         "7",
         "긍정",
         "21",
         "0.9091"
        ],
        [
         "8",
         "지난해",
         "21",
         "0.4"
        ],
        [
         "9",
         "성장하다",
         "19",
         "0.9"
        ],
        [
         "10",
         "매우",
         "19",
         "0.8095"
        ],
        [
         "11",
         "보이다",
         "19",
         "0.4615"
        ],
        [
         "12",
         "코네",
         "18",
         "0.44"
        ],
        [
         "13",
         "맥주",
         "18",
         "0.7143"
        ],
        [
         "14",
         "최고",
         "18",
         "0.5"
        ],
        [
         "15",
         "로부터",
         "18",
         "1.0"
        ],
        [
         "16",
         "좋다",
         "18",
         "0.8947"
        ],
        [
         "17",
         "강화하다",
         "18",
         "1.0"
        ],
        [
         "18",
         "상당하다",
         "18",
         "0.5"
        ],
        [
         "19",
         "수요",
         "18",
         "0.3846"
        ],
        [
         "20",
         "확대",
         "18",
         "0.7143"
        ],
        [
         "21",
         "올해",
         "17",
         "0.7"
        ],
        [
         "22",
         "현금",
         "17",
         "0.36"
        ],
        [
         "23",
         "발전",
         "17",
         "1.0"
        ],
        [
         "24",
         "높다",
         "17",
         "0.5455"
        ],
        [
         "25",
         "기쁘다",
         "17",
         "1.0"
        ],
        [
         "26",
         "금속",
         "16",
         "0.6842"
        ],
        [
         "27",
         "수준",
         "16",
         "0.3913"
        ],
        [
         "28",
         "대표",
         "16",
         "1.0"
        ],
        [
         "29",
         "흐름",
         "16",
         "0.5238"
        ],
        [
         "30",
         "월간",
         "16",
         "0.3913"
        ],
        [
         "31",
         "설치",
         "16",
         "1.0"
        ],
        [
         "32",
         "입지",
         "16",
         "1.0"
        ],
        [
         "33",
         "회계",
         "16",
         "0.1034"
        ],
        [
         "34",
         "엔지니어링",
         "15",
         "0.875"
        ],
        [
         "35",
         "지속",
         "15",
         "0.3043"
        ],
        [
         "36",
         "대다",
         "15",
         "0.7647"
        ],
        [
         "37",
         "올리다",
         "15",
         "0.875"
        ],
        [
         "38",
         "강력하다",
         "15",
         "1.0"
        ],
        [
         "39",
         "더욱",
         "15",
         "0.875"
        ],
        [
         "40",
         "협약",
         "15",
         "1.0"
        ],
        [
         "41",
         "오르다",
         "15",
         "0.7647"
        ],
        [
         "42",
         "수치",
         "15",
         "0.5"
        ],
        [
         "43",
         "향상",
         "15",
         "1.0"
        ],
        [
         "44",
         "핀에어",
         "15",
         "0.3043"
        ],
        [
         "45",
         "오른",
         "15",
         "0.5"
        ],
        [
         "46",
         "사업자",
         "15",
         "0.875"
        ],
        [
         "47",
         "자다",
         "15",
         "0.875"
        ],
        [
         "48",
         "리터",
         "14",
         "0.75"
        ],
        [
         "49",
         "리투아니아",
         "14",
         "1.0"
        ]
       ],
       "shape": {
        "columns": 3,
        "rows": 2895
       }
      },
      "text/html": [
       "<div>\n",
       "<style scoped>\n",
       "    .dataframe tbody tr th:only-of-type {\n",
       "        vertical-align: middle;\n",
       "    }\n",
       "\n",
       "    .dataframe tbody tr th {\n",
       "        vertical-align: top;\n",
       "    }\n",
       "\n",
       "    .dataframe thead th {\n",
       "        text-align: right;\n",
       "    }\n",
       "</style>\n",
       "<table border=\"1\" class=\"dataframe\">\n",
       "  <thead>\n",
       "    <tr style=\"text-align: right;\">\n",
       "      <th></th>\n",
       "      <th>단어</th>\n",
       "      <th>빈도</th>\n",
       "      <th>점수</th>\n",
       "    </tr>\n",
       "  </thead>\n",
       "  <tbody>\n",
       "    <tr>\n",
       "      <th>0</th>\n",
       "      <td>절감</td>\n",
       "      <td>32</td>\n",
       "      <td>0.8824</td>\n",
       "    </tr>\n",
       "    <tr>\n",
       "      <th>1</th>\n",
       "      <td>효율</td>\n",
       "      <td>32</td>\n",
       "      <td>0.9394</td>\n",
       "    </tr>\n",
       "    <tr>\n",
       "      <th>2</th>\n",
       "      <td>수주</td>\n",
       "      <td>29</td>\n",
       "      <td>0.8710</td>\n",
       "    </tr>\n",
       "    <tr>\n",
       "      <th>3</th>\n",
       "      <td>판매량</td>\n",
       "      <td>24</td>\n",
       "      <td>0.5484</td>\n",
       "    </tr>\n",
       "    <tr>\n",
       "      <th>4</th>\n",
       "      <td>늘리다</td>\n",
       "      <td>23</td>\n",
       "      <td>1.0000</td>\n",
       "    </tr>\n",
       "    <tr>\n",
       "      <th>...</th>\n",
       "      <td>...</td>\n",
       "      <td>...</td>\n",
       "      <td>...</td>\n",
       "    </tr>\n",
       "    <tr>\n",
       "      <th>2890</th>\n",
       "      <td>리기</td>\n",
       "      <td>1</td>\n",
       "      <td>1.0000</td>\n",
       "    </tr>\n",
       "    <tr>\n",
       "      <th>2891</th>\n",
       "      <td>확고하다</td>\n",
       "      <td>1</td>\n",
       "      <td>1.0000</td>\n",
       "    </tr>\n",
       "    <tr>\n",
       "      <th>2892</th>\n",
       "      <td>범주</td>\n",
       "      <td>1</td>\n",
       "      <td>1.0000</td>\n",
       "    </tr>\n",
       "    <tr>\n",
       "      <th>2893</th>\n",
       "      <td>어업</td>\n",
       "      <td>1</td>\n",
       "      <td>1.0000</td>\n",
       "    </tr>\n",
       "    <tr>\n",
       "      <th>2894</th>\n",
       "      <td>설정</td>\n",
       "      <td>1</td>\n",
       "      <td>1.0000</td>\n",
       "    </tr>\n",
       "  </tbody>\n",
       "</table>\n",
       "<p>2895 rows × 3 columns</p>\n",
       "</div>"
      ],
      "text/plain": [
       "        단어  빈도      점수\n",
       "0       절감  32  0.8824\n",
       "1       효율  32  0.9394\n",
       "2       수주  29  0.8710\n",
       "3      판매량  24  0.5484\n",
       "4      늘리다  23  1.0000\n",
       "...    ...  ..     ...\n",
       "2890    리기   1  1.0000\n",
       "2891  확고하다   1  1.0000\n",
       "2892    범주   1  1.0000\n",
       "2893    어업   1  1.0000\n",
       "2894    설정   1  1.0000\n",
       "\n",
       "[2895 rows x 3 columns]"
      ]
     },
     "execution_count": 78,
     "metadata": {},
     "output_type": "execute_result"
    }
   ],
   "source": [
    "df_positive"
   ]
  },
  {
   "cell_type": "code",
   "execution_count": 79,
   "id": "0565a79d",
   "metadata": {},
   "outputs": [
    {
     "data": {
      "application/vnd.microsoft.datawrangler.viewer.v0+json": {
       "columns": [
        {
         "name": "index",
         "rawType": "int64",
         "type": "integer"
        },
        {
         "name": "단어",
         "rawType": "object",
         "type": "string"
        },
        {
         "name": "빈도",
         "rawType": "int64",
         "type": "integer"
        },
        {
         "name": "점수",
         "rawType": "float64",
         "type": "float"
        }
       ],
       "ref": "c5742d4b-4fde-48ce-b686-cfacbeb026f9",
       "rows": [
        [
         "0",
         "상반기",
         "27",
         "-0.5882"
        ],
        [
         "1",
         "일시",
         "23",
         "-1.0"
        ],
        [
         "2",
         "비교",
         "21",
         "-0.2727"
        ],
        [
         "3",
         "감축",
         "19",
         "-1.0"
        ],
        [
         "4",
         "인하다",
         "17",
         "-0.4167"
        ],
        [
         "5",
         "포인트",
         "15",
         "-0.3043"
        ],
        [
         "6",
         "영향",
         "14",
         "-0.3333"
        ],
        [
         "7",
         "제외",
         "14",
         "-0.2727"
        ],
        [
         "8",
         "년도",
         "14",
         "0.0"
        ],
        [
         "9",
         "스캔",
         "13",
         "-0.8571"
        ],
        [
         "10",
         "회계",
         "13",
         "0.1034"
        ],
        [
         "11",
         "항목",
         "13",
         "-0.2381"
        ],
        [
         "12",
         "미치다",
         "13",
         "-0.7333"
        ],
        [
         "13",
         "인력",
         "12",
         "-0.8462"
        ],
        [
         "14",
         "경고",
         "10",
         "-1.0"
        ],
        [
         "15",
         "추정",
         "10",
         "-0.1111"
        ],
        [
         "16",
         "지난해",
         "9",
         "0.4"
        ],
        [
         "17",
         "감원",
         "9",
         "-0.8"
        ],
        [
         "18",
         "인원",
         "9",
         "-1.0"
        ],
        [
         "19",
         "현금",
         "8",
         "0.36"
        ],
        [
         "20",
         "연도",
         "8",
         "0.1111"
        ],
        [
         "21",
         "중단",
         "8",
         "-1.0"
        ],
        [
         "22",
         "마감",
         "8",
         "-0.2308"
        ],
        [
         "23",
         "지속",
         "8",
         "0.3043"
        ],
        [
         "24",
         "라우",
         "8",
         "0.0588"
        ],
        [
         "25",
         "오후",
         "8",
         "-0.6"
        ],
        [
         "26",
         "수요",
         "8",
         "0.3846"
        ],
        [
         "27",
         "낮다",
         "8",
         "-0.2308"
        ],
        [
         "28",
         "핀에어",
         "8",
         "0.3043"
        ],
        [
         "29",
         "상황",
         "8",
         "-0.2308"
        ],
        [
         "30",
         "판매량",
         "7",
         "0.5484"
        ],
        [
         "31",
         "분기",
         "7",
         "0.3333"
        ],
        [
         "32",
         "승객",
         "7",
         "0.2222"
        ],
        [
         "33",
         "발트해",
         "7",
         "0.0667"
        ],
        [
         "34",
         "폐쇄",
         "7",
         "-0.75"
        ],
        [
         "35",
         "거의",
         "7",
         "-0.4"
        ],
        [
         "36",
         "비경",
         "7",
         "-0.5556"
        ],
        [
         "37",
         "월간",
         "7",
         "0.3913"
        ],
        [
         "38",
         "코네",
         "7",
         "0.44"
        ],
        [
         "39",
         "줄이다",
         "7",
         "-0.4"
        ],
        [
         "40",
         "스토",
         "7",
         "0.0"
        ],
        [
         "41",
         "마이너스",
         "7",
         "-0.1667"
        ],
        [
         "42",
         "점유",
         "7",
         "0.3"
        ],
        [
         "43",
         "보이다",
         "7",
         "0.4615"
        ],
        [
         "44",
         "일자리",
         "7",
         "-0.4"
        ],
        [
         "45",
         "수준",
         "7",
         "0.3913"
        ],
        [
         "46",
         "타루",
         "6",
         "0.1429"
        ],
        [
         "47",
         "최고",
         "6",
         "0.5"
        ],
        [
         "48",
         "엔소",
         "6",
         "0.0"
        ],
        [
         "49",
         "그것",
         "6",
         "0.0769"
        ]
       ],
       "shape": {
        "columns": 3,
        "rows": 1371
       }
      },
      "text/html": [
       "<div>\n",
       "<style scoped>\n",
       "    .dataframe tbody tr th:only-of-type {\n",
       "        vertical-align: middle;\n",
       "    }\n",
       "\n",
       "    .dataframe tbody tr th {\n",
       "        vertical-align: top;\n",
       "    }\n",
       "\n",
       "    .dataframe thead th {\n",
       "        text-align: right;\n",
       "    }\n",
       "</style>\n",
       "<table border=\"1\" class=\"dataframe\">\n",
       "  <thead>\n",
       "    <tr style=\"text-align: right;\">\n",
       "      <th></th>\n",
       "      <th>단어</th>\n",
       "      <th>빈도</th>\n",
       "      <th>점수</th>\n",
       "    </tr>\n",
       "  </thead>\n",
       "  <tbody>\n",
       "    <tr>\n",
       "      <th>0</th>\n",
       "      <td>상반기</td>\n",
       "      <td>27</td>\n",
       "      <td>-0.5882</td>\n",
       "    </tr>\n",
       "    <tr>\n",
       "      <th>1</th>\n",
       "      <td>일시</td>\n",
       "      <td>23</td>\n",
       "      <td>-1.0000</td>\n",
       "    </tr>\n",
       "    <tr>\n",
       "      <th>2</th>\n",
       "      <td>비교</td>\n",
       "      <td>21</td>\n",
       "      <td>-0.2727</td>\n",
       "    </tr>\n",
       "    <tr>\n",
       "      <th>3</th>\n",
       "      <td>감축</td>\n",
       "      <td>19</td>\n",
       "      <td>-1.0000</td>\n",
       "    </tr>\n",
       "    <tr>\n",
       "      <th>4</th>\n",
       "      <td>인하다</td>\n",
       "      <td>17</td>\n",
       "      <td>-0.4167</td>\n",
       "    </tr>\n",
       "    <tr>\n",
       "      <th>...</th>\n",
       "      <td>...</td>\n",
       "      <td>...</td>\n",
       "      <td>...</td>\n",
       "    </tr>\n",
       "    <tr>\n",
       "      <th>1366</th>\n",
       "      <td>동석</td>\n",
       "      <td>1</td>\n",
       "      <td>0.0000</td>\n",
       "    </tr>\n",
       "    <tr>\n",
       "      <th>1367</th>\n",
       "      <td>리키</td>\n",
       "      <td>1</td>\n",
       "      <td>-1.0000</td>\n",
       "    </tr>\n",
       "    <tr>\n",
       "      <th>1368</th>\n",
       "      <td>케르만</td>\n",
       "      <td>1</td>\n",
       "      <td>-1.0000</td>\n",
       "    </tr>\n",
       "    <tr>\n",
       "      <th>1369</th>\n",
       "      <td>사비</td>\n",
       "      <td>1</td>\n",
       "      <td>-1.0000</td>\n",
       "    </tr>\n",
       "    <tr>\n",
       "      <th>1370</th>\n",
       "      <td>국외</td>\n",
       "      <td>1</td>\n",
       "      <td>-1.0000</td>\n",
       "    </tr>\n",
       "  </tbody>\n",
       "</table>\n",
       "<p>1371 rows × 3 columns</p>\n",
       "</div>"
      ],
      "text/plain": [
       "       단어  빈도      점수\n",
       "0     상반기  27 -0.5882\n",
       "1      일시  23 -1.0000\n",
       "2      비교  21 -0.2727\n",
       "3      감축  19 -1.0000\n",
       "4     인하다  17 -0.4167\n",
       "...   ...  ..     ...\n",
       "1366   동석   1  0.0000\n",
       "1367   리키   1 -1.0000\n",
       "1368  케르만   1 -1.0000\n",
       "1369   사비   1 -1.0000\n",
       "1370   국외   1 -1.0000\n",
       "\n",
       "[1371 rows x 3 columns]"
      ]
     },
     "execution_count": 79,
     "metadata": {},
     "output_type": "execute_result"
    }
   ],
   "source": [
    "df_negative"
   ]
  },
  {
   "cell_type": "code",
   "execution_count": null,
   "id": "31ccfd42",
   "metadata": {},
   "outputs": [],
   "source": [
    "# CSV 로드\n",
    "df_positive = pd.read_csv(\"sentiment_dictionary/positive_words_dict.csv\")\n",
    "df_negative = pd.read_csv(\"sentiment_dictionary/negative_words_dict.csv\")\n",
    "\n",
    "# TF-IDF 벡터화\n",
    "all_words = list(set(df_positive[\"단어\"]).union(set(df_negative[\"단어\"])))\n",
    "vectorizer = TfidfVectorizer(vocabulary=all_words, analyzer='char', ngram_range=(2, 3))  # char n-gram 기반\n",
    "vectors = vectorizer.fit_transform(all_words).toarray()\n",
    "\n",
    "# 단어별 유사도 행렬\n",
    "similarity_matrix = cosine_similarity(vectors)\n",
    "\n",
    "# 각 단어에 대해 유사한 단어들의 가중 점수 평균 계산\n",
    "def similarity_score(df, all_words, similarity_matrix):\n",
    "    word2idx = {w: i for i, w in enumerate(all_words)}\n",
    "    weighted_scores = []\n",
    "    for _, row in df.iterrows():\n",
    "        word, freq, score = row[\"단어\"], row[\"빈도\"], row[\"점수\"]\n",
    "        if word not in word2idx:\n",
    "            weighted_scores.append(0)\n",
    "            continue\n",
    "        idx = word2idx[word]\n",
    "        sims = similarity_matrix[idx]\n",
    "        top_similar_idx = sims.argsort()[::-1][1:6]  # 가장 유사한 상위 5개 (자기 제외)\n",
    "        weights = sims[top_similar_idx]\n",
    "        related_scores = []\n",
    "        related_weights = []\n",
    "\n",
    "        for i, sim in zip(top_similar_idx, weights):\n",
    "            related_word = all_words[i]\n",
    "            match = df[df[\"단어\"] == related_word]\n",
    "            if not match.empty:\n",
    "                related_scores.append(match[\"점수\"].values[0])\n",
    "                related_weights.append(sim)\n",
    "\n",
    "        if related_scores:\n",
    "            weight_sum = np.sum(related_weights)\n",
    "            if weight_sum > 1e-5:\n",
    "                sim_score = np.average(related_scores, weights=related_weights)\n",
    "            else:\n",
    "                sim_score = np.mean(related_scores)  # 유사도가 거의 0인 경우 단순 평균\n",
    "        else:\n",
    "            sim_score = 0\n",
    "                \n",
    "        weighted_scores.append(sim_score)\n",
    "    return weighted_scores\n",
    "\n",
    "# 빈도 정규화 함수 (0~1 스케일링)\n",
    "def normalize(series):\n",
    "    return (series - series.min()) / (series.max() - series.min() + 1e-5)\n",
    "\n",
    "# 각 사전에 대해 점수 계산\n",
    "for df in [df_positive, df_negative]:\n",
    "    df[\"빈도정규화\"] = normalize(df[\"빈도\"])\n",
    "    df[\"유사도점수\"] = similarity_score(df, all_words, similarity_matrix)\n",
    "    df[\"최종점수\"] = (\n",
    "        df[\"점수\"] * 0.6 +\n",
    "        df[\"빈도정규화\"] * 0.2 +\n",
    "        df[\"유사도점수\"] * 0.2\n",
    "    ).round(4)\n",
    "\n",
    "# 결과 저장\n",
    "# df_positive.to_csv(\"sentiment_dictionary/final_positive_dict.csv\", index=False)\n",
    "# df_negative.to_csv(\"sentiment_dictionary/final_negative_dict.csv\", index=False)"
   ]
  },
  {
   "cell_type": "code",
   "execution_count": 81,
   "id": "5540c7e3",
   "metadata": {},
   "outputs": [
    {
     "data": {
      "application/vnd.microsoft.datawrangler.viewer.v0+json": {
       "columns": [
        {
         "name": "index",
         "rawType": "int64",
         "type": "integer"
        },
        {
         "name": "단어",
         "rawType": "object",
         "type": "string"
        },
        {
         "name": "빈도",
         "rawType": "int64",
         "type": "integer"
        },
        {
         "name": "점수",
         "rawType": "float64",
         "type": "float"
        },
        {
         "name": "빈도정규화",
         "rawType": "float64",
         "type": "float"
        },
        {
         "name": "유사도점수",
         "rawType": "float64",
         "type": "float"
        },
        {
         "name": "최종점수",
         "rawType": "float64",
         "type": "float"
        }
       ],
       "ref": "5e09dc46-b6f3-4242-bd7d-2068464662b2",
       "rows": [
        [
         "1",
         "효율",
         "32",
         "0.9394",
         "0.9999996774194589",
         "0.76",
         "0.9156"
        ],
        [
         "2",
         "수주",
         "29",
         "0.871",
         "0.9032255150885435",
         "1.0",
         "0.9032"
        ],
        [
         "23",
         "발전",
         "17",
         "1.0",
         "0.516128865764882",
         "1.0",
         "0.9032"
        ],
        [
         "31",
         "설치",
         "16",
         "1.0",
         "0.4838708116545769",
         "1.0",
         "0.8968"
        ],
        [
         "43",
         "향상",
         "15",
         "1.0",
         "0.45161275754427177",
         "1.0",
         "0.8903"
        ],
        [
         "40",
         "협약",
         "15",
         "1.0",
         "0.45161275754427177",
         "1.0",
         "0.8903"
        ],
        [
         "50",
         "처리",
         "14",
         "1.0",
         "0.41935470343396664",
         "1.0",
         "0.8839"
        ],
        [
         "49",
         "리투아니아",
         "14",
         "1.0",
         "0.41935470343396664",
         "1.0",
         "0.8839"
        ],
        [
         "4",
         "늘리다",
         "23",
         "1.0",
         "0.7096771904267127",
         "0.7",
         "0.8819"
        ],
        [
         "0",
         "절감",
         "32",
         "0.8824",
         "0.9999996774194589",
         "0.76",
         "0.8814"
        ]
       ],
       "shape": {
        "columns": 6,
        "rows": 10
       }
      },
      "text/html": [
       "<div>\n",
       "<style scoped>\n",
       "    .dataframe tbody tr th:only-of-type {\n",
       "        vertical-align: middle;\n",
       "    }\n",
       "\n",
       "    .dataframe tbody tr th {\n",
       "        vertical-align: top;\n",
       "    }\n",
       "\n",
       "    .dataframe thead th {\n",
       "        text-align: right;\n",
       "    }\n",
       "</style>\n",
       "<table border=\"1\" class=\"dataframe\">\n",
       "  <thead>\n",
       "    <tr style=\"text-align: right;\">\n",
       "      <th></th>\n",
       "      <th>단어</th>\n",
       "      <th>빈도</th>\n",
       "      <th>점수</th>\n",
       "      <th>빈도정규화</th>\n",
       "      <th>유사도점수</th>\n",
       "      <th>최종점수</th>\n",
       "    </tr>\n",
       "  </thead>\n",
       "  <tbody>\n",
       "    <tr>\n",
       "      <th>1</th>\n",
       "      <td>효율</td>\n",
       "      <td>32</td>\n",
       "      <td>0.9394</td>\n",
       "      <td>1.000000</td>\n",
       "      <td>0.76</td>\n",
       "      <td>0.9156</td>\n",
       "    </tr>\n",
       "    <tr>\n",
       "      <th>2</th>\n",
       "      <td>수주</td>\n",
       "      <td>29</td>\n",
       "      <td>0.8710</td>\n",
       "      <td>0.903226</td>\n",
       "      <td>1.00</td>\n",
       "      <td>0.9032</td>\n",
       "    </tr>\n",
       "    <tr>\n",
       "      <th>23</th>\n",
       "      <td>발전</td>\n",
       "      <td>17</td>\n",
       "      <td>1.0000</td>\n",
       "      <td>0.516129</td>\n",
       "      <td>1.00</td>\n",
       "      <td>0.9032</td>\n",
       "    </tr>\n",
       "    <tr>\n",
       "      <th>31</th>\n",
       "      <td>설치</td>\n",
       "      <td>16</td>\n",
       "      <td>1.0000</td>\n",
       "      <td>0.483871</td>\n",
       "      <td>1.00</td>\n",
       "      <td>0.8968</td>\n",
       "    </tr>\n",
       "    <tr>\n",
       "      <th>43</th>\n",
       "      <td>향상</td>\n",
       "      <td>15</td>\n",
       "      <td>1.0000</td>\n",
       "      <td>0.451613</td>\n",
       "      <td>1.00</td>\n",
       "      <td>0.8903</td>\n",
       "    </tr>\n",
       "    <tr>\n",
       "      <th>40</th>\n",
       "      <td>협약</td>\n",
       "      <td>15</td>\n",
       "      <td>1.0000</td>\n",
       "      <td>0.451613</td>\n",
       "      <td>1.00</td>\n",
       "      <td>0.8903</td>\n",
       "    </tr>\n",
       "    <tr>\n",
       "      <th>50</th>\n",
       "      <td>처리</td>\n",
       "      <td>14</td>\n",
       "      <td>1.0000</td>\n",
       "      <td>0.419355</td>\n",
       "      <td>1.00</td>\n",
       "      <td>0.8839</td>\n",
       "    </tr>\n",
       "    <tr>\n",
       "      <th>49</th>\n",
       "      <td>리투아니아</td>\n",
       "      <td>14</td>\n",
       "      <td>1.0000</td>\n",
       "      <td>0.419355</td>\n",
       "      <td>1.00</td>\n",
       "      <td>0.8839</td>\n",
       "    </tr>\n",
       "    <tr>\n",
       "      <th>4</th>\n",
       "      <td>늘리다</td>\n",
       "      <td>23</td>\n",
       "      <td>1.0000</td>\n",
       "      <td>0.709677</td>\n",
       "      <td>0.70</td>\n",
       "      <td>0.8819</td>\n",
       "    </tr>\n",
       "    <tr>\n",
       "      <th>0</th>\n",
       "      <td>절감</td>\n",
       "      <td>32</td>\n",
       "      <td>0.8824</td>\n",
       "      <td>1.000000</td>\n",
       "      <td>0.76</td>\n",
       "      <td>0.8814</td>\n",
       "    </tr>\n",
       "  </tbody>\n",
       "</table>\n",
       "</div>"
      ],
      "text/plain": [
       "       단어  빈도      점수     빈도정규화  유사도점수    최종점수\n",
       "1      효율  32  0.9394  1.000000   0.76  0.9156\n",
       "2      수주  29  0.8710  0.903226   1.00  0.9032\n",
       "23     발전  17  1.0000  0.516129   1.00  0.9032\n",
       "31     설치  16  1.0000  0.483871   1.00  0.8968\n",
       "43     향상  15  1.0000  0.451613   1.00  0.8903\n",
       "40     협약  15  1.0000  0.451613   1.00  0.8903\n",
       "50     처리  14  1.0000  0.419355   1.00  0.8839\n",
       "49  리투아니아  14  1.0000  0.419355   1.00  0.8839\n",
       "4     늘리다  23  1.0000  0.709677   0.70  0.8819\n",
       "0      절감  32  0.8824  1.000000   0.76  0.8814"
      ]
     },
     "execution_count": 81,
     "metadata": {},
     "output_type": "execute_result"
    }
   ],
   "source": [
    "# 최종 점수 컬럼 내림차순 정렬\n",
    "df_positive.sort_values(by='최종점수', ascending=False).head(10)"
   ]
  },
  {
   "cell_type": "code",
   "execution_count": 82,
   "id": "0f56ab0e",
   "metadata": {},
   "outputs": [
    {
     "data": {
      "application/vnd.microsoft.datawrangler.viewer.v0+json": {
       "columns": [
        {
         "name": "index",
         "rawType": "int64",
         "type": "integer"
        },
        {
         "name": "단어",
         "rawType": "object",
         "type": "string"
        },
        {
         "name": "빈도",
         "rawType": "int64",
         "type": "integer"
        },
        {
         "name": "점수",
         "rawType": "float64",
         "type": "float"
        },
        {
         "name": "빈도정규화",
         "rawType": "float64",
         "type": "float"
        },
        {
         "name": "유사도점수",
         "rawType": "float64",
         "type": "float"
        },
        {
         "name": "최종점수",
         "rawType": "float64",
         "type": "float"
        }
       ],
       "ref": "a6616ab1-805f-4516-b12d-fc38216d14a1",
       "rows": [
        [
         "1293",
         "강화",
         "1",
         "0.8462",
         "0.0",
         "0.8462",
         "0.677"
        ],
        [
         "920",
         "활용",
         "1",
         "0.7778",
         "0.0",
         "0.7143",
         "0.6095"
        ],
        [
         "733",
         "재활용",
         "1",
         "0.7143",
         "0.0",
         "0.7778000000000002",
         "0.5841"
        ],
        [
         "1289",
         "구조",
         "1",
         "0.8571",
         "0.0",
         "0.3333",
         "0.5809"
        ],
        [
         "1176",
         "범위",
         "1",
         "0.7143",
         "0.0",
         "0.7143",
         "0.5714"
        ],
        [
         "1182",
         "바이킹",
         "1",
         "0.7778",
         "0.0",
         "0.44350275757429936",
         "0.5554"
        ],
        [
         "335",
         "코퍼레이션",
         "2",
         "0.6667",
         "0.03846152366864474",
         "0.6667",
         "0.5411"
        ],
        [
         "745",
         "효율",
         "1",
         "0.9394",
         "0.0",
         "-0.2",
         "0.5236"
        ],
        [
         "391",
         "연결",
         "2",
         "0.6364",
         "0.03846152366864474",
         "0.6364",
         "0.5168"
        ],
        [
         "1117",
         "긍정",
         "1",
         "0.9091",
         "0.0",
         "-0.2",
         "0.5055"
        ]
       ],
       "shape": {
        "columns": 6,
        "rows": 10
       }
      },
      "text/html": [
       "<div>\n",
       "<style scoped>\n",
       "    .dataframe tbody tr th:only-of-type {\n",
       "        vertical-align: middle;\n",
       "    }\n",
       "\n",
       "    .dataframe tbody tr th {\n",
       "        vertical-align: top;\n",
       "    }\n",
       "\n",
       "    .dataframe thead th {\n",
       "        text-align: right;\n",
       "    }\n",
       "</style>\n",
       "<table border=\"1\" class=\"dataframe\">\n",
       "  <thead>\n",
       "    <tr style=\"text-align: right;\">\n",
       "      <th></th>\n",
       "      <th>단어</th>\n",
       "      <th>빈도</th>\n",
       "      <th>점수</th>\n",
       "      <th>빈도정규화</th>\n",
       "      <th>유사도점수</th>\n",
       "      <th>최종점수</th>\n",
       "    </tr>\n",
       "  </thead>\n",
       "  <tbody>\n",
       "    <tr>\n",
       "      <th>1293</th>\n",
       "      <td>강화</td>\n",
       "      <td>1</td>\n",
       "      <td>0.8462</td>\n",
       "      <td>0.000000</td>\n",
       "      <td>0.846200</td>\n",
       "      <td>0.6770</td>\n",
       "    </tr>\n",
       "    <tr>\n",
       "      <th>920</th>\n",
       "      <td>활용</td>\n",
       "      <td>1</td>\n",
       "      <td>0.7778</td>\n",
       "      <td>0.000000</td>\n",
       "      <td>0.714300</td>\n",
       "      <td>0.6095</td>\n",
       "    </tr>\n",
       "    <tr>\n",
       "      <th>733</th>\n",
       "      <td>재활용</td>\n",
       "      <td>1</td>\n",
       "      <td>0.7143</td>\n",
       "      <td>0.000000</td>\n",
       "      <td>0.777800</td>\n",
       "      <td>0.5841</td>\n",
       "    </tr>\n",
       "    <tr>\n",
       "      <th>1289</th>\n",
       "      <td>구조</td>\n",
       "      <td>1</td>\n",
       "      <td>0.8571</td>\n",
       "      <td>0.000000</td>\n",
       "      <td>0.333300</td>\n",
       "      <td>0.5809</td>\n",
       "    </tr>\n",
       "    <tr>\n",
       "      <th>1176</th>\n",
       "      <td>범위</td>\n",
       "      <td>1</td>\n",
       "      <td>0.7143</td>\n",
       "      <td>0.000000</td>\n",
       "      <td>0.714300</td>\n",
       "      <td>0.5714</td>\n",
       "    </tr>\n",
       "    <tr>\n",
       "      <th>1182</th>\n",
       "      <td>바이킹</td>\n",
       "      <td>1</td>\n",
       "      <td>0.7778</td>\n",
       "      <td>0.000000</td>\n",
       "      <td>0.443503</td>\n",
       "      <td>0.5554</td>\n",
       "    </tr>\n",
       "    <tr>\n",
       "      <th>335</th>\n",
       "      <td>코퍼레이션</td>\n",
       "      <td>2</td>\n",
       "      <td>0.6667</td>\n",
       "      <td>0.038462</td>\n",
       "      <td>0.666700</td>\n",
       "      <td>0.5411</td>\n",
       "    </tr>\n",
       "    <tr>\n",
       "      <th>745</th>\n",
       "      <td>효율</td>\n",
       "      <td>1</td>\n",
       "      <td>0.9394</td>\n",
       "      <td>0.000000</td>\n",
       "      <td>-0.200000</td>\n",
       "      <td>0.5236</td>\n",
       "    </tr>\n",
       "    <tr>\n",
       "      <th>391</th>\n",
       "      <td>연결</td>\n",
       "      <td>2</td>\n",
       "      <td>0.6364</td>\n",
       "      <td>0.038462</td>\n",
       "      <td>0.636400</td>\n",
       "      <td>0.5168</td>\n",
       "    </tr>\n",
       "    <tr>\n",
       "      <th>1117</th>\n",
       "      <td>긍정</td>\n",
       "      <td>1</td>\n",
       "      <td>0.9091</td>\n",
       "      <td>0.000000</td>\n",
       "      <td>-0.200000</td>\n",
       "      <td>0.5055</td>\n",
       "    </tr>\n",
       "  </tbody>\n",
       "</table>\n",
       "</div>"
      ],
      "text/plain": [
       "         단어  빈도      점수     빈도정규화     유사도점수    최종점수\n",
       "1293     강화   1  0.8462  0.000000  0.846200  0.6770\n",
       "920      활용   1  0.7778  0.000000  0.714300  0.6095\n",
       "733     재활용   1  0.7143  0.000000  0.777800  0.5841\n",
       "1289     구조   1  0.8571  0.000000  0.333300  0.5809\n",
       "1176     범위   1  0.7143  0.000000  0.714300  0.5714\n",
       "1182    바이킹   1  0.7778  0.000000  0.443503  0.5554\n",
       "335   코퍼레이션   2  0.6667  0.038462  0.666700  0.5411\n",
       "745      효율   1  0.9394  0.000000 -0.200000  0.5236\n",
       "391      연결   2  0.6364  0.038462  0.636400  0.5168\n",
       "1117     긍정   1  0.9091  0.000000 -0.200000  0.5055"
      ]
     },
     "execution_count": 82,
     "metadata": {},
     "output_type": "execute_result"
    }
   ],
   "source": [
    "# 최종 점수 컬럼 내림차순 정렬\n",
    "df_negative.sort_values(by='최종점수', ascending=False).head(10)"
   ]
  },
  {
   "cell_type": "code",
   "execution_count": null,
   "id": "b3196daf",
   "metadata": {},
   "outputs": [],
   "source": []
  }
 ],
 "metadata": {
  "kernelspec": {
   "display_name": "ESTsoft_TP_2",
   "language": "python",
   "name": "python3"
  },
  "language_info": {
   "codemirror_mode": {
    "name": "ipython",
    "version": 3
   },
   "file_extension": ".py",
   "mimetype": "text/x-python",
   "name": "python",
   "nbconvert_exporter": "python",
   "pygments_lexer": "ipython3",
   "version": "3.9.23"
  }
 },
 "nbformat": 4,
 "nbformat_minor": 5
}
