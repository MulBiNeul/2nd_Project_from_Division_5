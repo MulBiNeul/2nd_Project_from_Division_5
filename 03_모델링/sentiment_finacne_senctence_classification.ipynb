{
  "cells": [
    {
      "cell_type": "code",
      "execution_count": 1,
      "metadata": {
        "id": "Qww_V4GzhgoS"
      },
      "outputs": [
        {
          "name": "stderr",
          "output_type": "stream",
          "text": [
            "/opt/anaconda3/envs/ESTsoft_TP_2/lib/python3.9/site-packages/tqdm/auto.py:21: TqdmWarning: IProgress not found. Please update jupyter and ipywidgets. See https://ipywidgets.readthedocs.io/en/stable/user_install.html\n",
            "  from .autonotebook import tqdm as notebook_tqdm\n"
          ]
        }
      ],
      "source": [
        "import pandas as pd\n",
        "import numpy as np\n",
        "import tensorflow as tf\n",
        "import matplotlib.pyplot as plt\n",
        "from sklearn.model_selection import train_test_split\n",
        "from tensorflow.keras.callbacks import EarlyStopping\n",
        "import re\n",
        "import os\n",
        "import urllib.request\n",
        "from tqdm import tqdm\n",
        "from transformers import BertTokenizer, TFBertForSequenceClassification, AdamWeightDecay\n",
        "from tensorflow.keras.models import Model\n",
        "# from tensorflow.keras.optimizers import Adam\n",
        "from transformers import AdamWeightDecay\n",
        "from matplotlib import rcParams\n",
        "from sklearn.metrics import classification_report, confusion_matrix, f1_score\n",
        "import seaborn as sns\n",
        "\n",
        "rcParams['font.family'] = 'AppleGothic'\n",
        "plt.rcParams['axes.unicode_minus'] = False"
      ]
    },
    {
      "cell_type": "code",
      "execution_count": 3,
      "metadata": {},
      "outputs": [
        {
          "name": "stdout",
          "output_type": "stream",
          "text": [
            "Num GPUs Available:  1\n"
          ]
        }
      ],
      "source": [
        "print(\"Num GPUs Available: \", len(tf.config.list_physical_devices('GPU')))"
      ]
    },
    {
      "cell_type": "code",
      "execution_count": null,
      "metadata": {
        "colab": {
          "base_uri": "https://localhost:8080/"
        },
        "id": "8wC6Rnt6iCxB",
        "outputId": "23d687d4-646b-4afa-f8ac-e5ce7a210c67"
      },
      "outputs": [
        {
          "data": {
            "text/plain": [
              "('../01_데이터수집/data/finance_data.csv', <http.client.HTTPMessage at 0x37503c9a0>)"
            ]
          },
          "execution_count": 5,
          "metadata": {},
          "output_type": "execute_result"
        }
      ],
      "source": [
        "os.makedirs(\"../01_데이터수집/data\", exist_ok=True)\n",
        "\n",
        "urllib.request.urlretrieve(\"https://raw.githubusercontent.com/ukairia777/finance_sentiment_corpus/main/finance_data.csv\", filename=\"../01_데이터수집/data/finance_data.csv\")"
      ]
    },
    {
      "cell_type": "code",
      "execution_count": 7,
      "metadata": {
        "colab": {
          "base_uri": "https://localhost:8080/"
        },
        "id": "1aP870z3iRc_",
        "outputId": "84b0007f-0732-4872-e647-d01c5334efe7"
      },
      "outputs": [
        {
          "name": "stdout",
          "output_type": "stream",
          "text": [
            "총 샘플의 수 : 4846\n"
          ]
        }
      ],
      "source": [
        "data = pd.read_csv('../01_데이터수집/data/finance_data.csv')\n",
        "print('총 샘플의 수 :',len(data))"
      ]
    },
    {
      "cell_type": "code",
      "execution_count": 8,
      "metadata": {
        "colab": {
          "base_uri": "https://localhost:8080/",
          "height": 424
        },
        "id": "9eEIdsG4iZYf",
        "outputId": "222a027b-fd6c-4820-c662-7cb50f59377e"
      },
      "outputs": [
        {
          "data": {
            "application/vnd.microsoft.datawrangler.viewer.v0+json": {
              "columns": [
                {
                  "name": "index",
                  "rawType": "int64",
                  "type": "integer"
                },
                {
                  "name": "labels",
                  "rawType": "object",
                  "type": "string"
                },
                {
                  "name": "sentence",
                  "rawType": "object",
                  "type": "string"
                },
                {
                  "name": "kor_sentence",
                  "rawType": "object",
                  "type": "string"
                }
              ],
              "ref": "fda09dac-3cbd-41be-a251-effd70c8d14c",
              "rows": [
                [
                  "0",
                  "neutral",
                  "According to Gran, the company has no plans to move all production to Russia, although that is where the company is growing.",
                  "Gran에 따르면, 그 회사는 회사가 성장하고 있는 곳이지만, 모든 생산을 러시아로 옮길 계획이 없다고 한다."
                ],
                [
                  "1",
                  "neutral",
                  "Technopolis plans to develop in stages an area of no less than 100,000 square meters in order to host companies working in computer technologies and telecommunications, the statement said.",
                  "테크노폴리스는 컴퓨터 기술과 통신 분야에서 일하는 회사들을 유치하기 위해 10만 평방미터 이상의 면적을 단계적으로 개발할 계획이라고 성명은 밝혔다."
                ],
                [
                  "2",
                  "negative",
                  "The international electronic industry company Elcoteq has laid off tens of employees from its Tallinn facility ; contrary to earlier layoffs the company contracted the ranks of its office workers, the daily Postimees reported.",
                  "국제 전자산업 회사인 엘코텍은 탈린 공장에서 수십 명의 직원을 해고했으며, 이전의 해고와는 달리 회사는 사무직 직원 수를 줄였다고 일간 포스티메스가 보도했다."
                ],
                [
                  "3",
                  "positive",
                  "With the new production plant the company would increase its capacity to meet the expected increase in demand and would improve the use of raw materials and therefore increase the production profitability.",
                  "새로운 생산공장으로 인해 회사는 예상되는 수요 증가를 충족시킬 수 있는 능력을 증가시키고 원자재 사용을 개선하여 생산 수익성을 높일 것이다."
                ],
                [
                  "4",
                  "positive",
                  "According to the company's updated strategy for the years 2009-2012, Basware targets a long-term net sales growth in the range of 20 % -40 % with an operating profit margin of 10 % -20 % of net sales.",
                  "2009-2012년 회사의 업데이트된 전략에 따르면, Basware는 20% - 40% 범위의 장기적인 순매출 성장을 목표로 하고 있으며, 영업이익률은 순매출액의 10% - 20%를 목표로 하고 있습니다."
                ],
                [
                  "5",
                  "positive",
                  "FINANCING OF ASPOCOMP'S GROWTH Aspocomp is aggressively pursuing its growth strategy by increasingly focusing on technologically more demanding HDI printed circuit boards PCBs.",
                  "ASPOCOMP의 성장기에 대한 자금 조달은 기술적으로 더 까다로운 HDI 인쇄 회로 기판 PCB에 점점 더 초점을 맞추면서 성장 전략을 공격적으로 추진하고 있다."
                ],
                [
                  "6",
                  "positive",
                  "For the last quarter of 2010, Componenta's net sales doubled to EUR131m from EUR76m for the same period a year earlier, while it moved to a zero pre-tax profit from a pre-tax loss of EUR7m.",
                  "2010년 4분기 Componenta의 순매출은 전년 동기의 7600만 유로에서 2배인 13100만 유로로 증가했으며, 세전 손실 7백만 유로에서 세전 수익 0으로 전환되었다."
                ],
                [
                  "7",
                  "positive",
                  "In the third quarter of 2010, net sales increased by 5.2 % to EUR 205.5 mn, and operating profit by 34.9 % to EUR 23.5 mn.",
                  "2010년 3분기 순매출은 5.2%, 영업이익은 34.9% 증가한 23.5MN을 기록했다."
                ],
                [
                  "8",
                  "positive",
                  "Operating profit rose to EUR 13.1 mn from EUR 8.7 mn in the corresponding period in 2007 representing 7.7 % of net sales.",
                  "영업이익은 2007년 해당 기간의 8.7 mn에서 13.1 mn으로 증가하여 순매출액의 7.7%를 차지했다."
                ],
                [
                  "9",
                  "positive",
                  "Operating profit totalled EUR 21.1 mn, up from EUR 18.6 mn in 2007, representing 9.7 % of net sales.",
                  "영업이익은 총 21.1 유로로 2007년 18.6 mn에서 증가하여 순매출의 9.7%를 차지했다."
                ],
                [
                  "10",
                  "positive",
                  "TeliaSonera TLSN said the offer is in line with its strategy to increase its ownership in core business holdings and would strengthen Eesti Telekom's offering to its customers.",
                  "텔리아소네라 TLSN은 이번 제안이 핵심 사업 보유에 대한 지분을 늘리기 위한 전략과 부합하며 에스티텔레콤의 고객 제안을 강화할 것이라고 밝혔다."
                ],
                [
                  "11",
                  "positive",
                  "STORA ENSO, NORSKE SKOG, M-REAL, UPM-KYMMENE Credit Suisse First Boston ( CFSB ) raised the fair value for shares in four of the largest Nordic forestry groups.",
                  "STORA ENSO, NORSKE SKOG, M-REAL, UPM-KYMMENE Credit Suisse First Boston(CFSB)은 북유럽 삼림 그룹 중 4곳의 주식에 대한 공정가치를 상향 조정했다."
                ],
                [
                  "12",
                  "positive",
                  "A purchase agreement for 7,200 tons of gasoline with delivery at the Hamina terminal, Finland, was signed with Neste Oil OYj at the average Platts index for this September plus eight US dollars per month.",
                  "핀란드 하미나 터미널에서 인도하는 휘발유 7,200t에 대한 구매협약이 올 9월 플랫츠 평균지수에서 네스테오일 OYJ와 월 8달러(약 8만 원)로 체결됐다."
                ],
                [
                  "13",
                  "positive",
                  "Finnish Talentum reports its operating profit increased to EUR 20.5 mn in 2005 from EUR 9.3 mn in 2004, and net sales totaled EUR 103.3 mn, up from EUR 96.4 mn.",
                  "핀란드 탈렌툼은 영업이익이 2004년 9.3 mn에서 2005년 20.5 mn으로 증가했으며, 순매출액은 96.4 mn에서 103.3 mn으로 증가했다고 발표했다."
                ],
                [
                  "14",
                  "positive",
                  "Clothing retail chain Sepp+Æl+Æ's sales increased by 8 % to EUR 155.2 mn, and operating profit rose to EUR 31.1 mn from EUR 17.1 mn in 2004.",
                  "의류 소매 체인 셉+엘+엘+엘은 매출이 8% 증가한 155.2만 유로, 영업이익은 2004년 17.1만 유로에서 31.1만 유로로 증가했다."
                ],
                [
                  "15",
                  "positive",
                  "Consolidated net sales increased 16 % to reach EUR74 .8 m, while operating profit amounted to EUR0 .9 m compared to a loss of EUR0 .7 m in the prior year period.",
                  "연결 순매출액은 16% 증가하여 74.8백만 유로에 달했고, 영업이익은 전년도의 0.7백만 유로에 비해 0.9백만 유로에 달했다."
                ],
                [
                  "16",
                  "positive",
                  "Foundries division reports its sales increased by 9.7 % to EUR 63.1 mn from EUR 57.5 mn in the corresponding period in 2006, and sales of the Machine Shop division increased by 16.4 % to EUR 41.2 mn from EUR 35.4 mn in the corresponding period in 2006.",
                  "주조 공장 부문은 매출이 2006년 해당 기간의 57.5 mn에서 63.1 mn으로 9.7% 증가했으며, 기계 공장 부문 매출은 2006년 해당 기간의 35.4 mn에서 41.2 mn으로 16.4% 증가했다고 보고했습니다."
                ],
                [
                  "17",
                  "positive",
                  "HELSINKI ( AFX ) - Shares closed higher, led by Nokia after it announced plans to team up with Sanyo to manufacture 3G handsets, and by Nokian Tyres after its fourth-quarter earnings report beat analysts' expectations, dealers said.",
                  "헬싱키 (AFX) &shy; 노키아가 산요와 손잡고 3G 단말기를 제조할 계획을 발표한 후, 노키안 타이어가 4분기 수익보고서를 발표한 후, 주가는 분석가들의 예상을 깨고 상승 마감했다고 딜러들은 말했다."
                ],
                [
                  "18",
                  "positive",
                  "Incap Contract Manufacturing Services Pvt Ltd, a subsidiary of Incap Corporation of Finland, plans to double its revenues by 2007-2008.",
                  "핀란드 인셉트 코퍼레이션의 자회사인 인셉트 컨트랙트 제조 서비스 Pvt Ltd는 2007-2008년까지 수익을 두 배로 늘릴 계획이다."
                ],
                [
                  "19",
                  "positive",
                  "Its board of directors will propose a dividend of EUR0 .12 per share for 2010, up from the EUR0 .08 per share paid in 2009.",
                  "이사회는 2009년 주당 0.08유로에서 2010년 주당 0.12유로의 배당금을 제안할 예정이다."
                ],
                [
                  "20",
                  "positive",
                  "Lifetree was founded in 2000, and its revenues have risen on an average by 40 % with margins in late 30s.",
                  "라이프트리는 2000년에 설립되었으며, 30대 후반 마진과 함께 수익이 평균 40% 상승했습니다."
                ],
                [
                  "21",
                  "positive",
                  "( Filippova ) A trilateral agreement on investment in the construction of a technology park in St Petersburg was to have been signed in the course of the forum, Days of the Russian Economy, that opened in Helsinki today.",
                  "상트페테르부르크의 기술단지 건설에 대한 3국간 투자협정은 오늘 헬싱키에서 개막된 '러시아 경제의 날' 포럼 과정에서 체결될 예정이었다."
                ],
                [
                  "22",
                  "positive",
                  "MegaFon's subscriber base increased 16.1 % in 2009 to 50.5 million users as of December 31, while its market share by the number of customers amounted to 24 % as of late 2009, up from 23 % as of late 2008, according to TeliaSonera estimates.",
                  "텔리아소네라 추산에 따르면 메가폰의 가입자 기반은 2009년 16.1% 증가한 5,050만명으로, 고객 수 대비 시장점유율은 2009년 말 현재 24%로 2008년 말 23%보다 높아졌다."
                ],
                [
                  "23",
                  "positive",
                  "Net income from life insurance doubled to EUR 6.8 mn from EUR 3.2 mn, and net income from non-life insurance rose to EUR 5.2 mn from EUR 1.5 mn in the corresponding period in 2009.",
                  "생명보험 순이익은 3.2mn에서 6.8mn으로 2배 증가했고, 손해보험 순이익은 2009년 해당 기간 1.5mn에서 5.2mn으로 증가했다."
                ],
                [
                  "24",
                  "positive",
                  "Net sales increased to EUR193 .3 m from EUR179 .9 m and pretax profit rose by 34.2 % to EUR43 .1 m. ( EUR1 = USD1 .4 )",
                  "순매출액은 유로179.9m에서 유로193.3m로 증가했고 세전 이익은 유로43.1m로 34.2% 증가했다. (유로1 = USD1.4)"
                ],
                [
                  "25",
                  "positive",
                  "Net sales surged by 18.5 % to EUR167 .8 m. Teleste said that EUR20 .4 m, or 12.2 %, of the sales came from the acquisitions made in 2009.",
                  "순매출액은 18.5% 증가하여 유로167.8m를 기록했다. Teleste는 매출의 12.2%인 20.4M유로가 2009년에 이루어진 인수에서 발생했다고 밝혔다."
                ],
                [
                  "26",
                  "positive",
                  "Nordea Group's operating profit increased in 2010 by 18 percent year-on-year to 3.64 billion euros and total revenue by 3 percent to 9.33 billion euros.",
                  "노르데아그룹은 2010년 영업이익이 전년 대비 18% 증가한 36억4000만 유로, 총매출은 3% 증가한 93억3000만 유로를 기록했다."
                ],
                [
                  "27",
                  "positive",
                  "Operating profit for the nine-month period increased from EUR13 .6 m, while net sales increased from EUR394 .7 m, as compared to the corresponding period in 2005.",
                  "9개월간의 영업이익은 13.6억 유로에서 증가했고 순매출은 2005년 같은 기간에 비해 394.7억 유로에서 증가했다."
                ],
                [
                  "28",
                  "positive",
                  "Operating profit for the nine-month period increased from EUR3 .1 m and net sales increased from EUR61 .5 m, as compared to the corresponding period in 2007.",
                  "2007년 같은 기간에 비해 9개월 영업이익은 .1억 유로에서 증가하였고 순매출은 .5억 유로에서 증가하였다."
                ],
                [
                  "29",
                  "positive",
                  "Operating profit for the three-month period increased from EUR1 .2 m, while revenue increased from EUR20 .2 m, as compared to the corresponding period in 2005.",
                  "3개월간의 영업이익은 2005년 같은 기간에 비해 .2 m 유로에서 증가하였고, 수익은 .2 m 유로에서 증가하였다."
                ],
                [
                  "30",
                  "positive",
                  "The Brazilian unit of Finnish security solutions provider F-Secure signed up 1,500 new clients last year, online news source Reseller Web quoted the division's commercial director, Vladimir Brand+_o, as saying.",
                  "온라인 뉴스 리셀러 웹은 핀란드 보안 솔루션 공급업체인 F-Secure의 브라질 사업부가 지난해 1,500명의 신규 고객을 유치했다고 블라디미르 브랜드+_o의 말을 인용 보도했다."
                ],
                [
                  "31",
                  "positive",
                  "The company's net profit rose 11.4 % on the year to 82.2 million euros in 2005 on sales of 686.5 million euros, 13.8 % up on the year, the company said earlier.",
                  "2005년 순이익은 전년 대비 11.4% 증가한 8,220만 유로로 전년 대비 13.8% 증가한 6억 8,650만 유로 매출을 기록했다고 앞서 밝혔다."
                ],
                [
                  "32",
                  "positive",
                  "The Lithuanian beer market made up 14.41 million liters in January, a rise of 0.8 percent from the year-earlier figure, the Lithuanian Brewers' Association reporting citing the results from its members.",
                  "리투아니아 맥주 시장은 1월 1441만ℓ로 전년 동기 대비 0.8% 증가했다고 리투아니아 맥주협회가 회원들의 결과를 인용해 보도했다."
                ],
                [
                  "33",
                  "positive",
                  "Viking Line's cargo revenue increased by 5.4 % to EUR 21.46 mn, and cargo volume increased by 2.4 % to 70,116 cargo units.",
                  "바이킹 라인의 화물 수입은 5.4% 증가한 21.46mn, 화물 물동량은 2.4% 증가한 7만116대를 기록했다."
                ],
                [
                  "34",
                  "positive",
                  "The fair value of the property portfolio doubled as a result of the Kapiteeli acquisition and totalled EUR 2,686.2 1,259.7 million.",
                  "부동산 포트폴리오의 공정가치는 카피텔리 인수의 결과로 두 배가 되었고 총 2,686.2 유로 1,259.7백만 유로였다."
                ],
                [
                  "35",
                  "positive",
                  "10 February 2011 - Finnish media company Sanoma Oyj HEL : SAA1V said yesterday its 2010 net profit almost tripled to EUR297 .3 m from EUR107 .1 m for 2009 and announced a proposal for a raised payout.",
                  "2011년 2월 10일 - 핀란드 미디어 회사 Sanoma Oyj HEL: SAA1V는 2010년 순이익이 2009년 EUR107.1m에서 거의 3배인 EUR297.3m로 증가했다고 어제 발표했으며, 급여 인상을 제안했습니다."
                ],
                [
                  "36",
                  "positive",
                  "A Helsinki : ELIiV today reported EPS of EUR1 .13 for 2009, an increase over EPS of EUR1 .12 in 2008.",
                  "헬싱키 : ELIiV는 오늘 2009년 EPS가 1.13유로로 2008년 EPS 1.12유로에 비해 증가했다고 보고했다."
                ],
                [
                  "37",
                  "positive",
                  "Aspo Plc STOCK EXCHANGE RELEASE February 11, 2011 at8 .45 a.m. ESL Shipping Ltd, part of Aspo Group, has signed a new, long-term contract with Rautaruukki Corporation for the marine transport of raw materials on the Baltic Sea.",
                  "2011년 2월 11일 오전 8시 45분 아스포 주식 거래소 릴리즈. 아스포그룹 계열인 ESL해운이 라우타루키사와 발트해 원재료의 해상 운송을 위한 새로운 장기 계약을 체결했다."
                ],
                [
                  "38",
                  "positive",
                  "Commission income increased by 22 % to EUR 4.4 mn, and lending volume rose by 13.5 %.",
                  "수수료 수입은 22% 증가한 4.4 mn으로, 대출 규모는 13.5% 증가했다."
                ],
                [
                  "39",
                  "positive",
                  "In January, traffic, measured in revenue passenger kilometres RPK, went up by 3.2 % and capacity, measured in available seat kilometres ASK, rose by 12.2 %.",
                  "1월에 수익 승객 킬로미터 RPK로 측정한 교통량은 3.2%, 가용 좌석 킬로미터 ASK로 측정한 수용량은 12.2% 증가했다."
                ],
                [
                  "40",
                  "positive",
                  "In January-September 2010, Fiskars' net profit went up by 14 % year-on-year to EUR 65.4 million and net sales to EUR 525.3 million from EUR 487.7 million.",
                  "2010년 1월부터 9월까지 피스카의 순이익은 전년 동기 대비 14% 증가한 6540만 유로, 순매출액은 4억8770만 유로에서 5억2530만 유로로 증가했다."
                ],
                [
                  "41",
                  "positive",
                  "Net income from life insurance rose to EUR 16.5 mn from EUR 14.0 mn, and net income from non-life insurance to EUR 22.6 mn from EUR 15.2 mn in 2009.",
                  "생명보험 순이익은 2009년 14.0mn에서 16.5mn로, 손해보험 순이익은 2009년 15.2mn에서 22.6mn으로 증가했다."
                ],
                [
                  "42",
                  "positive",
                  "Nyrstar has also agreed to supply to Talvivaara up to 150,000 tonnes of sulphuric acid per annum for use in Talvivaara's leaching process during the period of supply of the zinc in concentrate.",
                  "Nyrstar는 또한 농축된 아연이 공급되는 기간 동안 Talvivaara의 침출 공정에 사용하기 위해 Talvivaara에 연간 최대 15만 톤의 황산을 공급하기로 합의했다."
                ],
                [
                  "43",
                  "positive",
                  "Sales for both the Department Store Division and Hobby Hall increased by 7 %, while sales for the clothing store subsidiary Seppala decreased by 4 %.",
                  "백화점 부문과 하비홀의 매출은 모두 7% 증가했고 의류 매장 자회사 세팔라의 매출은 4% 감소했다."
                ],
                [
                  "44",
                  "positive",
                  "Sales have risen in other export markets.",
                  "다른 수출 시장에서도 매출이 증가했다."
                ],
                [
                  "45",
                  "positive",
                  "Sales increased due to growing market rates and increased operations.",
                  "시장금리 상승과 영업 증가 등으로 매출이 증가했다."
                ],
                [
                  "46",
                  "positive",
                  "The agreement strengthens our long-term partnership with Nokia Siemens Networks.",
                  "이번 계약으로 노키아 지멘스 네트웍스와의 장기적인 파트너십이 강화되었습니다."
                ],
                [
                  "47",
                  "positive",
                  "The agreement was signed with Biohit Healthcare Ltd, the UK-based subsidiary of Biohit Oyj, a Finnish public company which develops, manufactures and markets liquid handling products and diagnostic test systems.",
                  "이 계약은 액체 취급 제품 및 진단 테스트 시스템을 개발, 제조 및 판매하는 핀란드 공기업 바이오히트 Oyj의 영국 자회사인 바이오히트 헬스케어 Ltd와 체결되었다."
                ],
                [
                  "48",
                  "positive",
                  "The company also estimates the already carried out investments to lead to an increase in its net sales for 2010 from 2009 when they reached EUR 141.7 million.",
                  "회사는 또 이미 진행된 투자가 2009년 1억4,170만 유로에 달했던 2010년 순매출액 증가로 이어질 것으로 추산하고 있다."
                ],
                [
                  "49",
                  "positive",
                  "The company's order book stood at 1.5 bln euro $ 2.2 bln on September 30, 2007, up by 24.2 pct on the year, with international orders amounting to 365 mln euro $ 534.3 mln.",
                  "2007년 9월 30일 이 회사의 주문 장부는 1.5 bln 유로 2.2 bln으로 전년 동기 대비 24.2 pct 상승했으며, 국제 주문량은 365 mln 유로 534.3 mln에 달했다."
                ]
              ],
              "shape": {
                "columns": 3,
                "rows": 4846
              }
            },
            "text/html": [
              "<div>\n",
              "<style scoped>\n",
              "    .dataframe tbody tr th:only-of-type {\n",
              "        vertical-align: middle;\n",
              "    }\n",
              "\n",
              "    .dataframe tbody tr th {\n",
              "        vertical-align: top;\n",
              "    }\n",
              "\n",
              "    .dataframe thead th {\n",
              "        text-align: right;\n",
              "    }\n",
              "</style>\n",
              "<table border=\"1\" class=\"dataframe\">\n",
              "  <thead>\n",
              "    <tr style=\"text-align: right;\">\n",
              "      <th></th>\n",
              "      <th>labels</th>\n",
              "      <th>sentence</th>\n",
              "      <th>kor_sentence</th>\n",
              "    </tr>\n",
              "  </thead>\n",
              "  <tbody>\n",
              "    <tr>\n",
              "      <th>0</th>\n",
              "      <td>neutral</td>\n",
              "      <td>According to Gran, the company has no plans to...</td>\n",
              "      <td>Gran에 따르면, 그 회사는 회사가 성장하고 있는 곳이지만, 모든 생산을 러시아로...</td>\n",
              "    </tr>\n",
              "    <tr>\n",
              "      <th>1</th>\n",
              "      <td>neutral</td>\n",
              "      <td>Technopolis plans to develop in stages an area...</td>\n",
              "      <td>테크노폴리스는 컴퓨터 기술과 통신 분야에서 일하는 회사들을 유치하기 위해 10만 평...</td>\n",
              "    </tr>\n",
              "    <tr>\n",
              "      <th>2</th>\n",
              "      <td>negative</td>\n",
              "      <td>The international electronic industry company ...</td>\n",
              "      <td>국제 전자산업 회사인 엘코텍은 탈린 공장에서 수십 명의 직원을 해고했으며, 이전의 ...</td>\n",
              "    </tr>\n",
              "    <tr>\n",
              "      <th>3</th>\n",
              "      <td>positive</td>\n",
              "      <td>With the new production plant the company woul...</td>\n",
              "      <td>새로운 생산공장으로 인해 회사는 예상되는 수요 증가를 충족시킬 수 있는 능력을 증가...</td>\n",
              "    </tr>\n",
              "    <tr>\n",
              "      <th>4</th>\n",
              "      <td>positive</td>\n",
              "      <td>According to the company's updated strategy fo...</td>\n",
              "      <td>2009-2012년 회사의 업데이트된 전략에 따르면, Basware는 20% - 4...</td>\n",
              "    </tr>\n",
              "    <tr>\n",
              "      <th>...</th>\n",
              "      <td>...</td>\n",
              "      <td>...</td>\n",
              "      <td>...</td>\n",
              "    </tr>\n",
              "    <tr>\n",
              "      <th>4841</th>\n",
              "      <td>negative</td>\n",
              "      <td>LONDON MarketWatch -- Share prices ended lower...</td>\n",
              "      <td>런던 마켓워치 -- 은행주의 반등이 FTSE 100지수의 약세를 상쇄하지 못하면서 ...</td>\n",
              "    </tr>\n",
              "    <tr>\n",
              "      <th>4842</th>\n",
              "      <td>neutral</td>\n",
              "      <td>Rinkuskiai's beer sales fell by 6.5 per cent t...</td>\n",
              "      <td>린쿠스키아의 맥주 판매량은 416만 리터로 6.5% 감소했으며 카우노 알루스의 맥주...</td>\n",
              "    </tr>\n",
              "    <tr>\n",
              "      <th>4843</th>\n",
              "      <td>negative</td>\n",
              "      <td>Operating profit fell to EUR 35.4 mn from EUR ...</td>\n",
              "      <td>영업이익은 2007년 68.8 mn에서 35.4 mn으로 떨어졌으며, 선박 판매 이...</td>\n",
              "    </tr>\n",
              "    <tr>\n",
              "      <th>4844</th>\n",
              "      <td>negative</td>\n",
              "      <td>Net sales of the Paper segment decreased to EU...</td>\n",
              "      <td>페이퍼 부문 순매출은 2008년 2분기 241.1 mn에서 2009년 2분기 221...</td>\n",
              "    </tr>\n",
              "    <tr>\n",
              "      <th>4845</th>\n",
              "      <td>negative</td>\n",
              "      <td>Sales in Finland decreased by 10.5 % in Januar...</td>\n",
              "      <td>핀란드에서의 판매는 1월에 10.5% 감소한 반면, 국외에서의 판매는 17% 감소했다.</td>\n",
              "    </tr>\n",
              "  </tbody>\n",
              "</table>\n",
              "<p>4846 rows × 3 columns</p>\n",
              "</div>"
            ],
            "text/plain": [
              "        labels                                           sentence  \\\n",
              "0      neutral  According to Gran, the company has no plans to...   \n",
              "1      neutral  Technopolis plans to develop in stages an area...   \n",
              "2     negative  The international electronic industry company ...   \n",
              "3     positive  With the new production plant the company woul...   \n",
              "4     positive  According to the company's updated strategy fo...   \n",
              "...        ...                                                ...   \n",
              "4841  negative  LONDON MarketWatch -- Share prices ended lower...   \n",
              "4842   neutral  Rinkuskiai's beer sales fell by 6.5 per cent t...   \n",
              "4843  negative  Operating profit fell to EUR 35.4 mn from EUR ...   \n",
              "4844  negative  Net sales of the Paper segment decreased to EU...   \n",
              "4845  negative  Sales in Finland decreased by 10.5 % in Januar...   \n",
              "\n",
              "                                           kor_sentence  \n",
              "0     Gran에 따르면, 그 회사는 회사가 성장하고 있는 곳이지만, 모든 생산을 러시아로...  \n",
              "1     테크노폴리스는 컴퓨터 기술과 통신 분야에서 일하는 회사들을 유치하기 위해 10만 평...  \n",
              "2     국제 전자산업 회사인 엘코텍은 탈린 공장에서 수십 명의 직원을 해고했으며, 이전의 ...  \n",
              "3     새로운 생산공장으로 인해 회사는 예상되는 수요 증가를 충족시킬 수 있는 능력을 증가...  \n",
              "4     2009-2012년 회사의 업데이트된 전략에 따르면, Basware는 20% - 4...  \n",
              "...                                                 ...  \n",
              "4841  런던 마켓워치 -- 은행주의 반등이 FTSE 100지수의 약세를 상쇄하지 못하면서 ...  \n",
              "4842  린쿠스키아의 맥주 판매량은 416만 리터로 6.5% 감소했으며 카우노 알루스의 맥주...  \n",
              "4843  영업이익은 2007년 68.8 mn에서 35.4 mn으로 떨어졌으며, 선박 판매 이...  \n",
              "4844  페이퍼 부문 순매출은 2008년 2분기 241.1 mn에서 2009년 2분기 221...  \n",
              "4845   핀란드에서의 판매는 1월에 10.5% 감소한 반면, 국외에서의 판매는 17% 감소했다.  \n",
              "\n",
              "[4846 rows x 3 columns]"
            ]
          },
          "execution_count": 8,
          "metadata": {},
          "output_type": "execute_result"
        }
      ],
      "source": [
        "data"
      ]
    },
    {
      "cell_type": "code",
      "execution_count": 9,
      "metadata": {
        "colab": {
          "base_uri": "https://localhost:8080/",
          "height": 206
        },
        "id": "t9XJj_iziaYh",
        "outputId": "eabc6763-3d47-4b01-8b70-2e2cf1888a79"
      },
      "outputs": [
        {
          "name": "stderr",
          "output_type": "stream",
          "text": [
            "/var/folders/x1/g6cgmw8x0b31zv5jcsxfxn880000gn/T/ipykernel_3488/2806054088.py:1: FutureWarning: Downcasting behavior in `replace` is deprecated and will be removed in a future version. To retain the old behavior, explicitly call `result.infer_objects(copy=False)`. To opt-in to the future behavior, set `pd.set_option('future.no_silent_downcasting', True)`\n",
            "  data['labels'] = data['labels'].replace(['neutral', 'positive', 'negative'],[0, 1, 2])\n"
          ]
        },
        {
          "data": {
            "application/vnd.microsoft.datawrangler.viewer.v0+json": {
              "columns": [
                {
                  "name": "index",
                  "rawType": "int64",
                  "type": "integer"
                },
                {
                  "name": "labels",
                  "rawType": "int64",
                  "type": "integer"
                },
                {
                  "name": "sentence",
                  "rawType": "object",
                  "type": "string"
                },
                {
                  "name": "kor_sentence",
                  "rawType": "object",
                  "type": "string"
                }
              ],
              "ref": "a84334e3-38b5-4d1b-acab-994fc1b5a450",
              "rows": [
                [
                  "0",
                  "0",
                  "According to Gran, the company has no plans to move all production to Russia, although that is where the company is growing.",
                  "Gran에 따르면, 그 회사는 회사가 성장하고 있는 곳이지만, 모든 생산을 러시아로 옮길 계획이 없다고 한다."
                ],
                [
                  "1",
                  "0",
                  "Technopolis plans to develop in stages an area of no less than 100,000 square meters in order to host companies working in computer technologies and telecommunications, the statement said.",
                  "테크노폴리스는 컴퓨터 기술과 통신 분야에서 일하는 회사들을 유치하기 위해 10만 평방미터 이상의 면적을 단계적으로 개발할 계획이라고 성명은 밝혔다."
                ],
                [
                  "2",
                  "2",
                  "The international electronic industry company Elcoteq has laid off tens of employees from its Tallinn facility ; contrary to earlier layoffs the company contracted the ranks of its office workers, the daily Postimees reported.",
                  "국제 전자산업 회사인 엘코텍은 탈린 공장에서 수십 명의 직원을 해고했으며, 이전의 해고와는 달리 회사는 사무직 직원 수를 줄였다고 일간 포스티메스가 보도했다."
                ],
                [
                  "3",
                  "1",
                  "With the new production plant the company would increase its capacity to meet the expected increase in demand and would improve the use of raw materials and therefore increase the production profitability.",
                  "새로운 생산공장으로 인해 회사는 예상되는 수요 증가를 충족시킬 수 있는 능력을 증가시키고 원자재 사용을 개선하여 생산 수익성을 높일 것이다."
                ],
                [
                  "4",
                  "1",
                  "According to the company's updated strategy for the years 2009-2012, Basware targets a long-term net sales growth in the range of 20 % -40 % with an operating profit margin of 10 % -20 % of net sales.",
                  "2009-2012년 회사의 업데이트된 전략에 따르면, Basware는 20% - 40% 범위의 장기적인 순매출 성장을 목표로 하고 있으며, 영업이익률은 순매출액의 10% - 20%를 목표로 하고 있습니다."
                ]
              ],
              "shape": {
                "columns": 3,
                "rows": 5
              }
            },
            "text/html": [
              "<div>\n",
              "<style scoped>\n",
              "    .dataframe tbody tr th:only-of-type {\n",
              "        vertical-align: middle;\n",
              "    }\n",
              "\n",
              "    .dataframe tbody tr th {\n",
              "        vertical-align: top;\n",
              "    }\n",
              "\n",
              "    .dataframe thead th {\n",
              "        text-align: right;\n",
              "    }\n",
              "</style>\n",
              "<table border=\"1\" class=\"dataframe\">\n",
              "  <thead>\n",
              "    <tr style=\"text-align: right;\">\n",
              "      <th></th>\n",
              "      <th>labels</th>\n",
              "      <th>sentence</th>\n",
              "      <th>kor_sentence</th>\n",
              "    </tr>\n",
              "  </thead>\n",
              "  <tbody>\n",
              "    <tr>\n",
              "      <th>0</th>\n",
              "      <td>0</td>\n",
              "      <td>According to Gran, the company has no plans to...</td>\n",
              "      <td>Gran에 따르면, 그 회사는 회사가 성장하고 있는 곳이지만, 모든 생산을 러시아로...</td>\n",
              "    </tr>\n",
              "    <tr>\n",
              "      <th>1</th>\n",
              "      <td>0</td>\n",
              "      <td>Technopolis plans to develop in stages an area...</td>\n",
              "      <td>테크노폴리스는 컴퓨터 기술과 통신 분야에서 일하는 회사들을 유치하기 위해 10만 평...</td>\n",
              "    </tr>\n",
              "    <tr>\n",
              "      <th>2</th>\n",
              "      <td>2</td>\n",
              "      <td>The international electronic industry company ...</td>\n",
              "      <td>국제 전자산업 회사인 엘코텍은 탈린 공장에서 수십 명의 직원을 해고했으며, 이전의 ...</td>\n",
              "    </tr>\n",
              "    <tr>\n",
              "      <th>3</th>\n",
              "      <td>1</td>\n",
              "      <td>With the new production plant the company woul...</td>\n",
              "      <td>새로운 생산공장으로 인해 회사는 예상되는 수요 증가를 충족시킬 수 있는 능력을 증가...</td>\n",
              "    </tr>\n",
              "    <tr>\n",
              "      <th>4</th>\n",
              "      <td>1</td>\n",
              "      <td>According to the company's updated strategy fo...</td>\n",
              "      <td>2009-2012년 회사의 업데이트된 전략에 따르면, Basware는 20% - 4...</td>\n",
              "    </tr>\n",
              "  </tbody>\n",
              "</table>\n",
              "</div>"
            ],
            "text/plain": [
              "   labels                                           sentence  \\\n",
              "0       0  According to Gran, the company has no plans to...   \n",
              "1       0  Technopolis plans to develop in stages an area...   \n",
              "2       2  The international electronic industry company ...   \n",
              "3       1  With the new production plant the company woul...   \n",
              "4       1  According to the company's updated strategy fo...   \n",
              "\n",
              "                                        kor_sentence  \n",
              "0  Gran에 따르면, 그 회사는 회사가 성장하고 있는 곳이지만, 모든 생산을 러시아로...  \n",
              "1  테크노폴리스는 컴퓨터 기술과 통신 분야에서 일하는 회사들을 유치하기 위해 10만 평...  \n",
              "2  국제 전자산업 회사인 엘코텍은 탈린 공장에서 수십 명의 직원을 해고했으며, 이전의 ...  \n",
              "3  새로운 생산공장으로 인해 회사는 예상되는 수요 증가를 충족시킬 수 있는 능력을 증가...  \n",
              "4  2009-2012년 회사의 업데이트된 전략에 따르면, Basware는 20% - 4...  "
            ]
          },
          "execution_count": 9,
          "metadata": {},
          "output_type": "execute_result"
        }
      ],
      "source": [
        "data['labels'] = data['labels'].replace(['neutral', 'positive', 'negative'],[0, 1, 2])\n",
        "data[:5]"
      ]
    },
    {
      "cell_type": "code",
      "execution_count": 10,
      "metadata": {
        "id": "RNyrW0ynix3O"
      },
      "outputs": [],
      "source": [
        "del data['sentence']"
      ]
    },
    {
      "cell_type": "code",
      "execution_count": 11,
      "metadata": {
        "colab": {
          "base_uri": "https://localhost:8080/",
          "height": 206
        },
        "id": "5Pz9t4U2i35Q",
        "outputId": "e950d978-63d4-49d7-c6e7-f55fe8f251e2"
      },
      "outputs": [
        {
          "data": {
            "application/vnd.microsoft.datawrangler.viewer.v0+json": {
              "columns": [
                {
                  "name": "index",
                  "rawType": "int64",
                  "type": "integer"
                },
                {
                  "name": "labels",
                  "rawType": "int64",
                  "type": "integer"
                },
                {
                  "name": "kor_sentence",
                  "rawType": "object",
                  "type": "string"
                }
              ],
              "ref": "2bd64c8d-400d-477f-b785-48b3546508b2",
              "rows": [
                [
                  "0",
                  "0",
                  "Gran에 따르면, 그 회사는 회사가 성장하고 있는 곳이지만, 모든 생산을 러시아로 옮길 계획이 없다고 한다."
                ],
                [
                  "1",
                  "0",
                  "테크노폴리스는 컴퓨터 기술과 통신 분야에서 일하는 회사들을 유치하기 위해 10만 평방미터 이상의 면적을 단계적으로 개발할 계획이라고 성명은 밝혔다."
                ],
                [
                  "2",
                  "2",
                  "국제 전자산업 회사인 엘코텍은 탈린 공장에서 수십 명의 직원을 해고했으며, 이전의 해고와는 달리 회사는 사무직 직원 수를 줄였다고 일간 포스티메스가 보도했다."
                ],
                [
                  "3",
                  "1",
                  "새로운 생산공장으로 인해 회사는 예상되는 수요 증가를 충족시킬 수 있는 능력을 증가시키고 원자재 사용을 개선하여 생산 수익성을 높일 것이다."
                ],
                [
                  "4",
                  "1",
                  "2009-2012년 회사의 업데이트된 전략에 따르면, Basware는 20% - 40% 범위의 장기적인 순매출 성장을 목표로 하고 있으며, 영업이익률은 순매출액의 10% - 20%를 목표로 하고 있습니다."
                ]
              ],
              "shape": {
                "columns": 2,
                "rows": 5
              }
            },
            "text/html": [
              "<div>\n",
              "<style scoped>\n",
              "    .dataframe tbody tr th:only-of-type {\n",
              "        vertical-align: middle;\n",
              "    }\n",
              "\n",
              "    .dataframe tbody tr th {\n",
              "        vertical-align: top;\n",
              "    }\n",
              "\n",
              "    .dataframe thead th {\n",
              "        text-align: right;\n",
              "    }\n",
              "</style>\n",
              "<table border=\"1\" class=\"dataframe\">\n",
              "  <thead>\n",
              "    <tr style=\"text-align: right;\">\n",
              "      <th></th>\n",
              "      <th>labels</th>\n",
              "      <th>kor_sentence</th>\n",
              "    </tr>\n",
              "  </thead>\n",
              "  <tbody>\n",
              "    <tr>\n",
              "      <th>0</th>\n",
              "      <td>0</td>\n",
              "      <td>Gran에 따르면, 그 회사는 회사가 성장하고 있는 곳이지만, 모든 생산을 러시아로...</td>\n",
              "    </tr>\n",
              "    <tr>\n",
              "      <th>1</th>\n",
              "      <td>0</td>\n",
              "      <td>테크노폴리스는 컴퓨터 기술과 통신 분야에서 일하는 회사들을 유치하기 위해 10만 평...</td>\n",
              "    </tr>\n",
              "    <tr>\n",
              "      <th>2</th>\n",
              "      <td>2</td>\n",
              "      <td>국제 전자산업 회사인 엘코텍은 탈린 공장에서 수십 명의 직원을 해고했으며, 이전의 ...</td>\n",
              "    </tr>\n",
              "    <tr>\n",
              "      <th>3</th>\n",
              "      <td>1</td>\n",
              "      <td>새로운 생산공장으로 인해 회사는 예상되는 수요 증가를 충족시킬 수 있는 능력을 증가...</td>\n",
              "    </tr>\n",
              "    <tr>\n",
              "      <th>4</th>\n",
              "      <td>1</td>\n",
              "      <td>2009-2012년 회사의 업데이트된 전략에 따르면, Basware는 20% - 4...</td>\n",
              "    </tr>\n",
              "  </tbody>\n",
              "</table>\n",
              "</div>"
            ],
            "text/plain": [
              "   labels                                       kor_sentence\n",
              "0       0  Gran에 따르면, 그 회사는 회사가 성장하고 있는 곳이지만, 모든 생산을 러시아로...\n",
              "1       0  테크노폴리스는 컴퓨터 기술과 통신 분야에서 일하는 회사들을 유치하기 위해 10만 평...\n",
              "2       2  국제 전자산업 회사인 엘코텍은 탈린 공장에서 수십 명의 직원을 해고했으며, 이전의 ...\n",
              "3       1  새로운 생산공장으로 인해 회사는 예상되는 수요 증가를 충족시킬 수 있는 능력을 증가...\n",
              "4       1  2009-2012년 회사의 업데이트된 전략에 따르면, Basware는 20% - 4..."
            ]
          },
          "execution_count": 11,
          "metadata": {},
          "output_type": "execute_result"
        }
      ],
      "source": [
        "data[:5]"
      ]
    },
    {
      "cell_type": "code",
      "execution_count": 97,
      "metadata": {
        "colab": {
          "base_uri": "https://localhost:8080/"
        },
        "id": "JkvjJa1Ji7Eo",
        "outputId": "ab2e76cb-c617-45c4-da22-683985e79108"
      },
      "outputs": [
        {
          "name": "stdout",
          "output_type": "stream",
          "text": [
            "결측값 여부 : False\n"
          ]
        }
      ],
      "source": [
        "print('결측값 여부 :',data.isnull().values.any())"
      ]
    },
    {
      "cell_type": "code",
      "execution_count": 98,
      "metadata": {
        "colab": {
          "base_uri": "https://localhost:8080/"
        },
        "id": "UoAyW4Lii8xX",
        "outputId": "df771080-bc2f-414f-a73b-0f15a213eb13"
      },
      "outputs": [
        {
          "name": "stdout",
          "output_type": "stream",
          "text": [
            "kor_sentence 열의 유니크한 값 : 4827\n"
          ]
        }
      ],
      "source": [
        "print('kor_sentence 열의 유니크한 값 :',data['kor_sentence'].nunique())"
      ]
    },
    {
      "cell_type": "code",
      "execution_count": 99,
      "metadata": {
        "id": "cks_QRBfjKBU"
      },
      "outputs": [],
      "source": [
        "duplicate = data[data.duplicated()]"
      ]
    },
    {
      "cell_type": "code",
      "execution_count": 100,
      "metadata": {
        "colab": {
          "base_uri": "https://localhost:8080/",
          "height": 551
        },
        "id": "ZwkZ7T0BjL7d",
        "outputId": "71c8b1dc-5b31-40e3-8beb-7818f7ca8d89"
      },
      "outputs": [
        {
          "data": {
            "application/vnd.microsoft.datawrangler.viewer.v0+json": {
              "columns": [
                {
                  "name": "index",
                  "rawType": "int64",
                  "type": "integer"
                },
                {
                  "name": "labels",
                  "rawType": "int64",
                  "type": "integer"
                },
                {
                  "name": "kor_sentence",
                  "rawType": "object",
                  "type": "string"
                }
              ],
              "ref": "bd0bcd5e-e7fc-4b13-86c5-4504e063e874",
              "rows": [
                [
                  "1099",
                  "0",
                  "이 발표 내용에 대한 책임은 전적으로 발행자에게 있습니다."
                ],
                [
                  "1394",
                  "0",
                  "핀란드 헬싱키에 본사를 둔 레민카이넨 그룹은 토목 공학, 건축 계약, 기술 건축 서비스, 건축 자재 산업 등 건설 산업의 모든 부문에서 운영되고 있다."
                ],
                [
                  "1416",
                  "0",
                  "이 보고서는 블랙 앤 데커, 피스카스, 피스카스 브랜드, 후스크바르나 아웃도어 프로덕츠, K+S 그룹, 료비 테크놀로지스 등 전 세계 주요 및 틈새 업체 614개 기업을 프로파일링하고 있다. 스코츠 미라클그로 컴퍼니와 밴 그룹 주식회사.."
                ],
                [
                  "2396",
                  "0",
                  "알스트롬의 주가는 나스닥 OMX 헬싱키에서 인용되고 있다."
                ],
                [
                  "2567",
                  "0",
                  "SSH 통신 보안 코퍼레이션은 핀란드 헬싱키에 본사를 두고 있다."
                ],
                [
                  "2889",
                  "0",
                  "재정적인 세부사항은 공개되지 않았다."
                ],
                [
                  "2890",
                  "0",
                  "재정적인 세부사항은 공개되지 않았다."
                ],
                [
                  "2892",
                  "0",
                  "금융 조건은 공개되지 않았다."
                ],
                [
                  "3050",
                  "0",
                  "재정적인 세부사항은 제공되지 않았다."
                ],
                [
                  "3051",
                  "0",
                  "재정적인 세부사항은 공개되지 않았다."
                ],
                [
                  "3094",
                  "0",
                  "Proha Plc (Euronext :7327)는 오늘 (5월 19일) 완전 소유 자회사인 Safran Software Solutions AS가 노르웨이에 본사를 둔 투자 그룹인 SNA Holding AS에 49%의 Safran North America LLC 지분을 매각하기로 합의했다고 발표했습니다."
                ],
                [
                  "3206",
                  "0",
                  "공정 및 자원, 산업기계, 건축, 건축, 건설, 전기, 운송, 전자, 화학, 석유화학, 에너지, 정보기술(IT) 등 다양한 산업 분야의 고객을 대상으로 서비스를 제공하고 있다."
                ],
                [
                  "3350",
                  "0",
                  "판매 가격은 공개되지 않았다."
                ],
                [
                  "3538",
                  "0",
                  "아스포의 그룹 구조와 비즈니스 운영은 미리 정의된 일정 없이 지속적으로 개발됩니다."
                ],
                [
                  "3617",
                  "0",
                  "2007년에 에트플랜은 125.2m의 회전율을 기록했다."
                ],
                [
                  "3938",
                  "0",
                  "그 거래의 가치는 공개되지 않았다."
                ]
              ],
              "shape": {
                "columns": 2,
                "rows": 16
              }
            },
            "text/html": [
              "<div>\n",
              "<style scoped>\n",
              "    .dataframe tbody tr th:only-of-type {\n",
              "        vertical-align: middle;\n",
              "    }\n",
              "\n",
              "    .dataframe tbody tr th {\n",
              "        vertical-align: top;\n",
              "    }\n",
              "\n",
              "    .dataframe thead th {\n",
              "        text-align: right;\n",
              "    }\n",
              "</style>\n",
              "<table border=\"1\" class=\"dataframe\">\n",
              "  <thead>\n",
              "    <tr style=\"text-align: right;\">\n",
              "      <th></th>\n",
              "      <th>labels</th>\n",
              "      <th>kor_sentence</th>\n",
              "    </tr>\n",
              "  </thead>\n",
              "  <tbody>\n",
              "    <tr>\n",
              "      <th>1099</th>\n",
              "      <td>0</td>\n",
              "      <td>이 발표 내용에 대한 책임은 전적으로 발행자에게 있습니다.</td>\n",
              "    </tr>\n",
              "    <tr>\n",
              "      <th>1394</th>\n",
              "      <td>0</td>\n",
              "      <td>핀란드 헬싱키에 본사를 둔 레민카이넨 그룹은 토목 공학, 건축 계약, 기술 건축 서...</td>\n",
              "    </tr>\n",
              "    <tr>\n",
              "      <th>1416</th>\n",
              "      <td>0</td>\n",
              "      <td>이 보고서는 블랙 앤 데커, 피스카스, 피스카스 브랜드, 후스크바르나 아웃도어 프로...</td>\n",
              "    </tr>\n",
              "    <tr>\n",
              "      <th>2396</th>\n",
              "      <td>0</td>\n",
              "      <td>알스트롬의 주가는 나스닥 OMX 헬싱키에서 인용되고 있다.</td>\n",
              "    </tr>\n",
              "    <tr>\n",
              "      <th>2567</th>\n",
              "      <td>0</td>\n",
              "      <td>SSH 통신 보안 코퍼레이션은 핀란드 헬싱키에 본사를 두고 있다.</td>\n",
              "    </tr>\n",
              "    <tr>\n",
              "      <th>2889</th>\n",
              "      <td>0</td>\n",
              "      <td>재정적인 세부사항은 공개되지 않았다.</td>\n",
              "    </tr>\n",
              "    <tr>\n",
              "      <th>2890</th>\n",
              "      <td>0</td>\n",
              "      <td>재정적인 세부사항은 공개되지 않았다.</td>\n",
              "    </tr>\n",
              "    <tr>\n",
              "      <th>2892</th>\n",
              "      <td>0</td>\n",
              "      <td>금융 조건은 공개되지 않았다.</td>\n",
              "    </tr>\n",
              "    <tr>\n",
              "      <th>3050</th>\n",
              "      <td>0</td>\n",
              "      <td>재정적인 세부사항은 제공되지 않았다.</td>\n",
              "    </tr>\n",
              "    <tr>\n",
              "      <th>3051</th>\n",
              "      <td>0</td>\n",
              "      <td>재정적인 세부사항은 공개되지 않았다.</td>\n",
              "    </tr>\n",
              "    <tr>\n",
              "      <th>3094</th>\n",
              "      <td>0</td>\n",
              "      <td>Proha Plc (Euronext :7327)는 오늘 (5월 19일) 완전 소유 ...</td>\n",
              "    </tr>\n",
              "    <tr>\n",
              "      <th>3206</th>\n",
              "      <td>0</td>\n",
              "      <td>공정 및 자원, 산업기계, 건축, 건축, 건설, 전기, 운송, 전자, 화학, 석유화...</td>\n",
              "    </tr>\n",
              "    <tr>\n",
              "      <th>3350</th>\n",
              "      <td>0</td>\n",
              "      <td>판매 가격은 공개되지 않았다.</td>\n",
              "    </tr>\n",
              "    <tr>\n",
              "      <th>3538</th>\n",
              "      <td>0</td>\n",
              "      <td>아스포의 그룹 구조와 비즈니스 운영은 미리 정의된 일정 없이 지속적으로 개발됩니다.</td>\n",
              "    </tr>\n",
              "    <tr>\n",
              "      <th>3617</th>\n",
              "      <td>0</td>\n",
              "      <td>2007년에 에트플랜은 125.2m의 회전율을 기록했다.</td>\n",
              "    </tr>\n",
              "    <tr>\n",
              "      <th>3938</th>\n",
              "      <td>0</td>\n",
              "      <td>그 거래의 가치는 공개되지 않았다.</td>\n",
              "    </tr>\n",
              "  </tbody>\n",
              "</table>\n",
              "</div>"
            ],
            "text/plain": [
              "      labels                                       kor_sentence\n",
              "1099       0                   이 발표 내용에 대한 책임은 전적으로 발행자에게 있습니다.\n",
              "1394       0  핀란드 헬싱키에 본사를 둔 레민카이넨 그룹은 토목 공학, 건축 계약, 기술 건축 서...\n",
              "1416       0  이 보고서는 블랙 앤 데커, 피스카스, 피스카스 브랜드, 후스크바르나 아웃도어 프로...\n",
              "2396       0                   알스트롬의 주가는 나스닥 OMX 헬싱키에서 인용되고 있다.\n",
              "2567       0               SSH 통신 보안 코퍼레이션은 핀란드 헬싱키에 본사를 두고 있다.\n",
              "2889       0                               재정적인 세부사항은 공개되지 않았다.\n",
              "2890       0                               재정적인 세부사항은 공개되지 않았다.\n",
              "2892       0                                   금융 조건은 공개되지 않았다.\n",
              "3050       0                               재정적인 세부사항은 제공되지 않았다.\n",
              "3051       0                               재정적인 세부사항은 공개되지 않았다.\n",
              "3094       0  Proha Plc (Euronext :7327)는 오늘 (5월 19일) 완전 소유 ...\n",
              "3206       0  공정 및 자원, 산업기계, 건축, 건축, 건설, 전기, 운송, 전자, 화학, 석유화...\n",
              "3350       0                                   판매 가격은 공개되지 않았다.\n",
              "3538       0     아스포의 그룹 구조와 비즈니스 운영은 미리 정의된 일정 없이 지속적으로 개발됩니다.\n",
              "3617       0                    2007년에 에트플랜은 125.2m의 회전율을 기록했다.\n",
              "3938       0                                그 거래의 가치는 공개되지 않았다."
            ]
          },
          "execution_count": 100,
          "metadata": {},
          "output_type": "execute_result"
        }
      ],
      "source": [
        "duplicate"
      ]
    },
    {
      "cell_type": "code",
      "execution_count": 101,
      "metadata": {
        "colab": {
          "base_uri": "https://localhost:8080/"
        },
        "id": "prnB1Yg5jBt2",
        "outputId": "b0e72b35-ed7d-4c31-e781-5378cff76361"
      },
      "outputs": [
        {
          "name": "stdout",
          "output_type": "stream",
          "text": [
            "총 샘플의 수 : 4827\n"
          ]
        }
      ],
      "source": [
        "# 중복 제거\n",
        "data.drop_duplicates(subset=['kor_sentence'], inplace=True)\n",
        "print('총 샘플의 수 :',len(data))"
      ]
    },
    {
      "cell_type": "code",
      "execution_count": 102,
      "metadata": {
        "colab": {
          "base_uri": "https://localhost:8080/",
          "height": 283
        },
        "id": "StnulPDqjuKX",
        "outputId": "1d679065-7cc0-433d-91be-fe7464ace638"
      },
      "outputs": [
        {
          "data": {
            "text/plain": [
              "<Axes: xlabel='labels'>"
            ]
          },
          "execution_count": 102,
          "metadata": {},
          "output_type": "execute_result"
        },
        {
          "data": {
            "image/png": "[encoded data removed]",
            "text/plain": [
              "<Figure size 640x480 with 1 Axes>"
            ]
          },
          "metadata": {},
          "output_type": "display_data"
        }
      ],
      "source": [
        "data['labels'].value_counts().plot(kind='bar')"
      ]
    },
    {
      "cell_type": "code",
      "execution_count": 103,
      "metadata": {
        "colab": {
          "base_uri": "https://localhost:8080/"
        },
        "id": "dP_BFHlojwiN",
        "outputId": "c081665b-4f69-4d15-b02e-9566bfc57bd5"
      },
      "outputs": [
        {
          "name": "stdout",
          "output_type": "stream",
          "text": [
            "레이블의 분포\n",
            "   labels  count\n",
            "0       0   2861\n",
            "1       1   1362\n",
            "2       2    604\n"
          ]
        }
      ],
      "source": [
        "print('레이블의 분포')\n",
        "print(data.groupby('labels').size().reset_index(name='count'))"
      ]
    },
    {
      "cell_type": "code",
      "execution_count": 104,
      "metadata": {
        "colab": {
          "base_uri": "https://localhost:8080/"
        },
        "id": "CfQdxYqMj3o8",
        "outputId": "e3adf4ef-9e82-4ac7-a624-6fe56f9c3df7"
      },
      "outputs": [
        {
          "name": "stdout",
          "output_type": "stream",
          "text": [
            "중립의 비율 = 59.271%\n",
            "긍정의 비율 = 28.216%\n",
            "부정의 비율 = 12.513%\n"
          ]
        }
      ],
      "source": [
        "print(f'중립의 비율 = {round(data[\"labels\"].value_counts()[0]/len(data) * 100,3)}%')\n",
        "print(f'긍정의 비율 = {round(data[\"labels\"].value_counts()[1]/len(data) * 100,3)}%')\n",
        "print(f'부정의 비율 = {round(data[\"labels\"].value_counts()[2]/len(data) * 100,3)}%')"
      ]
    },
    {
      "cell_type": "code",
      "execution_count": 105,
      "metadata": {
        "colab": {
          "base_uri": "https://localhost:8080/",
          "height": 424
        },
        "id": "jKKmVrDRk46e",
        "outputId": "07e6e8cc-7760-484b-eb3b-087ae964cb51"
      },
      "outputs": [
        {
          "data": {
            "application/vnd.microsoft.datawrangler.viewer.v0+json": {
              "columns": [
                {
                  "name": "index",
                  "rawType": "int64",
                  "type": "integer"
                },
                {
                  "name": "labels",
                  "rawType": "int64",
                  "type": "integer"
                },
                {
                  "name": "kor_sentence",
                  "rawType": "object",
                  "type": "string"
                }
              ],
              "ref": "76a42438-45a3-4297-91a9-611d06e53d98",
              "rows": [
                [
                  "0",
                  "0",
                  "Gran에 따르면, 그 회사는 회사가 성장하고 있는 곳이지만, 모든 생산을 러시아로 옮길 계획이 없다고 한다."
                ],
                [
                  "1",
                  "0",
                  "테크노폴리스는 컴퓨터 기술과 통신 분야에서 일하는 회사들을 유치하기 위해 10만 평방미터 이상의 면적을 단계적으로 개발할 계획이라고 성명은 밝혔다."
                ],
                [
                  "2",
                  "2",
                  "국제 전자산업 회사인 엘코텍은 탈린 공장에서 수십 명의 직원을 해고했으며, 이전의 해고와는 달리 회사는 사무직 직원 수를 줄였다고 일간 포스티메스가 보도했다."
                ],
                [
                  "3",
                  "1",
                  "새로운 생산공장으로 인해 회사는 예상되는 수요 증가를 충족시킬 수 있는 능력을 증가시키고 원자재 사용을 개선하여 생산 수익성을 높일 것이다."
                ],
                [
                  "4",
                  "1",
                  "2009-2012년 회사의 업데이트된 전략에 따르면, Basware는 20% - 40% 범위의 장기적인 순매출 성장을 목표로 하고 있으며, 영업이익률은 순매출액의 10% - 20%를 목표로 하고 있습니다."
                ],
                [
                  "5",
                  "1",
                  "ASPOCOMP의 성장기에 대한 자금 조달은 기술적으로 더 까다로운 HDI 인쇄 회로 기판 PCB에 점점 더 초점을 맞추면서 성장 전략을 공격적으로 추진하고 있다."
                ],
                [
                  "6",
                  "1",
                  "2010년 4분기 Componenta의 순매출은 전년 동기의 7600만 유로에서 2배인 13100만 유로로 증가했으며, 세전 손실 7백만 유로에서 세전 수익 0으로 전환되었다."
                ],
                [
                  "7",
                  "1",
                  "2010년 3분기 순매출은 5.2%, 영업이익은 34.9% 증가한 23.5MN을 기록했다."
                ],
                [
                  "8",
                  "1",
                  "영업이익은 2007년 해당 기간의 8.7 mn에서 13.1 mn으로 증가하여 순매출액의 7.7%를 차지했다."
                ],
                [
                  "9",
                  "1",
                  "영업이익은 총 21.1 유로로 2007년 18.6 mn에서 증가하여 순매출의 9.7%를 차지했다."
                ],
                [
                  "10",
                  "1",
                  "텔리아소네라 TLSN은 이번 제안이 핵심 사업 보유에 대한 지분을 늘리기 위한 전략과 부합하며 에스티텔레콤의 고객 제안을 강화할 것이라고 밝혔다."
                ],
                [
                  "11",
                  "1",
                  "STORA ENSO, NORSKE SKOG, M-REAL, UPM-KYMMENE Credit Suisse First Boston(CFSB)은 북유럽 삼림 그룹 중 4곳의 주식에 대한 공정가치를 상향 조정했다."
                ],
                [
                  "12",
                  "1",
                  "핀란드 하미나 터미널에서 인도하는 휘발유 7,200t에 대한 구매협약이 올 9월 플랫츠 평균지수에서 네스테오일 OYJ와 월 8달러(약 8만 원)로 체결됐다."
                ],
                [
                  "13",
                  "1",
                  "핀란드 탈렌툼은 영업이익이 2004년 9.3 mn에서 2005년 20.5 mn으로 증가했으며, 순매출액은 96.4 mn에서 103.3 mn으로 증가했다고 발표했다."
                ],
                [
                  "14",
                  "1",
                  "의류 소매 체인 셉+엘+엘+엘은 매출이 8% 증가한 155.2만 유로, 영업이익은 2004년 17.1만 유로에서 31.1만 유로로 증가했다."
                ],
                [
                  "15",
                  "1",
                  "연결 순매출액은 16% 증가하여 74.8백만 유로에 달했고, 영업이익은 전년도의 0.7백만 유로에 비해 0.9백만 유로에 달했다."
                ],
                [
                  "16",
                  "1",
                  "주조 공장 부문은 매출이 2006년 해당 기간의 57.5 mn에서 63.1 mn으로 9.7% 증가했으며, 기계 공장 부문 매출은 2006년 해당 기간의 35.4 mn에서 41.2 mn으로 16.4% 증가했다고 보고했습니다."
                ],
                [
                  "17",
                  "1",
                  "헬싱키 (AFX) &shy; 노키아가 산요와 손잡고 3G 단말기를 제조할 계획을 발표한 후, 노키안 타이어가 4분기 수익보고서를 발표한 후, 주가는 분석가들의 예상을 깨고 상승 마감했다고 딜러들은 말했다."
                ],
                [
                  "18",
                  "1",
                  "핀란드 인셉트 코퍼레이션의 자회사인 인셉트 컨트랙트 제조 서비스 Pvt Ltd는 2007-2008년까지 수익을 두 배로 늘릴 계획이다."
                ],
                [
                  "19",
                  "1",
                  "이사회는 2009년 주당 0.08유로에서 2010년 주당 0.12유로의 배당금을 제안할 예정이다."
                ],
                [
                  "20",
                  "1",
                  "라이프트리는 2000년에 설립되었으며, 30대 후반 마진과 함께 수익이 평균 40% 상승했습니다."
                ],
                [
                  "21",
                  "1",
                  "상트페테르부르크의 기술단지 건설에 대한 3국간 투자협정은 오늘 헬싱키에서 개막된 '러시아 경제의 날' 포럼 과정에서 체결될 예정이었다."
                ],
                [
                  "22",
                  "1",
                  "텔리아소네라 추산에 따르면 메가폰의 가입자 기반은 2009년 16.1% 증가한 5,050만명으로, 고객 수 대비 시장점유율은 2009년 말 현재 24%로 2008년 말 23%보다 높아졌다."
                ],
                [
                  "23",
                  "1",
                  "생명보험 순이익은 3.2mn에서 6.8mn으로 2배 증가했고, 손해보험 순이익은 2009년 해당 기간 1.5mn에서 5.2mn으로 증가했다."
                ],
                [
                  "24",
                  "1",
                  "순매출액은 유로179.9m에서 유로193.3m로 증가했고 세전 이익은 유로43.1m로 34.2% 증가했다. (유로1 = USD1.4)"
                ],
                [
                  "25",
                  "1",
                  "순매출액은 18.5% 증가하여 유로167.8m를 기록했다. Teleste는 매출의 12.2%인 20.4M유로가 2009년에 이루어진 인수에서 발생했다고 밝혔다."
                ],
                [
                  "26",
                  "1",
                  "노르데아그룹은 2010년 영업이익이 전년 대비 18% 증가한 36억4000만 유로, 총매출은 3% 증가한 93억3000만 유로를 기록했다."
                ],
                [
                  "27",
                  "1",
                  "9개월간의 영업이익은 13.6억 유로에서 증가했고 순매출은 2005년 같은 기간에 비해 394.7억 유로에서 증가했다."
                ],
                [
                  "28",
                  "1",
                  "2007년 같은 기간에 비해 9개월 영업이익은 .1억 유로에서 증가하였고 순매출은 .5억 유로에서 증가하였다."
                ],
                [
                  "29",
                  "1",
                  "3개월간의 영업이익은 2005년 같은 기간에 비해 .2 m 유로에서 증가하였고, 수익은 .2 m 유로에서 증가하였다."
                ],
                [
                  "30",
                  "1",
                  "온라인 뉴스 리셀러 웹은 핀란드 보안 솔루션 공급업체인 F-Secure의 브라질 사업부가 지난해 1,500명의 신규 고객을 유치했다고 블라디미르 브랜드+_o의 말을 인용 보도했다."
                ],
                [
                  "31",
                  "1",
                  "2005년 순이익은 전년 대비 11.4% 증가한 8,220만 유로로 전년 대비 13.8% 증가한 6억 8,650만 유로 매출을 기록했다고 앞서 밝혔다."
                ],
                [
                  "32",
                  "1",
                  "리투아니아 맥주 시장은 1월 1441만ℓ로 전년 동기 대비 0.8% 증가했다고 리투아니아 맥주협회가 회원들의 결과를 인용해 보도했다."
                ],
                [
                  "33",
                  "1",
                  "바이킹 라인의 화물 수입은 5.4% 증가한 21.46mn, 화물 물동량은 2.4% 증가한 7만116대를 기록했다."
                ],
                [
                  "34",
                  "1",
                  "부동산 포트폴리오의 공정가치는 카피텔리 인수의 결과로 두 배가 되었고 총 2,686.2 유로 1,259.7백만 유로였다."
                ],
                [
                  "35",
                  "1",
                  "2011년 2월 10일 - 핀란드 미디어 회사 Sanoma Oyj HEL: SAA1V는 2010년 순이익이 2009년 EUR107.1m에서 거의 3배인 EUR297.3m로 증가했다고 어제 발표했으며, 급여 인상을 제안했습니다."
                ],
                [
                  "36",
                  "1",
                  "헬싱키 : ELIiV는 오늘 2009년 EPS가 1.13유로로 2008년 EPS 1.12유로에 비해 증가했다고 보고했다."
                ],
                [
                  "37",
                  "1",
                  "2011년 2월 11일 오전 8시 45분 아스포 주식 거래소 릴리즈. 아스포그룹 계열인 ESL해운이 라우타루키사와 발트해 원재료의 해상 운송을 위한 새로운 장기 계약을 체결했다."
                ],
                [
                  "38",
                  "1",
                  "수수료 수입은 22% 증가한 4.4 mn으로, 대출 규모는 13.5% 증가했다."
                ],
                [
                  "39",
                  "1",
                  "1월에 수익 승객 킬로미터 RPK로 측정한 교통량은 3.2%, 가용 좌석 킬로미터 ASK로 측정한 수용량은 12.2% 증가했다."
                ],
                [
                  "40",
                  "1",
                  "2010년 1월부터 9월까지 피스카의 순이익은 전년 동기 대비 14% 증가한 6540만 유로, 순매출액은 4억8770만 유로에서 5억2530만 유로로 증가했다."
                ],
                [
                  "41",
                  "1",
                  "생명보험 순이익은 2009년 14.0mn에서 16.5mn로, 손해보험 순이익은 2009년 15.2mn에서 22.6mn으로 증가했다."
                ],
                [
                  "42",
                  "1",
                  "Nyrstar는 또한 농축된 아연이 공급되는 기간 동안 Talvivaara의 침출 공정에 사용하기 위해 Talvivaara에 연간 최대 15만 톤의 황산을 공급하기로 합의했다."
                ],
                [
                  "43",
                  "1",
                  "백화점 부문과 하비홀의 매출은 모두 7% 증가했고 의류 매장 자회사 세팔라의 매출은 4% 감소했다."
                ],
                [
                  "44",
                  "1",
                  "다른 수출 시장에서도 매출이 증가했다."
                ],
                [
                  "45",
                  "1",
                  "시장금리 상승과 영업 증가 등으로 매출이 증가했다."
                ],
                [
                  "46",
                  "1",
                  "이번 계약으로 노키아 지멘스 네트웍스와의 장기적인 파트너십이 강화되었습니다."
                ],
                [
                  "47",
                  "1",
                  "이 계약은 액체 취급 제품 및 진단 테스트 시스템을 개발, 제조 및 판매하는 핀란드 공기업 바이오히트 Oyj의 영국 자회사인 바이오히트 헬스케어 Ltd와 체결되었다."
                ],
                [
                  "48",
                  "1",
                  "회사는 또 이미 진행된 투자가 2009년 1억4,170만 유로에 달했던 2010년 순매출액 증가로 이어질 것으로 추산하고 있다."
                ],
                [
                  "49",
                  "1",
                  "2007년 9월 30일 이 회사의 주문 장부는 1.5 bln 유로 2.2 bln으로 전년 동기 대비 24.2 pct 상승했으며, 국제 주문량은 365 mln 유로 534.3 mln에 달했다."
                ]
              ],
              "shape": {
                "columns": 2,
                "rows": 4827
              }
            },
            "text/html": [
              "<div>\n",
              "<style scoped>\n",
              "    .dataframe tbody tr th:only-of-type {\n",
              "        vertical-align: middle;\n",
              "    }\n",
              "\n",
              "    .dataframe tbody tr th {\n",
              "        vertical-align: top;\n",
              "    }\n",
              "\n",
              "    .dataframe thead th {\n",
              "        text-align: right;\n",
              "    }\n",
              "</style>\n",
              "<table border=\"1\" class=\"dataframe\">\n",
              "  <thead>\n",
              "    <tr style=\"text-align: right;\">\n",
              "      <th></th>\n",
              "      <th>labels</th>\n",
              "      <th>kor_sentence</th>\n",
              "    </tr>\n",
              "  </thead>\n",
              "  <tbody>\n",
              "    <tr>\n",
              "      <th>0</th>\n",
              "      <td>0</td>\n",
              "      <td>Gran에 따르면, 그 회사는 회사가 성장하고 있는 곳이지만, 모든 생산을 러시아로...</td>\n",
              "    </tr>\n",
              "    <tr>\n",
              "      <th>1</th>\n",
              "      <td>0</td>\n",
              "      <td>테크노폴리스는 컴퓨터 기술과 통신 분야에서 일하는 회사들을 유치하기 위해 10만 평...</td>\n",
              "    </tr>\n",
              "    <tr>\n",
              "      <th>2</th>\n",
              "      <td>2</td>\n",
              "      <td>국제 전자산업 회사인 엘코텍은 탈린 공장에서 수십 명의 직원을 해고했으며, 이전의 ...</td>\n",
              "    </tr>\n",
              "    <tr>\n",
              "      <th>3</th>\n",
              "      <td>1</td>\n",
              "      <td>새로운 생산공장으로 인해 회사는 예상되는 수요 증가를 충족시킬 수 있는 능력을 증가...</td>\n",
              "    </tr>\n",
              "    <tr>\n",
              "      <th>4</th>\n",
              "      <td>1</td>\n",
              "      <td>2009-2012년 회사의 업데이트된 전략에 따르면, Basware는 20% - 4...</td>\n",
              "    </tr>\n",
              "    <tr>\n",
              "      <th>...</th>\n",
              "      <td>...</td>\n",
              "      <td>...</td>\n",
              "    </tr>\n",
              "    <tr>\n",
              "      <th>4841</th>\n",
              "      <td>2</td>\n",
              "      <td>런던 마켓워치 -- 은행주의 반등이 FTSE 100지수의 약세를 상쇄하지 못하면서 ...</td>\n",
              "    </tr>\n",
              "    <tr>\n",
              "      <th>4842</th>\n",
              "      <td>0</td>\n",
              "      <td>린쿠스키아의 맥주 판매량은 416만 리터로 6.5% 감소했으며 카우노 알루스의 맥주...</td>\n",
              "    </tr>\n",
              "    <tr>\n",
              "      <th>4843</th>\n",
              "      <td>2</td>\n",
              "      <td>영업이익은 2007년 68.8 mn에서 35.4 mn으로 떨어졌으며, 선박 판매 이...</td>\n",
              "    </tr>\n",
              "    <tr>\n",
              "      <th>4844</th>\n",
              "      <td>2</td>\n",
              "      <td>페이퍼 부문 순매출은 2008년 2분기 241.1 mn에서 2009년 2분기 221...</td>\n",
              "    </tr>\n",
              "    <tr>\n",
              "      <th>4845</th>\n",
              "      <td>2</td>\n",
              "      <td>핀란드에서의 판매는 1월에 10.5% 감소한 반면, 국외에서의 판매는 17% 감소했다.</td>\n",
              "    </tr>\n",
              "  </tbody>\n",
              "</table>\n",
              "<p>4827 rows × 2 columns</p>\n",
              "</div>"
            ],
            "text/plain": [
              "      labels                                       kor_sentence\n",
              "0          0  Gran에 따르면, 그 회사는 회사가 성장하고 있는 곳이지만, 모든 생산을 러시아로...\n",
              "1          0  테크노폴리스는 컴퓨터 기술과 통신 분야에서 일하는 회사들을 유치하기 위해 10만 평...\n",
              "2          2  국제 전자산업 회사인 엘코텍은 탈린 공장에서 수십 명의 직원을 해고했으며, 이전의 ...\n",
              "3          1  새로운 생산공장으로 인해 회사는 예상되는 수요 증가를 충족시킬 수 있는 능력을 증가...\n",
              "4          1  2009-2012년 회사의 업데이트된 전략에 따르면, Basware는 20% - 4...\n",
              "...      ...                                                ...\n",
              "4841       2  런던 마켓워치 -- 은행주의 반등이 FTSE 100지수의 약세를 상쇄하지 못하면서 ...\n",
              "4842       0  린쿠스키아의 맥주 판매량은 416만 리터로 6.5% 감소했으며 카우노 알루스의 맥주...\n",
              "4843       2  영업이익은 2007년 68.8 mn에서 35.4 mn으로 떨어졌으며, 선박 판매 이...\n",
              "4844       2  페이퍼 부문 순매출은 2008년 2분기 241.1 mn에서 2009년 2분기 221...\n",
              "4845       2   핀란드에서의 판매는 1월에 10.5% 감소한 반면, 국외에서의 판매는 17% 감소했다.\n",
              "\n",
              "[4827 rows x 2 columns]"
            ]
          },
          "execution_count": 105,
          "metadata": {},
          "output_type": "execute_result"
        }
      ],
      "source": [
        "data"
      ]
    },
    {
      "cell_type": "code",
      "execution_count": 106,
      "metadata": {
        "colab": {
          "base_uri": "https://localhost:8080/"
        },
        "id": "l8foVC2rkJtF",
        "outputId": "e5526eb9-1b41-4bd4-fc85-752670824790"
      },
      "outputs": [
        {
          "name": "stdout",
          "output_type": "stream",
          "text": [
            "본문의 개수: 4827\n",
            "레이블의 개수: 4827\n"
          ]
        }
      ],
      "source": [
        "X_data = data['kor_sentence']\n",
        "y_data = data['labels']\n",
        "print('본문의 개수: {}'.format(len(X_data)))\n",
        "print('레이블의 개수: {}'.format(len(y_data)))"
      ]
    },
    {
      "cell_type": "code",
      "execution_count": 107,
      "metadata": {
        "id": "qmFecWmSkHiu"
      },
      "outputs": [],
      "source": [
        "X_train, X_test, y_train, y_test = train_test_split(X_data, y_data, test_size=0.2, random_state=0, stratify=y_data)"
      ]
    },
    {
      "cell_type": "code",
      "execution_count": 108,
      "metadata": {
        "colab": {
          "base_uri": "https://localhost:8080/"
        },
        "id": "HiPJQoBql2T_",
        "outputId": "012118ee-7e39-4d9a-fe40-0aad31cc89d1"
      },
      "outputs": [
        {
          "name": "stdout",
          "output_type": "stream",
          "text": [
            "훈련 샘플의 개수 : 3861\n",
            "테스트 샘플의 개수 : 966\n"
          ]
        }
      ],
      "source": [
        "print('훈련 샘플의 개수 :', len(X_train))\n",
        "print('테스트 샘플의 개수 :', len(X_test))"
      ]
    },
    {
      "cell_type": "code",
      "execution_count": 109,
      "metadata": {
        "colab": {
          "base_uri": "https://localhost:8080/"
        },
        "id": "m-gTg1Z2kYK2",
        "outputId": "c2162a05-dac7-47b5-d30d-5b9cb91a538e"
      },
      "outputs": [
        {
          "name": "stdout",
          "output_type": "stream",
          "text": [
            "--------훈련 데이터의 비율-----------\n",
            "중립 = 59.285%\n",
            "긍정 = 28.205%\n",
            "부정 = 12.51%\n"
          ]
        }
      ],
      "source": [
        "print('--------훈련 데이터의 비율-----------')\n",
        "print(f'중립 = {round(y_train.value_counts()[0]/len(y_train) * 100,3)}%')\n",
        "print(f'긍정 = {round(y_train.value_counts()[1]/len(y_train) * 100,3)}%')\n",
        "print(f'부정 = {round(y_train.value_counts()[2]/len(y_train) * 100,3)}%')"
      ]
    },
    {
      "cell_type": "code",
      "execution_count": 110,
      "metadata": {
        "colab": {
          "base_uri": "https://localhost:8080/"
        },
        "id": "6E_XYZIVkcP3",
        "outputId": "2aae17b0-fe59-46e9-b2dc-0287d03e63a9"
      },
      "outputs": [
        {
          "name": "stdout",
          "output_type": "stream",
          "text": [
            "--------테스트 데이터의 비율-----------\n",
            "중립 = 59.213%\n",
            "긍정 = 28.261%\n",
            "부정 = 12.526%\n"
          ]
        }
      ],
      "source": [
        "print('--------테스트 데이터의 비율-----------')\n",
        "print(f'중립 = {round(y_test.value_counts()[0]/len(y_test) * 100,3)}%')\n",
        "print(f'긍정 = {round(y_test.value_counts()[1]/len(y_test) * 100,3)}%')\n",
        "print(f'부정 = {round(y_test.value_counts()[2]/len(y_test) * 100,3)}%')"
      ]
    },
    {
      "cell_type": "code",
      "execution_count": 111,
      "metadata": {
        "id": "WqLBfWmypQ6Y"
      },
      "outputs": [],
      "source": [
        "max_seq_len = 128"
      ]
    },
    {
      "cell_type": "code",
      "execution_count": 112,
      "metadata": {
        "colab": {
          "base_uri": "https://localhost:8080/",
          "height": 177,
          "referenced_widgets": [
            "f54e09e1acae4d28bbddcf27f0eadd55",
            "2171c39ae28b45d8ba3129cc1610e52f",
            "db6df438a1cb460487931c1c9f5498dd",
            "a47e27bdd7fb4ea39d77341ae161c8c8",
            "13b5d6ec770a4ef2a29dc9e354f0a5e4",
            "e2b4c0ebddbb4c26aa121c0aec986957",
            "374269e944984fa6b0e7be0a9b7771ee",
            "f149704594904529b3ffce9432d49fa7",
            "97e2c78205234ff0929b3e887e6dfd46",
            "43e0937b09934e8d81de9d5bd21152ba",
            "c3aa08f8f15447d0933fff8adcdb09bf",
            "d668f036c5934d80a2b07d95f6432f0c",
            "855b3aa3c9574fb491e06709952b2f89",
            "1d6c0ce65f804337969d49c07722c886",
            "d220bf12546244efa0652985ab2b3053",
            "b9fda1875e9a429f83ea4602832a79cf",
            "f2f6fa4ca9d94cc18d1d3569191cc2fc",
            "2a1f20425ba9433eb72beabc6c179543",
            "5883cb8d54e445a3a5b322806571f4e7",
            "63e26f8985ac4227a5633d724be0a9b2",
            "1b151d1b646f46acac755fa1288580c8",
            "1cd22e9c4f014e69a6f1206012fddb8c",
            "8723a9a082cb4893a6805bae8241d977",
            "753c832e90654b54aab4fc228f0ac2d2",
            "73dfeace493049ab93cc2032eec05390",
            "317d76f349d547fb8fc458961d6af56e",
            "e2af00816f8346bc81062993427a3dad",
            "e0bca5090f5640a89f83b850823c01df",
            "08662b5cf05644e2a2829cee2713a1be",
            "73904cb7aaca4c20965c56a3215fa848",
            "dce60906b70044169297d5d2618b2461",
            "d0ae8de401f94ffe87bdd9439f9136c2",
            "cb5d3e8bd5ef4aa6a4155088545a3d0c",
            "47f3d82231b54c0e948063e35ed27bbd",
            "c42e69c4808949fb9c48546ae09e0621",
            "ae06861e12c0469eab67b07d93d5ca9f",
            "8dd32717940249b880b4290d57110cb8",
            "1ac36ddd5d054d9d8d79a3643753f5b8",
            "07e43b56c69a4d9d875efc7b71a4899f",
            "98dfab65718b4e0d9704b00dc283c7ba",
            "20b60f13afde495092f035b7fb8737e9",
            "9e7e95d8c696434989cee60ad5db6509",
            "670b7fdf8ce9480ba404f973c7c15649",
            "48fcf028aa8142efa520d6b04fc9a69d",
            "97d7ae458fda43f695365b242f4b562b",
            "0f4b1da5893148e78fe567d61ba231e4",
            "d6a1c66def434ee2ae83f2e2c9ad28a8",
            "911d5b008fab4808a6ff95d0291bbbba",
            "b87418a2e0af464b8324cd03caea58a3",
            "0f44031b6cd4459d8f03cd4ac96f332d",
            "6b9a5cce10a1418bb1cb63c079c91a79",
            "7e90994f2d614906a24b33a1f0766325",
            "c19183ce5143404a99ccd6977289ecd5",
            "821c221cb1a3456d942d112818b32aed",
            "56b1b65d98414340b2a13a25497296c9"
          ]
        },
        "id": "h7qMQ_RVpUTv",
        "outputId": "c765d045-9c78-4527-c297-4e34b32a49b3"
      },
      "outputs": [],
      "source": [
        "tokenizer = BertTokenizer.from_pretrained('klue/bert-base')"
      ]
    },
    {
      "cell_type": "code",
      "execution_count": null,
      "metadata": {
        "id": "6Lx0JeclpCd3"
      },
      "outputs": [],
      "source": [
        "# def convert_examples_to_features(examples, labels, max_seq_len, tokenizer):\n",
        "\n",
        "#     input_ids, attention_masks, token_type_ids, data_labels = [], [], [], []\n",
        "\n",
        "#     for example, label in tqdm(zip(examples, labels), total=len(examples)):\n",
        "#         # input_id는 워드 임베딩을 위한 문장의 정수 인코딩\n",
        "#         input_id = tokenizer.encode(example, max_length=max_seq_len, pad_to_max_length=True)\n",
        "\n",
        "#         # attention_mask는 실제 단어가 위치하면 1, 패딩의 위치에는 0인 시퀀스.\n",
        "#         padding_count = input_id.count(tokenizer.pad_token_id)\n",
        "#         attention_mask = [1] * (max_seq_len - padding_count) + [0] * padding_count\n",
        "\n",
        "#         # token_type_id은 세그먼트 인코딩\n",
        "#         token_type_id = [0] * max_seq_len\n",
        "\n",
        "#         assert len(input_id) == max_seq_len, \"Error with input length {} vs {}\".format(len(input_id), max_seq_len)\n",
        "#         assert len(attention_mask) == max_seq_len, \"Error with attention mask length {} vs {}\".format(len(attention_mask), max_seq_len)\n",
        "#         assert len(token_type_id) == max_seq_len, \"Error with token type length {} vs {}\".format(len(token_type_id), max_seq_len)\n",
        "\n",
        "#         input_ids.append(input_id)\n",
        "#         attention_masks.append(attention_mask)\n",
        "#         token_type_ids.append(token_type_id)\n",
        "#         data_labels.append(label)\n",
        "\n",
        "#     input_ids = np.array(input_ids, dtype=int)\n",
        "#     attention_masks = np.array(attention_masks, dtype=int)\n",
        "#     token_type_ids = np.array(token_type_ids, dtype=int)\n",
        "\n",
        "#     data_labels = np.asarray(data_labels, dtype=np.int32)\n",
        "\n",
        "#     return (input_ids, attention_masks, token_type_ids), data_labels"
      ]
    },
    {
      "cell_type": "code",
      "execution_count": 115,
      "metadata": {},
      "outputs": [],
      "source": [
        "def convert_examples_to_features(examples, labels, max_seq_len, tokenizer):\n",
        "    input_ids, attention_masks, token_type_ids, data_labels = [], [], [], []\n",
        "\n",
        "    for example, label in tqdm(zip(examples, labels), total=len(examples)):\n",
        "        encoding = tokenizer(\n",
        "            example,\n",
        "            max_length=max_seq_len,\n",
        "            padding='max_length',\n",
        "            truncation=True,\n",
        "            return_token_type_ids=True,\n",
        "            return_attention_mask=True\n",
        "        )\n",
        "\n",
        "        input_id = encoding['input_ids']\n",
        "        attention_mask = encoding['attention_mask']\n",
        "        token_type_id = encoding['token_type_ids']\n",
        "\n",
        "        # 디버깅용 안전검사\n",
        "        assert len(input_id) == max_seq_len, f\"Error with input length {len(input_id)} vs {max_seq_len}\"\n",
        "        assert len(attention_mask) == max_seq_len, f\"Error with attention mask length {len(attention_mask)} vs {max_seq_len}\"\n",
        "        assert len(token_type_id) == max_seq_len, f\"Error with token type length {len(token_type_id)} vs {max_seq_len}\"\n",
        "\n",
        "        input_ids.append(input_id)\n",
        "        attention_masks.append(attention_mask)\n",
        "        token_type_ids.append(token_type_id)\n",
        "        data_labels.append(label)\n",
        "\n",
        "    input_ids = np.array(input_ids, dtype=int)\n",
        "    attention_masks = np.array(attention_masks, dtype=int)\n",
        "    token_type_ids = np.array(token_type_ids, dtype=int)\n",
        "    data_labels = np.asarray(data_labels, dtype=np.int32)\n",
        "\n",
        "    return (input_ids, attention_masks, token_type_ids), data_labels"
      ]
    },
    {
      "cell_type": "code",
      "execution_count": 116,
      "metadata": {
        "colab": {
          "base_uri": "https://localhost:8080/"
        },
        "id": "K6GwA8ropGXJ",
        "outputId": "77324d21-e34c-4a64-b635-a650b9e4c70a"
      },
      "outputs": [
        {
          "name": "stderr",
          "output_type": "stream",
          "text": [
            "  0%|          | 0/3861 [00:00<?, ?it/s]"
          ]
        },
        {
          "name": "stderr",
          "output_type": "stream",
          "text": [
            "100%|██████████| 3861/3861 [00:00<00:00, 4990.70it/s]\n"
          ]
        }
      ],
      "source": [
        "train_X, train_y = convert_examples_to_features(X_train, y_train, max_seq_len=max_seq_len, tokenizer=tokenizer)"
      ]
    },
    {
      "cell_type": "code",
      "execution_count": 117,
      "metadata": {
        "colab": {
          "base_uri": "https://localhost:8080/"
        },
        "id": "FSUWW7XFphCU",
        "outputId": "2dffdb0f-f0ff-46af-b18d-ab75a5b27504"
      },
      "outputs": [
        {
          "name": "stderr",
          "output_type": "stream",
          "text": [
            "100%|██████████| 966/966 [00:00<00:00, 4319.21it/s]\n"
          ]
        }
      ],
      "source": [
        "test_X, test_y = convert_examples_to_features(X_test, y_test, max_seq_len=max_seq_len, tokenizer=tokenizer)"
      ]
    },
    {
      "cell_type": "code",
      "execution_count": 118,
      "metadata": {
        "colab": {
          "base_uri": "https://localhost:8080/"
        },
        "id": "M9H0TQaUpl6q",
        "outputId": "1ff82442-9130-4b80-9941-d0b205dc29a3"
      },
      "outputs": [
        {
          "name": "stdout",
          "output_type": "stream",
          "text": [
            "단어에 대한 정수 인코딩 : [    2  4048  2063  2259 10735  2147  2227  2079  8660 27135 10735  2147\n",
            "  4401  4286  2205  2259  4946  2052  4169  2085   575  6233  4045 19521\n",
            "  1513  2062    18     3     0     0     0     0     0     0     0     0\n",
            "     0     0     0     0     0     0     0     0     0     0     0     0\n",
            "     0     0     0     0     0     0     0     0     0     0     0     0\n",
            "     0     0     0     0     0     0     0     0     0     0     0     0\n",
            "     0     0     0     0     0     0     0     0     0     0     0     0\n",
            "     0     0     0     0     0     0     0     0     0     0     0     0\n",
            "     0     0     0     0     0     0     0     0     0     0     0     0\n",
            "     0     0     0     0     0     0     0     0     0     0     0     0\n",
            "     0     0     0     0     0     0     0     0]\n",
            "어텐션 마스크 : [1 1 1 1 1 1 1 1 1 1 1 1 1 1 1 1 1 1 1 1 1 1 1 1 1 1 1 1 0 0 0 0 0 0 0 0 0\n",
            " 0 0 0 0 0 0 0 0 0 0 0 0 0 0 0 0 0 0 0 0 0 0 0 0 0 0 0 0 0 0 0 0 0 0 0 0 0\n",
            " 0 0 0 0 0 0 0 0 0 0 0 0 0 0 0 0 0 0 0 0 0 0 0 0 0 0 0 0 0 0 0 0 0 0 0 0 0\n",
            " 0 0 0 0 0 0 0 0 0 0 0 0 0 0 0 0 0]\n",
            "세그먼트 인코딩 : [0 0 0 0 0 0 0 0 0 0 0 0 0 0 0 0 0 0 0 0 0 0 0 0 0 0 0 0 0 0 0 0 0 0 0 0 0\n",
            " 0 0 0 0 0 0 0 0 0 0 0 0 0 0 0 0 0 0 0 0 0 0 0 0 0 0 0 0 0 0 0 0 0 0 0 0 0\n",
            " 0 0 0 0 0 0 0 0 0 0 0 0 0 0 0 0 0 0 0 0 0 0 0 0 0 0 0 0 0 0 0 0 0 0 0 0 0\n",
            " 0 0 0 0 0 0 0 0 0 0 0 0 0 0 0 0 0]\n",
            "각 인코딩의 길이 : 128\n",
            "정수 인코딩 복원 : [CLS] 보험사는 노르데아의 순이익에서 노르데아가 차지하는 비중이 상당할 것으로 예상하고 있다. [SEP] [PAD] [PAD] [PAD] [PAD] [PAD] [PAD] [PAD] [PAD] [PAD] [PAD] [PAD] [PAD] [PAD] [PAD] [PAD] [PAD] [PAD] [PAD] [PAD] [PAD] [PAD] [PAD] [PAD] [PAD] [PAD] [PAD] [PAD] [PAD] [PAD] [PAD] [PAD] [PAD] [PAD] [PAD] [PAD] [PAD] [PAD] [PAD] [PAD] [PAD] [PAD] [PAD] [PAD] [PAD] [PAD] [PAD] [PAD] [PAD] [PAD] [PAD] [PAD] [PAD] [PAD] [PAD] [PAD] [PAD] [PAD] [PAD] [PAD] [PAD] [PAD] [PAD] [PAD] [PAD] [PAD] [PAD] [PAD] [PAD] [PAD] [PAD] [PAD] [PAD] [PAD] [PAD] [PAD] [PAD] [PAD] [PAD] [PAD] [PAD] [PAD] [PAD] [PAD] [PAD] [PAD] [PAD] [PAD] [PAD] [PAD] [PAD] [PAD] [PAD] [PAD] [PAD] [PAD] [PAD] [PAD] [PAD] [PAD] [PAD]\n",
            "레이블 : 1\n"
          ]
        }
      ],
      "source": [
        "input_id = train_X[0][0]\n",
        "attention_mask = train_X[1][0]\n",
        "token_type_id = train_X[2][0]\n",
        "label = train_y[0]\n",
        "\n",
        "print('단어에 대한 정수 인코딩 :',input_id)\n",
        "print('어텐션 마스크 :',attention_mask)\n",
        "print('세그먼트 인코딩 :',token_type_id)\n",
        "print('각 인코딩의 길이 :', len(input_id))\n",
        "print('정수 인코딩 복원 :',tokenizer.decode(input_id))\n",
        "print('레이블 :',label)"
      ]
    },
    {
      "cell_type": "code",
      "execution_count": null,
      "metadata": {
        "colab": {
          "base_uri": "https://localhost:8080/"
        },
        "id": "ltdAJTeIp1_b",
        "outputId": "8803b4d0-b4f7-40f5-87e6-21cb0fc49dd4"
      },
      "outputs": [],
      "source": [
        "# TPU 작동을 위한 코드\n",
        "# resolver = tf.distribute.cluster_resolver.TPUClusterResolver(tpu='grpc://' + os.environ['COLAB_TPU_ADDR'])\n",
        "# tf.config.experimental_connect_to_cluster(resolver)\n",
        "# tf.tpu.experimental.initialize_tpu_system(resolver)\n",
        "\n",
        "# strategy = tf.distribute.experimental.TPUStrategy(resolver)"
      ]
    },
    {
      "cell_type": "code",
      "execution_count": null,
      "metadata": {
        "colab": {
          "base_uri": "https://localhost:8080/"
        },
        "id": "Bl2kHoBup9Di",
        "outputId": "ab3416de-da5f-4cc7-9f96-03099c375f59"
      },
      "outputs": [],
      "source": [
        "# with strategy.scope():\n",
        "#   model = TFBertForSequenceClassification.from_pretrained(\"klue/bert-base\", num_labels=3, from_pt=True)\n",
        "#   optimizer = tf.keras.optimizers.Adam(learning_rate=5e-5)\n",
        "#   loss = tf.keras.losses.SparseCategoricalCrossentropy()\n",
        "#   model.compile(optimizer=optimizer, loss=model.compute_loss, metrics = ['accuracy'])"
      ]
    },
    {
      "cell_type": "code",
      "execution_count": null,
      "metadata": {
        "colab": {
          "base_uri": "https://localhost:8080/"
        },
        "id": "R3QvJXEBqBV7",
        "outputId": "254d3a2e-5167-4723-cc6d-0e502bb55a45"
      },
      "outputs": [],
      "source": [
        "# early_stopping = EarlyStopping(\n",
        "#     monitor=\"val_accuracy\", \n",
        "#     min_delta=0.001,\n",
        "#     patience=2)\n",
        "\n",
        "# model.fit(\n",
        "#     train_X, train_y, epochs=2, batch_size=32, validation_split=0.2,\n",
        "#     callbacks = [early_stopping]\n",
        "# )"
      ]
    },
    {
      "cell_type": "code",
      "execution_count": null,
      "metadata": {},
      "outputs": [
        {
          "name": "stderr",
          "output_type": "stream",
          "text": [
            "Some weights of the PyTorch model were not used when initializing the TF 2.0 model TFBertForSequenceClassification: ['bert.embeddings.position_ids']\n",
            "- This IS expected if you are initializing TFBertForSequenceClassification from a PyTorch model trained on another task or with another architecture (e.g. initializing a TFBertForSequenceClassification model from a BertForPreTraining model).\n",
            "- This IS NOT expected if you are initializing TFBertForSequenceClassification from a PyTorch model that you expect to be exactly identical (e.g. initializing a TFBertForSequenceClassification model from a BertForSequenceClassification model).\n",
            "Some weights or buffers of the TF 2.0 model TFBertForSequenceClassification were not initialized from the PyTorch model and are newly initialized: ['classifier.weight', 'classifier.bias']\n",
            "You should probably TRAIN this model on a down-stream task to be able to use it for predictions and inference.\n"
          ]
        },
        {
          "name": "stdout",
          "output_type": "stream",
          "text": [
            "\n",
            "Epoch 1/2\n"
          ]
        },
        {
          "name": "stderr",
          "output_type": "stream",
          "text": [
            "  1%|          | 1/120 [00:29<58:04, 29.28s/it]"
          ]
        },
        {
          "name": "stdout",
          "output_type": "stream",
          "text": [
            "Step 0/120 - Loss: 1.0917 - Acc: 0.2812\n"
          ]
        },
        {
          "name": "stderr",
          "output_type": "stream",
          "text": [
            "  9%|▉         | 11/120 [02:15<17:00,  9.37s/it]"
          ]
        },
        {
          "name": "stdout",
          "output_type": "stream",
          "text": [
            "Step 10/120 - Loss: 0.7921 - Acc: 0.6562\n"
          ]
        },
        {
          "name": "stderr",
          "output_type": "stream",
          "text": [
            " 18%|█▊        | 21/120 [03:50<15:43,  9.53s/it]"
          ]
        },
        {
          "name": "stdout",
          "output_type": "stream",
          "text": [
            "Step 20/120 - Loss: 0.7027 - Acc: 0.6562\n"
          ]
        },
        {
          "name": "stderr",
          "output_type": "stream",
          "text": [
            " 26%|██▌       | 31/120 [05:23<12:07,  8.17s/it]"
          ]
        },
        {
          "name": "stdout",
          "output_type": "stream",
          "text": [
            "Step 30/120 - Loss: 0.5716 - Acc: 0.7500\n"
          ]
        },
        {
          "name": "stderr",
          "output_type": "stream",
          "text": [
            " 34%|███▍      | 41/120 [06:54<12:16,  9.32s/it]"
          ]
        },
        {
          "name": "stdout",
          "output_type": "stream",
          "text": [
            "Step 40/120 - Loss: 0.5069 - Acc: 0.7812\n"
          ]
        },
        {
          "name": "stderr",
          "output_type": "stream",
          "text": [
            " 42%|████▎     | 51/120 [08:19<08:39,  7.53s/it]"
          ]
        },
        {
          "name": "stdout",
          "output_type": "stream",
          "text": [
            "Step 50/120 - Loss: 0.4132 - Acc: 0.8750\n"
          ]
        },
        {
          "name": "stderr",
          "output_type": "stream",
          "text": [
            " 51%|█████     | 61/120 [09:38<07:55,  8.06s/it]"
          ]
        },
        {
          "name": "stdout",
          "output_type": "stream",
          "text": [
            "Step 60/120 - Loss: 0.3878 - Acc: 0.8750\n"
          ]
        },
        {
          "name": "stderr",
          "output_type": "stream",
          "text": [
            " 59%|█████▉    | 71/120 [11:11<07:25,  9.09s/it]"
          ]
        },
        {
          "name": "stdout",
          "output_type": "stream",
          "text": [
            "Step 70/120 - Loss: 0.6665 - Acc: 0.7188\n"
          ]
        },
        {
          "name": "stderr",
          "output_type": "stream",
          "text": [
            " 68%|██████▊   | 81/120 [12:38<05:15,  8.10s/it]"
          ]
        },
        {
          "name": "stdout",
          "output_type": "stream",
          "text": [
            "Step 80/120 - Loss: 0.3658 - Acc: 0.8438\n"
          ]
        },
        {
          "name": "stderr",
          "output_type": "stream",
          "text": [
            " 76%|███████▌  | 91/120 [13:58<04:13,  8.74s/it]"
          ]
        },
        {
          "name": "stdout",
          "output_type": "stream",
          "text": [
            "Step 90/120 - Loss: 0.4617 - Acc: 0.7812\n"
          ]
        },
        {
          "name": "stderr",
          "output_type": "stream",
          "text": [
            " 84%|████████▍ | 101/120 [15:31<03:03,  9.65s/it]"
          ]
        },
        {
          "name": "stdout",
          "output_type": "stream",
          "text": [
            "Step 100/120 - Loss: 0.4887 - Acc: 0.8125\n"
          ]
        },
        {
          "name": "stderr",
          "output_type": "stream",
          "text": [
            " 92%|█████████▎| 111/120 [16:33<00:57,  6.41s/it]"
          ]
        },
        {
          "name": "stdout",
          "output_type": "stream",
          "text": [
            "Step 110/120 - Loss: 0.3982 - Acc: 0.8125\n"
          ]
        },
        {
          "name": "stderr",
          "output_type": "stream",
          "text": [
            "100%|██████████| 120/120 [17:24<00:00,  8.71s/it]\n"
          ]
        },
        {
          "name": "stdout",
          "output_type": "stream",
          "text": [
            "Epoch 1 - Avg Loss: 0.5430 - Avg Acc: 0.7745\n",
            "\n",
            "Epoch 2/2\n"
          ]
        },
        {
          "name": "stderr",
          "output_type": "stream",
          "text": [
            "  1%|          | 1/120 [00:07<15:24,  7.77s/it]"
          ]
        },
        {
          "name": "stdout",
          "output_type": "stream",
          "text": [
            "Step 0/120 - Loss: 0.2941 - Acc: 0.8750\n"
          ]
        },
        {
          "name": "stderr",
          "output_type": "stream",
          "text": [
            "  9%|▉         | 11/120 [01:10<11:07,  6.12s/it]"
          ]
        },
        {
          "name": "stdout",
          "output_type": "stream",
          "text": [
            "Step 10/120 - Loss: 0.1909 - Acc: 0.9375\n"
          ]
        },
        {
          "name": "stderr",
          "output_type": "stream",
          "text": [
            " 18%|█▊        | 21/120 [02:07<10:34,  6.41s/it]"
          ]
        },
        {
          "name": "stdout",
          "output_type": "stream",
          "text": [
            "Step 20/120 - Loss: 0.2381 - Acc: 0.9688\n"
          ]
        },
        {
          "name": "stderr",
          "output_type": "stream",
          "text": [
            " 26%|██▌       | 31/120 [03:10<09:01,  6.09s/it]"
          ]
        },
        {
          "name": "stdout",
          "output_type": "stream",
          "text": [
            "Step 30/120 - Loss: 0.1795 - Acc: 0.9062\n"
          ]
        },
        {
          "name": "stderr",
          "output_type": "stream",
          "text": [
            " 34%|███▍      | 41/120 [04:09<08:25,  6.40s/it]"
          ]
        },
        {
          "name": "stdout",
          "output_type": "stream",
          "text": [
            "Step 40/120 - Loss: 0.2845 - Acc: 0.9375\n"
          ]
        },
        {
          "name": "stderr",
          "output_type": "stream",
          "text": [
            " 42%|████▎     | 51/120 [05:09<05:39,  4.93s/it]"
          ]
        },
        {
          "name": "stdout",
          "output_type": "stream",
          "text": [
            "Step 50/120 - Loss: 0.3013 - Acc: 0.8750\n"
          ]
        },
        {
          "name": "stderr",
          "output_type": "stream",
          "text": [
            " 51%|█████     | 61/120 [06:17<06:29,  6.61s/it]"
          ]
        },
        {
          "name": "stdout",
          "output_type": "stream",
          "text": [
            "Step 60/120 - Loss: 0.1814 - Acc: 0.9062\n"
          ]
        },
        {
          "name": "stderr",
          "output_type": "stream",
          "text": [
            " 59%|█████▉    | 71/120 [07:21<05:05,  6.23s/it]"
          ]
        },
        {
          "name": "stdout",
          "output_type": "stream",
          "text": [
            "Step 70/120 - Loss: 0.3263 - Acc: 0.8750\n"
          ]
        },
        {
          "name": "stderr",
          "output_type": "stream",
          "text": [
            " 68%|██████▊   | 81/120 [08:53<05:48,  8.94s/it]"
          ]
        },
        {
          "name": "stdout",
          "output_type": "stream",
          "text": [
            "Step 80/120 - Loss: 0.1206 - Acc: 0.9688\n"
          ]
        },
        {
          "name": "stderr",
          "output_type": "stream",
          "text": [
            " 76%|███████▌  | 91/120 [09:51<02:21,  4.87s/it]"
          ]
        },
        {
          "name": "stdout",
          "output_type": "stream",
          "text": [
            "Step 90/120 - Loss: 0.0516 - Acc: 0.9688\n"
          ]
        },
        {
          "name": "stderr",
          "output_type": "stream",
          "text": [
            " 84%|████████▍ | 101/120 [11:00<01:55,  6.08s/it]"
          ]
        },
        {
          "name": "stdout",
          "output_type": "stream",
          "text": [
            "Step 100/120 - Loss: 0.2327 - Acc: 0.9375\n"
          ]
        },
        {
          "name": "stderr",
          "output_type": "stream",
          "text": [
            " 92%|█████████▎| 111/120 [12:04<00:53,  5.96s/it]"
          ]
        },
        {
          "name": "stdout",
          "output_type": "stream",
          "text": [
            "Step 110/120 - Loss: 0.1016 - Acc: 0.9688\n"
          ]
        },
        {
          "name": "stderr",
          "output_type": "stream",
          "text": [
            "100%|██████████| 120/120 [13:00<00:00,  6.51s/it]"
          ]
        },
        {
          "name": "stdout",
          "output_type": "stream",
          "text": [
            "Epoch 2 - Avg Loss: 0.2028 - Avg Acc: 0.9260\n"
          ]
        },
        {
          "name": "stderr",
          "output_type": "stream",
          "text": [
            "\n"
          ]
        }
      ],
      "source": [
        "# 모델과 토크나이저 준비\n",
        "tokenizer = BertTokenizer.from_pretrained(\"klue/bert-base\")\n",
        "model = TFBertForSequenceClassification.from_pretrained(\"klue/bert-base\", num_labels=3, from_pt=True)\n",
        "optimizer = AdamWeightDecay(learning_rate=5e-5, weight_decay_rate=0.01)\n",
        "\n",
        "# 데이터\n",
        "input_ids, attention_masks, token_type_ids = train_X\n",
        "labels = train_y\n",
        "\n",
        "batch_size = 32\n",
        "epochs = 2\n",
        "steps_per_epoch = len(input_ids) // batch_size\n",
        "loss_fn = tf.keras.losses.SparseCategoricalCrossentropy(from_logits=True)\n",
        "\n",
        "# 수동 학습 루프\n",
        "for epoch in range(epochs):\n",
        "    print(f\"\\nEpoch {epoch+1}/{epochs}\")\n",
        "    total_loss, total_acc = 0.0, 0.0\n",
        "\n",
        "    for step in tqdm(range(steps_per_epoch)):\n",
        "        start = step * batch_size\n",
        "        end = start + batch_size\n",
        "\n",
        "        batch_inputs = {\n",
        "            \"input_ids\": input_ids[start:end],\n",
        "            \"attention_mask\": attention_masks[start:end],\n",
        "            \"token_type_ids\": token_type_ids[start:end]\n",
        "        }\n",
        "        batch_labels = labels[start:end]\n",
        "\n",
        "        with tf.GradientTape() as tape:\n",
        "            outputs = model(batch_inputs, training=True)\n",
        "            logits = outputs.logits\n",
        "            loss = loss_fn(batch_labels, logits)\n",
        "            preds = tf.argmax(logits, axis=1)\n",
        "            acc = tf.reduce_mean(tf.cast(tf.equal(preds, batch_labels), tf.float32))\n",
        "\n",
        "        grads = tape.gradient(loss, model.trainable_variables)\n",
        "        optimizer.apply_gradients(zip(grads, model.trainable_variables))\n",
        "\n",
        "        total_loss += loss.numpy()\n",
        "        total_acc += acc.numpy()\n",
        "\n",
        "        if step % 10 == 0:\n",
        "            print(f\"Step {step}/{steps_per_epoch} - Loss: {loss:.4f} - Acc: {acc:.4f}\")\n",
        "\n",
        "    print(f\"Epoch {epoch+1} - Avg Loss: {total_loss/steps_per_epoch:.4f} - Avg Acc: {total_acc/steps_per_epoch:.4f}\")"
      ]
    },
    {
      "cell_type": "code",
      "execution_count": null,
      "metadata": {},
      "outputs": [
        {
          "data": {
            "text/plain": [
              "('saved_model/klue-bert-sentiment/tokenizer_config.json',\n",
              " 'saved_model/klue-bert-sentiment/special_tokens_map.json',\n",
              " 'saved_model/klue-bert-sentiment/vocab.txt',\n",
              " 'saved_model/klue-bert-sentiment/added_tokens.json')"
            ]
          },
          "execution_count": 139,
          "metadata": {},
          "output_type": "execute_result"
        }
      ],
      "source": [
        "# 모델과 토크나이저 저장\n",
        "model.save_pretrained(\"saved_model/klue-bert-sentiment\")\n",
        "tokenizer.save_pretrained(\"saved_model/klue-bert-sentiment\")"
      ]
    },
    {
      "cell_type": "code",
      "execution_count": null,
      "metadata": {
        "colab": {
          "base_uri": "https://localhost:8080/"
        },
        "id": "7zQ3dpqz1UaN",
        "outputId": "f782d935-4cba-4b7f-c01d-38c5a0896254"
      },
      "outputs": [],
      "source": [
        "# model.evaluate(test_X, test_y, batch_size=1024)"
      ]
    },
    {
      "cell_type": "code",
      "execution_count": 5,
      "metadata": {},
      "outputs": [
        {
          "name": "stderr",
          "output_type": "stream",
          "text": [
            "Some layers from the model checkpoint at saved_model/klue-bert-sentiment were not used when initializing TFBertForSequenceClassification: ['dropout_379']\n",
            "- This IS expected if you are initializing TFBertForSequenceClassification from the checkpoint of a model trained on another task or with another architecture (e.g. initializing a BertForSequenceClassification model from a BertForPreTraining model).\n",
            "- This IS NOT expected if you are initializing TFBertForSequenceClassification from the checkpoint of a model that you expect to be exactly identical (initializing a BertForSequenceClassification model from a BertForSequenceClassification model).\n",
            "All the layers of TFBertForSequenceClassification were initialized from the model checkpoint at saved_model/klue-bert-sentiment.\n",
            "If your task is similar to the task the model of the checkpoint was trained on, you can already use TFBertForSequenceClassification for predictions without further training.\n",
            "/var/folders/x1/g6cgmw8x0b31zv5jcsxfxn880000gn/T/ipykernel_14595/3318816402.py:9: FutureWarning: Downcasting behavior in `replace` is deprecated and will be removed in a future version. To retain the old behavior, explicitly call `result.infer_objects(copy=False)`. To opt-in to the future behavior, set `pd.set_option('future.no_silent_downcasting', True)`\n",
            "  df[\"labels\"] = df[\"labels\"].replace({\"neutral\": 0, \"positive\": 1, \"negative\": 2})\n",
            "100%|██████████| 966/966 [00:00<00:00, 5534.99it/s]\n"
          ]
        }
      ],
      "source": [
        "# 필요 시 사용 해당 셀은 이미 전의 내용에 포함되어 있음\n",
        "\n",
        "# 모델과 토크나이저 load\n",
        "model = TFBertForSequenceClassification.from_pretrained(\"saved_model/klue-bert-sentiment\")\n",
        "tokenizer = BertTokenizer.from_pretrained(\"saved_model/klue-bert-sentiment\")\n",
        "\n",
        "# 데이터 로드\n",
        "df = pd.read_csv(\"../01_데이터수집/data/finance_data.csv\").drop_duplicates(subset=[\"kor_sentence\"])\n",
        "df[\"labels\"] = df[\"labels\"].replace({\"neutral\": 0, \"positive\": 1, \"negative\": 2})\n",
        "X_train, X_test, y_train, y_test = train_test_split(df[\"kor_sentence\"], df[\"labels\"], test_size=0.2, stratify=df[\"labels\"], random_state=42)\n",
        "\n",
        "# 토큰화 함수 정의\n",
        "def convert_examples_to_features(examples, labels, max_seq_len, tokenizer):\n",
        "    input_ids, attention_masks, token_type_ids, data_labels = [], [], [], []\n",
        "\n",
        "    for example, label in tqdm(zip(examples, labels), total=len(examples)):\n",
        "        encoding = tokenizer(\n",
        "            example,\n",
        "            max_length=max_seq_len,\n",
        "            padding='max_length',\n",
        "            truncation=True,\n",
        "            return_token_type_ids=True,\n",
        "            return_attention_mask=True\n",
        "        )\n",
        "\n",
        "        input_id = encoding['input_ids']\n",
        "        attention_mask = encoding['attention_mask']\n",
        "        token_type_id = encoding['token_type_ids']\n",
        "\n",
        "        # 길이 검사 (디버깅용)\n",
        "        assert len(input_id) == max_seq_len\n",
        "        assert len(attention_mask) == max_seq_len\n",
        "        assert len(token_type_id) == max_seq_len\n",
        "\n",
        "        input_ids.append(input_id)\n",
        "        attention_masks.append(attention_mask)\n",
        "        token_type_ids.append(token_type_id)\n",
        "        data_labels.append(label)\n",
        "\n",
        "    input_ids = np.array(input_ids, dtype=int)\n",
        "    attention_masks = np.array(attention_masks, dtype=int)\n",
        "    token_type_ids = np.array(token_type_ids, dtype=int)\n",
        "    data_labels = np.asarray(data_labels, dtype=np.int32)\n",
        "\n",
        "    return (input_ids, attention_masks, token_type_ids), data_labels\n",
        "\n",
        "# 테스트셋 변환\n",
        "test_X, test_y = convert_examples_to_features(X_test.tolist(), y_test.tolist(), max_seq_len=128, tokenizer=tokenizer)"
      ]
    },
    {
      "cell_type": "code",
      "execution_count": 6,
      "metadata": {},
      "outputs": [
        {
          "name": "stdout",
          "output_type": "stream",
          "text": [
            "Test Loss: 0.2860, Test Accuracy: 0.9000\n",
            "Macro F1 Score: 0.8944065210133401\n",
            "Weighted F1 Score: 0.8960846561279134\n",
            "\n",
            "Classification Report:\n",
            "               precision    recall  f1-score   support\n",
            "\n",
            "          중립     0.8738    0.9825    0.9250       571\n",
            "          긍정     0.9505    0.7111    0.8136       270\n",
            "          부정     0.9569    0.9328    0.9447       119\n",
            "\n",
            "    accuracy                         0.9000       960\n",
            "   macro avg     0.9271    0.8755    0.8944       960\n",
            "weighted avg     0.9057    0.9000    0.8961       960\n",
            "\n"
          ]
        },
        {
          "data": {
            "image/png": "[encoded data removed]",
            "text/plain": [
              "<Figure size 600x500 with 2 Axes>"
            ]
          },
          "metadata": {},
          "output_type": "display_data"
        }
      ],
      "source": [
        "# 평가\n",
        "input_ids, attention_masks, token_type_ids = test_X\n",
        "batch_size = 64\n",
        "steps = len(input_ids) // batch_size\n",
        "loss_fn = tf.keras.losses.SparseCategoricalCrossentropy(from_logits=True)\n",
        "\n",
        "total_loss, total_acc = 0.0, 0.0\n",
        "all_preds, all_labels = [], []\n",
        "\n",
        "for step in range(steps):\n",
        "    start = step * batch_size\n",
        "    end = start + batch_size\n",
        "\n",
        "    batch_inputs = {\n",
        "        \"input_ids\": input_ids[start:end],\n",
        "        \"attention_mask\": attention_masks[start:end],\n",
        "        \"token_type_ids\": token_type_ids[start:end]\n",
        "    }\n",
        "    batch_labels = test_y[start:end]\n",
        "\n",
        "    outputs = model(batch_inputs, training=False)\n",
        "    logits = outputs.logits\n",
        "    loss = loss_fn(batch_labels, logits)\n",
        "    preds = tf.argmax(logits, axis=1)\n",
        "\n",
        "    total_loss += loss.numpy()\n",
        "    total_acc += tf.reduce_mean(tf.cast(tf.equal(preds, batch_labels), tf.float32)).numpy()\n",
        "\n",
        "    all_preds.extend(preds.numpy())\n",
        "    all_labels.extend(batch_labels)\n",
        "\n",
        "# 결과 출력\n",
        "print(f\"Test Loss: {total_loss / steps:.4f}, Test Accuracy: {total_acc / steps:.4f}\")\n",
        "print(\"Macro F1 Score:\", f1_score(all_labels, all_preds, average='macro'))\n",
        "print(\"Weighted F1 Score:\", f1_score(all_labels, all_preds, average='weighted'))\n",
        "print(\"\\nClassification Report:\\n\", classification_report(all_labels, all_preds, target_names=[\"중립\", \"긍정\", \"부정\"], digits=4))\n",
        "\n",
        "# 혼동 행렬 시각화\n",
        "cm = confusion_matrix(all_labels, all_preds)\n",
        "plt.figure(figsize=(6, 5))\n",
        "sns.heatmap(cm, annot=True, fmt='d', cmap='Blues',\n",
        "            xticklabels=[\"중립\", \"긍정\", \"부정\"],\n",
        "            yticklabels=[\"중립\", \"긍정\", \"부정\"])\n",
        "plt.xlabel(\"Predicted\")\n",
        "plt.ylabel(\"True\")\n",
        "plt.title(\"Confusion Matrix\")\n",
        "plt.tight_layout()\n",
        "plt.show()"
      ]
    }
  ],
  "metadata": {
    "accelerator": "TPU",
    "colab": {
      "collapsed_sections": [],
      "machine_shape": "hm",
      "name": "BERT finance sentiment analysis_kor.ipynb",
      "provenance": []
    },
    "kernelspec": {
      "display_name": "ESTsoft_TP_2",
      "language": "python",
      "name": "python3"
    },
    "language_info": {
      "codemirror_mode": {
        "name": "ipython",
        "version": 3
      },
      "file_extension": ".py",
      "mimetype": "text/x-python",
      "name": "python",
      "nbconvert_exporter": "python",
      "pygments_lexer": "ipython3",
      "version": "3.9.23"
    },
    "widgets": {
      "application/vnd.jupyter.widget-state+json": {
        "07e43b56c69a4d9d875efc7b71a4899f": {
          "model_module": "@jupyter-widgets/controls",
          "model_module_version": "1.5.0",
          "model_name": "DescriptionStyleModel",
          "state": {
            "_model_module": "@jupyter-widgets/controls",
            "_model_module_version": "1.5.0",
            "_model_name": "DescriptionStyleModel",
            "_view_count": null,
            "_view_module": "@jupyter-widgets/base",
            "_view_module_version": "1.2.0",
            "_view_name": "StyleView",
            "description_width": ""
          }
        },
        "08662b5cf05644e2a2829cee2713a1be": {
          "model_module": "@jupyter-widgets/base",
          "model_module_version": "1.2.0",
          "model_name": "LayoutModel",
          "state": {
            "_model_module": "@jupyter-widgets/base",
            "_model_module_version": "1.2.0",
            "_model_name": "LayoutModel",
            "_view_count": null,
            "_view_module": "@jupyter-widgets/base",
            "_view_module_version": "1.2.0",
            "_view_name": "LayoutView",
            "align_content": null,
            "align_items": null,
            "align_self": null,
            "border": null,
            "bottom": null,
            "display": null,
            "flex": null,
            "flex_flow": null,
            "grid_area": null,
            "grid_auto_columns": null,
            "grid_auto_flow": null,
            "grid_auto_rows": null,
            "grid_column": null,
            "grid_gap": null,
            "grid_row": null,
            "grid_template_areas": null,
            "grid_template_columns": null,
            "grid_template_rows": null,
            "height": null,
            "justify_content": null,
            "justify_items": null,
            "left": null,
            "margin": null,
            "max_height": null,
            "max_width": null,
            "min_height": null,
            "min_width": null,
            "object_fit": null,
            "object_position": null,
            "order": null,
            "overflow": null,
            "overflow_x": null,
            "overflow_y": null,
            "padding": null,
            "right": null,
            "top": null,
            "visibility": null,
            "width": null
          }
        },
        "0f44031b6cd4459d8f03cd4ac96f332d": {
          "model_module": "@jupyter-widgets/controls",
          "model_module_version": "1.5.0",
          "model_name": "DescriptionStyleModel",
          "state": {
            "_model_module": "@jupyter-widgets/controls",
            "_model_module_version": "1.5.0",
            "_model_name": "DescriptionStyleModel",
            "_view_count": null,
            "_view_module": "@jupyter-widgets/base",
            "_view_module_version": "1.2.0",
            "_view_name": "StyleView",
            "description_width": ""
          }
        },
        "0f4b1da5893148e78fe567d61ba231e4": {
          "model_module": "@jupyter-widgets/base",
          "model_module_version": "1.2.0",
          "model_name": "LayoutModel",
          "state": {
            "_model_module": "@jupyter-widgets/base",
            "_model_module_version": "1.2.0",
            "_model_name": "LayoutModel",
            "_view_count": null,
            "_view_module": "@jupyter-widgets/base",
            "_view_module_version": "1.2.0",
            "_view_name": "LayoutView",
            "align_content": null,
            "align_items": null,
            "align_self": null,
            "border": null,
            "bottom": null,
            "display": null,
            "flex": null,
            "flex_flow": null,
            "grid_area": null,
            "grid_auto_columns": null,
            "grid_auto_flow": null,
            "grid_auto_rows": null,
            "grid_column": null,
            "grid_gap": null,
            "grid_row": null,
            "grid_template_areas": null,
            "grid_template_columns": null,
            "grid_template_rows": null,
            "height": null,
            "justify_content": null,
            "justify_items": null,
            "left": null,
            "margin": null,
            "max_height": null,
            "max_width": null,
            "min_height": null,
            "min_width": null,
            "object_fit": null,
            "object_position": null,
            "order": null,
            "overflow": null,
            "overflow_x": null,
            "overflow_y": null,
            "padding": null,
            "right": null,
            "top": null,
            "visibility": null,
            "width": null
          }
        },
        "13b5d6ec770a4ef2a29dc9e354f0a5e4": {
          "model_module": "@jupyter-widgets/controls",
          "model_module_version": "1.5.0",
          "model_name": "HTMLModel",
          "state": {
            "_dom_classes": [],
            "_model_module": "@jupyter-widgets/controls",
            "_model_module_version": "1.5.0",
            "_model_name": "HTMLModel",
            "_view_count": null,
            "_view_module": "@jupyter-widgets/controls",
            "_view_module_version": "1.5.0",
            "_view_name": "HTMLView",
            "description": "",
            "description_tooltip": null,
            "layout": "IPY_MODEL_c3aa08f8f15447d0933fff8adcdb09bf",
            "placeholder": "​",
            "style": "IPY_MODEL_43e0937b09934e8d81de9d5bd21152ba",
            "value": " 243k/243k [00:00&lt;00:00, 1.58MB/s]"
          }
        },
        "1ac36ddd5d054d9d8d79a3643753f5b8": {
          "model_module": "@jupyter-widgets/controls",
          "model_module_version": "1.5.0",
          "model_name": "HTMLModel",
          "state": {
            "_dom_classes": [],
            "_model_module": "@jupyter-widgets/controls",
            "_model_module_version": "1.5.0",
            "_model_name": "HTMLModel",
            "_view_count": null,
            "_view_module": "@jupyter-widgets/controls",
            "_view_module_version": "1.5.0",
            "_view_name": "HTMLView",
            "description": "",
            "description_tooltip": null,
            "layout": "IPY_MODEL_48fcf028aa8142efa520d6b04fc9a69d",
            "placeholder": "​",
            "style": "IPY_MODEL_670b7fdf8ce9480ba404f973c7c15649",
            "value": " 483k/483k [00:00&lt;00:00, 1.60MB/s]"
          }
        },
        "1b151d1b646f46acac755fa1288580c8": {
          "model_module": "@jupyter-widgets/controls",
          "model_module_version": "1.5.0",
          "model_name": "DescriptionStyleModel",
          "state": {
            "_model_module": "@jupyter-widgets/controls",
            "_model_module_version": "1.5.0",
            "_model_name": "DescriptionStyleModel",
            "_view_count": null,
            "_view_module": "@jupyter-widgets/base",
            "_view_module_version": "1.2.0",
            "_view_name": "StyleView",
            "description_width": ""
          }
        },
        "1cd22e9c4f014e69a6f1206012fddb8c": {
          "model_module": "@jupyter-widgets/base",
          "model_module_version": "1.2.0",
          "model_name": "LayoutModel",
          "state": {
            "_model_module": "@jupyter-widgets/base",
            "_model_module_version": "1.2.0",
            "_model_name": "LayoutModel",
            "_view_count": null,
            "_view_module": "@jupyter-widgets/base",
            "_view_module_version": "1.2.0",
            "_view_name": "LayoutView",
            "align_content": null,
            "align_items": null,
            "align_self": null,
            "border": null,
            "bottom": null,
            "display": null,
            "flex": null,
            "flex_flow": null,
            "grid_area": null,
            "grid_auto_columns": null,
            "grid_auto_flow": null,
            "grid_auto_rows": null,
            "grid_column": null,
            "grid_gap": null,
            "grid_row": null,
            "grid_template_areas": null,
            "grid_template_columns": null,
            "grid_template_rows": null,
            "height": null,
            "justify_content": null,
            "justify_items": null,
            "left": null,
            "margin": null,
            "max_height": null,
            "max_width": null,
            "min_height": null,
            "min_width": null,
            "object_fit": null,
            "object_position": null,
            "order": null,
            "overflow": null,
            "overflow_x": null,
            "overflow_y": null,
            "padding": null,
            "right": null,
            "top": null,
            "visibility": null,
            "width": null
          }
        },
        "1d6c0ce65f804337969d49c07722c886": {
          "model_module": "@jupyter-widgets/controls",
          "model_module_version": "1.5.0",
          "model_name": "HTMLModel",
          "state": {
            "_dom_classes": [],
            "_model_module": "@jupyter-widgets/controls",
            "_model_module_version": "1.5.0",
            "_model_name": "HTMLModel",
            "_view_count": null,
            "_view_module": "@jupyter-widgets/controls",
            "_view_module_version": "1.5.0",
            "_view_name": "HTMLView",
            "description": "",
            "description_tooltip": null,
            "layout": "IPY_MODEL_2a1f20425ba9433eb72beabc6c179543",
            "placeholder": "​",
            "style": "IPY_MODEL_f2f6fa4ca9d94cc18d1d3569191cc2fc",
            "value": "Downloading: 100%"
          }
        },
        "20b60f13afde495092f035b7fb8737e9": {
          "model_module": "@jupyter-widgets/controls",
          "model_module_version": "1.5.0",
          "model_name": "ProgressStyleModel",
          "state": {
            "_model_module": "@jupyter-widgets/controls",
            "_model_module_version": "1.5.0",
            "_model_name": "ProgressStyleModel",
            "_view_count": null,
            "_view_module": "@jupyter-widgets/base",
            "_view_module_version": "1.2.0",
            "_view_name": "StyleView",
            "bar_color": null,
            "description_width": ""
          }
        },
        "2171c39ae28b45d8ba3129cc1610e52f": {
          "model_module": "@jupyter-widgets/base",
          "model_module_version": "1.2.0",
          "model_name": "LayoutModel",
          "state": {
            "_model_module": "@jupyter-widgets/base",
            "_model_module_version": "1.2.0",
            "_model_name": "LayoutModel",
            "_view_count": null,
            "_view_module": "@jupyter-widgets/base",
            "_view_module_version": "1.2.0",
            "_view_name": "LayoutView",
            "align_content": null,
            "align_items": null,
            "align_self": null,
            "border": null,
            "bottom": null,
            "display": null,
            "flex": null,
            "flex_flow": null,
            "grid_area": null,
            "grid_auto_columns": null,
            "grid_auto_flow": null,
            "grid_auto_rows": null,
            "grid_column": null,
            "grid_gap": null,
            "grid_row": null,
            "grid_template_areas": null,
            "grid_template_columns": null,
            "grid_template_rows": null,
            "height": null,
            "justify_content": null,
            "justify_items": null,
            "left": null,
            "margin": null,
            "max_height": null,
            "max_width": null,
            "min_height": null,
            "min_width": null,
            "object_fit": null,
            "object_position": null,
            "order": null,
            "overflow": null,
            "overflow_x": null,
            "overflow_y": null,
            "padding": null,
            "right": null,
            "top": null,
            "visibility": null,
            "width": null
          }
        },
        "2a1f20425ba9433eb72beabc6c179543": {
          "model_module": "@jupyter-widgets/base",
          "model_module_version": "1.2.0",
          "model_name": "LayoutModel",
          "state": {
            "_model_module": "@jupyter-widgets/base",
            "_model_module_version": "1.2.0",
            "_model_name": "LayoutModel",
            "_view_count": null,
            "_view_module": "@jupyter-widgets/base",
            "_view_module_version": "1.2.0",
            "_view_name": "LayoutView",
            "align_content": null,
            "align_items": null,
            "align_self": null,
            "border": null,
            "bottom": null,
            "display": null,
            "flex": null,
            "flex_flow": null,
            "grid_area": null,
            "grid_auto_columns": null,
            "grid_auto_flow": null,
            "grid_auto_rows": null,
            "grid_column": null,
            "grid_gap": null,
            "grid_row": null,
            "grid_template_areas": null,
            "grid_template_columns": null,
            "grid_template_rows": null,
            "height": null,
            "justify_content": null,
            "justify_items": null,
            "left": null,
            "margin": null,
            "max_height": null,
            "max_width": null,
            "min_height": null,
            "min_width": null,
            "object_fit": null,
            "object_position": null,
            "order": null,
            "overflow": null,
            "overflow_x": null,
            "overflow_y": null,
            "padding": null,
            "right": null,
            "top": null,
            "visibility": null,
            "width": null
          }
        },
        "317d76f349d547fb8fc458961d6af56e": {
          "model_module": "@jupyter-widgets/controls",
          "model_module_version": "1.5.0",
          "model_name": "FloatProgressModel",
          "state": {
            "_dom_classes": [],
            "_model_module": "@jupyter-widgets/controls",
            "_model_module_version": "1.5.0",
            "_model_name": "FloatProgressModel",
            "_view_count": null,
            "_view_module": "@jupyter-widgets/controls",
            "_view_module_version": "1.5.0",
            "_view_name": "ProgressView",
            "bar_style": "success",
            "description": "",
            "description_tooltip": null,
            "layout": "IPY_MODEL_dce60906b70044169297d5d2618b2461",
            "max": 289,
            "min": 0,
            "orientation": "horizontal",
            "style": "IPY_MODEL_73904cb7aaca4c20965c56a3215fa848",
            "value": 289
          }
        },
        "374269e944984fa6b0e7be0a9b7771ee": {
          "model_module": "@jupyter-widgets/base",
          "model_module_version": "1.2.0",
          "model_name": "LayoutModel",
          "state": {
            "_model_module": "@jupyter-widgets/base",
            "_model_module_version": "1.2.0",
            "_model_name": "LayoutModel",
            "_view_count": null,
            "_view_module": "@jupyter-widgets/base",
            "_view_module_version": "1.2.0",
            "_view_name": "LayoutView",
            "align_content": null,
            "align_items": null,
            "align_self": null,
            "border": null,
            "bottom": null,
            "display": null,
            "flex": null,
            "flex_flow": null,
            "grid_area": null,
            "grid_auto_columns": null,
            "grid_auto_flow": null,
            "grid_auto_rows": null,
            "grid_column": null,
            "grid_gap": null,
            "grid_row": null,
            "grid_template_areas": null,
            "grid_template_columns": null,
            "grid_template_rows": null,
            "height": null,
            "justify_content": null,
            "justify_items": null,
            "left": null,
            "margin": null,
            "max_height": null,
            "max_width": null,
            "min_height": null,
            "min_width": null,
            "object_fit": null,
            "object_position": null,
            "order": null,
            "overflow": null,
            "overflow_x": null,
            "overflow_y": null,
            "padding": null,
            "right": null,
            "top": null,
            "visibility": null,
            "width": null
          }
        },
        "43e0937b09934e8d81de9d5bd21152ba": {
          "model_module": "@jupyter-widgets/controls",
          "model_module_version": "1.5.0",
          "model_name": "DescriptionStyleModel",
          "state": {
            "_model_module": "@jupyter-widgets/controls",
            "_model_module_version": "1.5.0",
            "_model_name": "DescriptionStyleModel",
            "_view_count": null,
            "_view_module": "@jupyter-widgets/base",
            "_view_module_version": "1.2.0",
            "_view_name": "StyleView",
            "description_width": ""
          }
        },
        "47f3d82231b54c0e948063e35ed27bbd": {
          "model_module": "@jupyter-widgets/controls",
          "model_module_version": "1.5.0",
          "model_name": "HBoxModel",
          "state": {
            "_dom_classes": [],
            "_model_module": "@jupyter-widgets/controls",
            "_model_module_version": "1.5.0",
            "_model_name": "HBoxModel",
            "_view_count": null,
            "_view_module": "@jupyter-widgets/controls",
            "_view_module_version": "1.5.0",
            "_view_name": "HBoxView",
            "box_style": "",
            "children": [
              "IPY_MODEL_ae06861e12c0469eab67b07d93d5ca9f",
              "IPY_MODEL_8dd32717940249b880b4290d57110cb8",
              "IPY_MODEL_1ac36ddd5d054d9d8d79a3643753f5b8"
            ],
            "layout": "IPY_MODEL_c42e69c4808949fb9c48546ae09e0621"
          }
        },
        "48fcf028aa8142efa520d6b04fc9a69d": {
          "model_module": "@jupyter-widgets/base",
          "model_module_version": "1.2.0",
          "model_name": "LayoutModel",
          "state": {
            "_model_module": "@jupyter-widgets/base",
            "_model_module_version": "1.2.0",
            "_model_name": "LayoutModel",
            "_view_count": null,
            "_view_module": "@jupyter-widgets/base",
            "_view_module_version": "1.2.0",
            "_view_name": "LayoutView",
            "align_content": null,
            "align_items": null,
            "align_self": null,
            "border": null,
            "bottom": null,
            "display": null,
            "flex": null,
            "flex_flow": null,
            "grid_area": null,
            "grid_auto_columns": null,
            "grid_auto_flow": null,
            "grid_auto_rows": null,
            "grid_column": null,
            "grid_gap": null,
            "grid_row": null,
            "grid_template_areas": null,
            "grid_template_columns": null,
            "grid_template_rows": null,
            "height": null,
            "justify_content": null,
            "justify_items": null,
            "left": null,
            "margin": null,
            "max_height": null,
            "max_width": null,
            "min_height": null,
            "min_width": null,
            "object_fit": null,
            "object_position": null,
            "order": null,
            "overflow": null,
            "overflow_x": null,
            "overflow_y": null,
            "padding": null,
            "right": null,
            "top": null,
            "visibility": null,
            "width": null
          }
        },
        "56b1b65d98414340b2a13a25497296c9": {
          "model_module": "@jupyter-widgets/base",
          "model_module_version": "1.2.0",
          "model_name": "LayoutModel",
          "state": {
            "_model_module": "@jupyter-widgets/base",
            "_model_module_version": "1.2.0",
            "_model_name": "LayoutModel",
            "_view_count": null,
            "_view_module": "@jupyter-widgets/base",
            "_view_module_version": "1.2.0",
            "_view_name": "LayoutView",
            "align_content": null,
            "align_items": null,
            "align_self": null,
            "border": null,
            "bottom": null,
            "display": null,
            "flex": null,
            "flex_flow": null,
            "grid_area": null,
            "grid_auto_columns": null,
            "grid_auto_flow": null,
            "grid_auto_rows": null,
            "grid_column": null,
            "grid_gap": null,
            "grid_row": null,
            "grid_template_areas": null,
            "grid_template_columns": null,
            "grid_template_rows": null,
            "height": null,
            "justify_content": null,
            "justify_items": null,
            "left": null,
            "margin": null,
            "max_height": null,
            "max_width": null,
            "min_height": null,
            "min_width": null,
            "object_fit": null,
            "object_position": null,
            "order": null,
            "overflow": null,
            "overflow_x": null,
            "overflow_y": null,
            "padding": null,
            "right": null,
            "top": null,
            "visibility": null,
            "width": null
          }
        },
        "5883cb8d54e445a3a5b322806571f4e7": {
          "model_module": "@jupyter-widgets/controls",
          "model_module_version": "1.5.0",
          "model_name": "ProgressStyleModel",
          "state": {
            "_model_module": "@jupyter-widgets/controls",
            "_model_module_version": "1.5.0",
            "_model_name": "ProgressStyleModel",
            "_view_count": null,
            "_view_module": "@jupyter-widgets/base",
            "_view_module_version": "1.2.0",
            "_view_name": "StyleView",
            "bar_color": null,
            "description_width": ""
          }
        },
        "63e26f8985ac4227a5633d724be0a9b2": {
          "model_module": "@jupyter-widgets/base",
          "model_module_version": "1.2.0",
          "model_name": "LayoutModel",
          "state": {
            "_model_module": "@jupyter-widgets/base",
            "_model_module_version": "1.2.0",
            "_model_name": "LayoutModel",
            "_view_count": null,
            "_view_module": "@jupyter-widgets/base",
            "_view_module_version": "1.2.0",
            "_view_name": "LayoutView",
            "align_content": null,
            "align_items": null,
            "align_self": null,
            "border": null,
            "bottom": null,
            "display": null,
            "flex": null,
            "flex_flow": null,
            "grid_area": null,
            "grid_auto_columns": null,
            "grid_auto_flow": null,
            "grid_auto_rows": null,
            "grid_column": null,
            "grid_gap": null,
            "grid_row": null,
            "grid_template_areas": null,
            "grid_template_columns": null,
            "grid_template_rows": null,
            "height": null,
            "justify_content": null,
            "justify_items": null,
            "left": null,
            "margin": null,
            "max_height": null,
            "max_width": null,
            "min_height": null,
            "min_width": null,
            "object_fit": null,
            "object_position": null,
            "order": null,
            "overflow": null,
            "overflow_x": null,
            "overflow_y": null,
            "padding": null,
            "right": null,
            "top": null,
            "visibility": null,
            "width": null
          }
        },
        "670b7fdf8ce9480ba404f973c7c15649": {
          "model_module": "@jupyter-widgets/controls",
          "model_module_version": "1.5.0",
          "model_name": "DescriptionStyleModel",
          "state": {
            "_model_module": "@jupyter-widgets/controls",
            "_model_module_version": "1.5.0",
            "_model_name": "DescriptionStyleModel",
            "_view_count": null,
            "_view_module": "@jupyter-widgets/base",
            "_view_module_version": "1.2.0",
            "_view_name": "StyleView",
            "description_width": ""
          }
        },
        "6b9a5cce10a1418bb1cb63c079c91a79": {
          "model_module": "@jupyter-widgets/base",
          "model_module_version": "1.2.0",
          "model_name": "LayoutModel",
          "state": {
            "_model_module": "@jupyter-widgets/base",
            "_model_module_version": "1.2.0",
            "_model_name": "LayoutModel",
            "_view_count": null,
            "_view_module": "@jupyter-widgets/base",
            "_view_module_version": "1.2.0",
            "_view_name": "LayoutView",
            "align_content": null,
            "align_items": null,
            "align_self": null,
            "border": null,
            "bottom": null,
            "display": null,
            "flex": null,
            "flex_flow": null,
            "grid_area": null,
            "grid_auto_columns": null,
            "grid_auto_flow": null,
            "grid_auto_rows": null,
            "grid_column": null,
            "grid_gap": null,
            "grid_row": null,
            "grid_template_areas": null,
            "grid_template_columns": null,
            "grid_template_rows": null,
            "height": null,
            "justify_content": null,
            "justify_items": null,
            "left": null,
            "margin": null,
            "max_height": null,
            "max_width": null,
            "min_height": null,
            "min_width": null,
            "object_fit": null,
            "object_position": null,
            "order": null,
            "overflow": null,
            "overflow_x": null,
            "overflow_y": null,
            "padding": null,
            "right": null,
            "top": null,
            "visibility": null,
            "width": null
          }
        },
        "73904cb7aaca4c20965c56a3215fa848": {
          "model_module": "@jupyter-widgets/controls",
          "model_module_version": "1.5.0",
          "model_name": "ProgressStyleModel",
          "state": {
            "_model_module": "@jupyter-widgets/controls",
            "_model_module_version": "1.5.0",
            "_model_name": "ProgressStyleModel",
            "_view_count": null,
            "_view_module": "@jupyter-widgets/base",
            "_view_module_version": "1.2.0",
            "_view_name": "StyleView",
            "bar_color": null,
            "description_width": ""
          }
        },
        "73dfeace493049ab93cc2032eec05390": {
          "model_module": "@jupyter-widgets/controls",
          "model_module_version": "1.5.0",
          "model_name": "HTMLModel",
          "state": {
            "_dom_classes": [],
            "_model_module": "@jupyter-widgets/controls",
            "_model_module_version": "1.5.0",
            "_model_name": "HTMLModel",
            "_view_count": null,
            "_view_module": "@jupyter-widgets/controls",
            "_view_module_version": "1.5.0",
            "_view_name": "HTMLView",
            "description": "",
            "description_tooltip": null,
            "layout": "IPY_MODEL_08662b5cf05644e2a2829cee2713a1be",
            "placeholder": "​",
            "style": "IPY_MODEL_e0bca5090f5640a89f83b850823c01df",
            "value": "Downloading: 100%"
          }
        },
        "753c832e90654b54aab4fc228f0ac2d2": {
          "model_module": "@jupyter-widgets/base",
          "model_module_version": "1.2.0",
          "model_name": "LayoutModel",
          "state": {
            "_model_module": "@jupyter-widgets/base",
            "_model_module_version": "1.2.0",
            "_model_name": "LayoutModel",
            "_view_count": null,
            "_view_module": "@jupyter-widgets/base",
            "_view_module_version": "1.2.0",
            "_view_name": "LayoutView",
            "align_content": null,
            "align_items": null,
            "align_self": null,
            "border": null,
            "bottom": null,
            "display": null,
            "flex": null,
            "flex_flow": null,
            "grid_area": null,
            "grid_auto_columns": null,
            "grid_auto_flow": null,
            "grid_auto_rows": null,
            "grid_column": null,
            "grid_gap": null,
            "grid_row": null,
            "grid_template_areas": null,
            "grid_template_columns": null,
            "grid_template_rows": null,
            "height": null,
            "justify_content": null,
            "justify_items": null,
            "left": null,
            "margin": null,
            "max_height": null,
            "max_width": null,
            "min_height": null,
            "min_width": null,
            "object_fit": null,
            "object_position": null,
            "order": null,
            "overflow": null,
            "overflow_x": null,
            "overflow_y": null,
            "padding": null,
            "right": null,
            "top": null,
            "visibility": null,
            "width": null
          }
        },
        "7e90994f2d614906a24b33a1f0766325": {
          "model_module": "@jupyter-widgets/controls",
          "model_module_version": "1.5.0",
          "model_name": "ProgressStyleModel",
          "state": {
            "_model_module": "@jupyter-widgets/controls",
            "_model_module_version": "1.5.0",
            "_model_name": "ProgressStyleModel",
            "_view_count": null,
            "_view_module": "@jupyter-widgets/base",
            "_view_module_version": "1.2.0",
            "_view_name": "StyleView",
            "bar_color": null,
            "description_width": ""
          }
        },
        "821c221cb1a3456d942d112818b32aed": {
          "model_module": "@jupyter-widgets/controls",
          "model_module_version": "1.5.0",
          "model_name": "DescriptionStyleModel",
          "state": {
            "_model_module": "@jupyter-widgets/controls",
            "_model_module_version": "1.5.0",
            "_model_name": "DescriptionStyleModel",
            "_view_count": null,
            "_view_module": "@jupyter-widgets/base",
            "_view_module_version": "1.2.0",
            "_view_name": "StyleView",
            "description_width": ""
          }
        },
        "855b3aa3c9574fb491e06709952b2f89": {
          "model_module": "@jupyter-widgets/base",
          "model_module_version": "1.2.0",
          "model_name": "LayoutModel",
          "state": {
            "_model_module": "@jupyter-widgets/base",
            "_model_module_version": "1.2.0",
            "_model_name": "LayoutModel",
            "_view_count": null,
            "_view_module": "@jupyter-widgets/base",
            "_view_module_version": "1.2.0",
            "_view_name": "LayoutView",
            "align_content": null,
            "align_items": null,
            "align_self": null,
            "border": null,
            "bottom": null,
            "display": null,
            "flex": null,
            "flex_flow": null,
            "grid_area": null,
            "grid_auto_columns": null,
            "grid_auto_flow": null,
            "grid_auto_rows": null,
            "grid_column": null,
            "grid_gap": null,
            "grid_row": null,
            "grid_template_areas": null,
            "grid_template_columns": null,
            "grid_template_rows": null,
            "height": null,
            "justify_content": null,
            "justify_items": null,
            "left": null,
            "margin": null,
            "max_height": null,
            "max_width": null,
            "min_height": null,
            "min_width": null,
            "object_fit": null,
            "object_position": null,
            "order": null,
            "overflow": null,
            "overflow_x": null,
            "overflow_y": null,
            "padding": null,
            "right": null,
            "top": null,
            "visibility": null,
            "width": null
          }
        },
        "8723a9a082cb4893a6805bae8241d977": {
          "model_module": "@jupyter-widgets/controls",
          "model_module_version": "1.5.0",
          "model_name": "HBoxModel",
          "state": {
            "_dom_classes": [],
            "_model_module": "@jupyter-widgets/controls",
            "_model_module_version": "1.5.0",
            "_model_name": "HBoxModel",
            "_view_count": null,
            "_view_module": "@jupyter-widgets/controls",
            "_view_module_version": "1.5.0",
            "_view_name": "HBoxView",
            "box_style": "",
            "children": [
              "IPY_MODEL_73dfeace493049ab93cc2032eec05390",
              "IPY_MODEL_317d76f349d547fb8fc458961d6af56e",
              "IPY_MODEL_e2af00816f8346bc81062993427a3dad"
            ],
            "layout": "IPY_MODEL_753c832e90654b54aab4fc228f0ac2d2"
          }
        },
        "8dd32717940249b880b4290d57110cb8": {
          "model_module": "@jupyter-widgets/controls",
          "model_module_version": "1.5.0",
          "model_name": "FloatProgressModel",
          "state": {
            "_dom_classes": [],
            "_model_module": "@jupyter-widgets/controls",
            "_model_module_version": "1.5.0",
            "_model_name": "FloatProgressModel",
            "_view_count": null,
            "_view_module": "@jupyter-widgets/controls",
            "_view_module_version": "1.5.0",
            "_view_name": "ProgressView",
            "bar_style": "success",
            "description": "",
            "description_tooltip": null,
            "layout": "IPY_MODEL_9e7e95d8c696434989cee60ad5db6509",
            "max": 494860,
            "min": 0,
            "orientation": "horizontal",
            "style": "IPY_MODEL_20b60f13afde495092f035b7fb8737e9",
            "value": 494860
          }
        },
        "911d5b008fab4808a6ff95d0291bbbba": {
          "model_module": "@jupyter-widgets/controls",
          "model_module_version": "1.5.0",
          "model_name": "FloatProgressModel",
          "state": {
            "_dom_classes": [],
            "_model_module": "@jupyter-widgets/controls",
            "_model_module_version": "1.5.0",
            "_model_name": "FloatProgressModel",
            "_view_count": null,
            "_view_module": "@jupyter-widgets/controls",
            "_view_module_version": "1.5.0",
            "_view_name": "ProgressView",
            "bar_style": "success",
            "description": "",
            "description_tooltip": null,
            "layout": "IPY_MODEL_c19183ce5143404a99ccd6977289ecd5",
            "max": 425,
            "min": 0,
            "orientation": "horizontal",
            "style": "IPY_MODEL_7e90994f2d614906a24b33a1f0766325",
            "value": 425
          }
        },
        "97d7ae458fda43f695365b242f4b562b": {
          "model_module": "@jupyter-widgets/controls",
          "model_module_version": "1.5.0",
          "model_name": "HBoxModel",
          "state": {
            "_dom_classes": [],
            "_model_module": "@jupyter-widgets/controls",
            "_model_module_version": "1.5.0",
            "_model_name": "HBoxModel",
            "_view_count": null,
            "_view_module": "@jupyter-widgets/controls",
            "_view_module_version": "1.5.0",
            "_view_name": "HBoxView",
            "box_style": "",
            "children": [
              "IPY_MODEL_d6a1c66def434ee2ae83f2e2c9ad28a8",
              "IPY_MODEL_911d5b008fab4808a6ff95d0291bbbba",
              "IPY_MODEL_b87418a2e0af464b8324cd03caea58a3"
            ],
            "layout": "IPY_MODEL_0f4b1da5893148e78fe567d61ba231e4"
          }
        },
        "97e2c78205234ff0929b3e887e6dfd46": {
          "model_module": "@jupyter-widgets/base",
          "model_module_version": "1.2.0",
          "model_name": "LayoutModel",
          "state": {
            "_model_module": "@jupyter-widgets/base",
            "_model_module_version": "1.2.0",
            "_model_name": "LayoutModel",
            "_view_count": null,
            "_view_module": "@jupyter-widgets/base",
            "_view_module_version": "1.2.0",
            "_view_name": "LayoutView",
            "align_content": null,
            "align_items": null,
            "align_self": null,
            "border": null,
            "bottom": null,
            "display": null,
            "flex": null,
            "flex_flow": null,
            "grid_area": null,
            "grid_auto_columns": null,
            "grid_auto_flow": null,
            "grid_auto_rows": null,
            "grid_column": null,
            "grid_gap": null,
            "grid_row": null,
            "grid_template_areas": null,
            "grid_template_columns": null,
            "grid_template_rows": null,
            "height": null,
            "justify_content": null,
            "justify_items": null,
            "left": null,
            "margin": null,
            "max_height": null,
            "max_width": null,
            "min_height": null,
            "min_width": null,
            "object_fit": null,
            "object_position": null,
            "order": null,
            "overflow": null,
            "overflow_x": null,
            "overflow_y": null,
            "padding": null,
            "right": null,
            "top": null,
            "visibility": null,
            "width": null
          }
        },
        "98dfab65718b4e0d9704b00dc283c7ba": {
          "model_module": "@jupyter-widgets/base",
          "model_module_version": "1.2.0",
          "model_name": "LayoutModel",
          "state": {
            "_model_module": "@jupyter-widgets/base",
            "_model_module_version": "1.2.0",
            "_model_name": "LayoutModel",
            "_view_count": null,
            "_view_module": "@jupyter-widgets/base",
            "_view_module_version": "1.2.0",
            "_view_name": "LayoutView",
            "align_content": null,
            "align_items": null,
            "align_self": null,
            "border": null,
            "bottom": null,
            "display": null,
            "flex": null,
            "flex_flow": null,
            "grid_area": null,
            "grid_auto_columns": null,
            "grid_auto_flow": null,
            "grid_auto_rows": null,
            "grid_column": null,
            "grid_gap": null,
            "grid_row": null,
            "grid_template_areas": null,
            "grid_template_columns": null,
            "grid_template_rows": null,
            "height": null,
            "justify_content": null,
            "justify_items": null,
            "left": null,
            "margin": null,
            "max_height": null,
            "max_width": null,
            "min_height": null,
            "min_width": null,
            "object_fit": null,
            "object_position": null,
            "order": null,
            "overflow": null,
            "overflow_x": null,
            "overflow_y": null,
            "padding": null,
            "right": null,
            "top": null,
            "visibility": null,
            "width": null
          }
        },
        "9e7e95d8c696434989cee60ad5db6509": {
          "model_module": "@jupyter-widgets/base",
          "model_module_version": "1.2.0",
          "model_name": "LayoutModel",
          "state": {
            "_model_module": "@jupyter-widgets/base",
            "_model_module_version": "1.2.0",
            "_model_name": "LayoutModel",
            "_view_count": null,
            "_view_module": "@jupyter-widgets/base",
            "_view_module_version": "1.2.0",
            "_view_name": "LayoutView",
            "align_content": null,
            "align_items": null,
            "align_self": null,
            "border": null,
            "bottom": null,
            "display": null,
            "flex": null,
            "flex_flow": null,
            "grid_area": null,
            "grid_auto_columns": null,
            "grid_auto_flow": null,
            "grid_auto_rows": null,
            "grid_column": null,
            "grid_gap": null,
            "grid_row": null,
            "grid_template_areas": null,
            "grid_template_columns": null,
            "grid_template_rows": null,
            "height": null,
            "justify_content": null,
            "justify_items": null,
            "left": null,
            "margin": null,
            "max_height": null,
            "max_width": null,
            "min_height": null,
            "min_width": null,
            "object_fit": null,
            "object_position": null,
            "order": null,
            "overflow": null,
            "overflow_x": null,
            "overflow_y": null,
            "padding": null,
            "right": null,
            "top": null,
            "visibility": null,
            "width": null
          }
        },
        "a47e27bdd7fb4ea39d77341ae161c8c8": {
          "model_module": "@jupyter-widgets/controls",
          "model_module_version": "1.5.0",
          "model_name": "FloatProgressModel",
          "state": {
            "_dom_classes": [],
            "_model_module": "@jupyter-widgets/controls",
            "_model_module_version": "1.5.0",
            "_model_name": "FloatProgressModel",
            "_view_count": null,
            "_view_module": "@jupyter-widgets/controls",
            "_view_module_version": "1.5.0",
            "_view_name": "ProgressView",
            "bar_style": "success",
            "description": "",
            "description_tooltip": null,
            "layout": "IPY_MODEL_97e2c78205234ff0929b3e887e6dfd46",
            "max": 248477,
            "min": 0,
            "orientation": "horizontal",
            "style": "IPY_MODEL_f149704594904529b3ffce9432d49fa7",
            "value": 248477
          }
        },
        "ae06861e12c0469eab67b07d93d5ca9f": {
          "model_module": "@jupyter-widgets/controls",
          "model_module_version": "1.5.0",
          "model_name": "HTMLModel",
          "state": {
            "_dom_classes": [],
            "_model_module": "@jupyter-widgets/controls",
            "_model_module_version": "1.5.0",
            "_model_name": "HTMLModel",
            "_view_count": null,
            "_view_module": "@jupyter-widgets/controls",
            "_view_module_version": "1.5.0",
            "_view_name": "HTMLView",
            "description": "",
            "description_tooltip": null,
            "layout": "IPY_MODEL_98dfab65718b4e0d9704b00dc283c7ba",
            "placeholder": "​",
            "style": "IPY_MODEL_07e43b56c69a4d9d875efc7b71a4899f",
            "value": "Downloading: 100%"
          }
        },
        "b87418a2e0af464b8324cd03caea58a3": {
          "model_module": "@jupyter-widgets/controls",
          "model_module_version": "1.5.0",
          "model_name": "HTMLModel",
          "state": {
            "_dom_classes": [],
            "_model_module": "@jupyter-widgets/controls",
            "_model_module_version": "1.5.0",
            "_model_name": "HTMLModel",
            "_view_count": null,
            "_view_module": "@jupyter-widgets/controls",
            "_view_module_version": "1.5.0",
            "_view_name": "HTMLView",
            "description": "",
            "description_tooltip": null,
            "layout": "IPY_MODEL_56b1b65d98414340b2a13a25497296c9",
            "placeholder": "​",
            "style": "IPY_MODEL_821c221cb1a3456d942d112818b32aed",
            "value": " 425/425 [00:00&lt;00:00, 15.8kB/s]"
          }
        },
        "b9fda1875e9a429f83ea4602832a79cf": {
          "model_module": "@jupyter-widgets/controls",
          "model_module_version": "1.5.0",
          "model_name": "HTMLModel",
          "state": {
            "_dom_classes": [],
            "_model_module": "@jupyter-widgets/controls",
            "_model_module_version": "1.5.0",
            "_model_name": "HTMLModel",
            "_view_count": null,
            "_view_module": "@jupyter-widgets/controls",
            "_view_module_version": "1.5.0",
            "_view_name": "HTMLView",
            "description": "",
            "description_tooltip": null,
            "layout": "IPY_MODEL_1cd22e9c4f014e69a6f1206012fddb8c",
            "placeholder": "​",
            "style": "IPY_MODEL_1b151d1b646f46acac755fa1288580c8",
            "value": " 125/125 [00:00&lt;00:00, 4.72kB/s]"
          }
        },
        "c19183ce5143404a99ccd6977289ecd5": {
          "model_module": "@jupyter-widgets/base",
          "model_module_version": "1.2.0",
          "model_name": "LayoutModel",
          "state": {
            "_model_module": "@jupyter-widgets/base",
            "_model_module_version": "1.2.0",
            "_model_name": "LayoutModel",
            "_view_count": null,
            "_view_module": "@jupyter-widgets/base",
            "_view_module_version": "1.2.0",
            "_view_name": "LayoutView",
            "align_content": null,
            "align_items": null,
            "align_self": null,
            "border": null,
            "bottom": null,
            "display": null,
            "flex": null,
            "flex_flow": null,
            "grid_area": null,
            "grid_auto_columns": null,
            "grid_auto_flow": null,
            "grid_auto_rows": null,
            "grid_column": null,
            "grid_gap": null,
            "grid_row": null,
            "grid_template_areas": null,
            "grid_template_columns": null,
            "grid_template_rows": null,
            "height": null,
            "justify_content": null,
            "justify_items": null,
            "left": null,
            "margin": null,
            "max_height": null,
            "max_width": null,
            "min_height": null,
            "min_width": null,
            "object_fit": null,
            "object_position": null,
            "order": null,
            "overflow": null,
            "overflow_x": null,
            "overflow_y": null,
            "padding": null,
            "right": null,
            "top": null,
            "visibility": null,
            "width": null
          }
        },
        "c3aa08f8f15447d0933fff8adcdb09bf": {
          "model_module": "@jupyter-widgets/base",
          "model_module_version": "1.2.0",
          "model_name": "LayoutModel",
          "state": {
            "_model_module": "@jupyter-widgets/base",
            "_model_module_version": "1.2.0",
            "_model_name": "LayoutModel",
            "_view_count": null,
            "_view_module": "@jupyter-widgets/base",
            "_view_module_version": "1.2.0",
            "_view_name": "LayoutView",
            "align_content": null,
            "align_items": null,
            "align_self": null,
            "border": null,
            "bottom": null,
            "display": null,
            "flex": null,
            "flex_flow": null,
            "grid_area": null,
            "grid_auto_columns": null,
            "grid_auto_flow": null,
            "grid_auto_rows": null,
            "grid_column": null,
            "grid_gap": null,
            "grid_row": null,
            "grid_template_areas": null,
            "grid_template_columns": null,
            "grid_template_rows": null,
            "height": null,
            "justify_content": null,
            "justify_items": null,
            "left": null,
            "margin": null,
            "max_height": null,
            "max_width": null,
            "min_height": null,
            "min_width": null,
            "object_fit": null,
            "object_position": null,
            "order": null,
            "overflow": null,
            "overflow_x": null,
            "overflow_y": null,
            "padding": null,
            "right": null,
            "top": null,
            "visibility": null,
            "width": null
          }
        },
        "c42e69c4808949fb9c48546ae09e0621": {
          "model_module": "@jupyter-widgets/base",
          "model_module_version": "1.2.0",
          "model_name": "LayoutModel",
          "state": {
            "_model_module": "@jupyter-widgets/base",
            "_model_module_version": "1.2.0",
            "_model_name": "LayoutModel",
            "_view_count": null,
            "_view_module": "@jupyter-widgets/base",
            "_view_module_version": "1.2.0",
            "_view_name": "LayoutView",
            "align_content": null,
            "align_items": null,
            "align_self": null,
            "border": null,
            "bottom": null,
            "display": null,
            "flex": null,
            "flex_flow": null,
            "grid_area": null,
            "grid_auto_columns": null,
            "grid_auto_flow": null,
            "grid_auto_rows": null,
            "grid_column": null,
            "grid_gap": null,
            "grid_row": null,
            "grid_template_areas": null,
            "grid_template_columns": null,
            "grid_template_rows": null,
            "height": null,
            "justify_content": null,
            "justify_items": null,
            "left": null,
            "margin": null,
            "max_height": null,
            "max_width": null,
            "min_height": null,
            "min_width": null,
            "object_fit": null,
            "object_position": null,
            "order": null,
            "overflow": null,
            "overflow_x": null,
            "overflow_y": null,
            "padding": null,
            "right": null,
            "top": null,
            "visibility": null,
            "width": null
          }
        },
        "cb5d3e8bd5ef4aa6a4155088545a3d0c": {
          "model_module": "@jupyter-widgets/base",
          "model_module_version": "1.2.0",
          "model_name": "LayoutModel",
          "state": {
            "_model_module": "@jupyter-widgets/base",
            "_model_module_version": "1.2.0",
            "_model_name": "LayoutModel",
            "_view_count": null,
            "_view_module": "@jupyter-widgets/base",
            "_view_module_version": "1.2.0",
            "_view_name": "LayoutView",
            "align_content": null,
            "align_items": null,
            "align_self": null,
            "border": null,
            "bottom": null,
            "display": null,
            "flex": null,
            "flex_flow": null,
            "grid_area": null,
            "grid_auto_columns": null,
            "grid_auto_flow": null,
            "grid_auto_rows": null,
            "grid_column": null,
            "grid_gap": null,
            "grid_row": null,
            "grid_template_areas": null,
            "grid_template_columns": null,
            "grid_template_rows": null,
            "height": null,
            "justify_content": null,
            "justify_items": null,
            "left": null,
            "margin": null,
            "max_height": null,
            "max_width": null,
            "min_height": null,
            "min_width": null,
            "object_fit": null,
            "object_position": null,
            "order": null,
            "overflow": null,
            "overflow_x": null,
            "overflow_y": null,
            "padding": null,
            "right": null,
            "top": null,
            "visibility": null,
            "width": null
          }
        },
        "d0ae8de401f94ffe87bdd9439f9136c2": {
          "model_module": "@jupyter-widgets/controls",
          "model_module_version": "1.5.0",
          "model_name": "DescriptionStyleModel",
          "state": {
            "_model_module": "@jupyter-widgets/controls",
            "_model_module_version": "1.5.0",
            "_model_name": "DescriptionStyleModel",
            "_view_count": null,
            "_view_module": "@jupyter-widgets/base",
            "_view_module_version": "1.2.0",
            "_view_name": "StyleView",
            "description_width": ""
          }
        },
        "d220bf12546244efa0652985ab2b3053": {
          "model_module": "@jupyter-widgets/controls",
          "model_module_version": "1.5.0",
          "model_name": "FloatProgressModel",
          "state": {
            "_dom_classes": [],
            "_model_module": "@jupyter-widgets/controls",
            "_model_module_version": "1.5.0",
            "_model_name": "FloatProgressModel",
            "_view_count": null,
            "_view_module": "@jupyter-widgets/controls",
            "_view_module_version": "1.5.0",
            "_view_name": "ProgressView",
            "bar_style": "success",
            "description": "",
            "description_tooltip": null,
            "layout": "IPY_MODEL_63e26f8985ac4227a5633d724be0a9b2",
            "max": 125,
            "min": 0,
            "orientation": "horizontal",
            "style": "IPY_MODEL_5883cb8d54e445a3a5b322806571f4e7",
            "value": 125
          }
        },
        "d668f036c5934d80a2b07d95f6432f0c": {
          "model_module": "@jupyter-widgets/controls",
          "model_module_version": "1.5.0",
          "model_name": "HBoxModel",
          "state": {
            "_dom_classes": [],
            "_model_module": "@jupyter-widgets/controls",
            "_model_module_version": "1.5.0",
            "_model_name": "HBoxModel",
            "_view_count": null,
            "_view_module": "@jupyter-widgets/controls",
            "_view_module_version": "1.5.0",
            "_view_name": "HBoxView",
            "box_style": "",
            "children": [
              "IPY_MODEL_1d6c0ce65f804337969d49c07722c886",
              "IPY_MODEL_d220bf12546244efa0652985ab2b3053",
              "IPY_MODEL_b9fda1875e9a429f83ea4602832a79cf"
            ],
            "layout": "IPY_MODEL_855b3aa3c9574fb491e06709952b2f89"
          }
        },
        "d6a1c66def434ee2ae83f2e2c9ad28a8": {
          "model_module": "@jupyter-widgets/controls",
          "model_module_version": "1.5.0",
          "model_name": "HTMLModel",
          "state": {
            "_dom_classes": [],
            "_model_module": "@jupyter-widgets/controls",
            "_model_module_version": "1.5.0",
            "_model_name": "HTMLModel",
            "_view_count": null,
            "_view_module": "@jupyter-widgets/controls",
            "_view_module_version": "1.5.0",
            "_view_name": "HTMLView",
            "description": "",
            "description_tooltip": null,
            "layout": "IPY_MODEL_6b9a5cce10a1418bb1cb63c079c91a79",
            "placeholder": "​",
            "style": "IPY_MODEL_0f44031b6cd4459d8f03cd4ac96f332d",
            "value": "Downloading: 100%"
          }
        },
        "db6df438a1cb460487931c1c9f5498dd": {
          "model_module": "@jupyter-widgets/controls",
          "model_module_version": "1.5.0",
          "model_name": "HTMLModel",
          "state": {
            "_dom_classes": [],
            "_model_module": "@jupyter-widgets/controls",
            "_model_module_version": "1.5.0",
            "_model_name": "HTMLModel",
            "_view_count": null,
            "_view_module": "@jupyter-widgets/controls",
            "_view_module_version": "1.5.0",
            "_view_name": "HTMLView",
            "description": "",
            "description_tooltip": null,
            "layout": "IPY_MODEL_374269e944984fa6b0e7be0a9b7771ee",
            "placeholder": "​",
            "style": "IPY_MODEL_e2b4c0ebddbb4c26aa121c0aec986957",
            "value": "Downloading: 100%"
          }
        },
        "dce60906b70044169297d5d2618b2461": {
          "model_module": "@jupyter-widgets/base",
          "model_module_version": "1.2.0",
          "model_name": "LayoutModel",
          "state": {
            "_model_module": "@jupyter-widgets/base",
            "_model_module_version": "1.2.0",
            "_model_name": "LayoutModel",
            "_view_count": null,
            "_view_module": "@jupyter-widgets/base",
            "_view_module_version": "1.2.0",
            "_view_name": "LayoutView",
            "align_content": null,
            "align_items": null,
            "align_self": null,
            "border": null,
            "bottom": null,
            "display": null,
            "flex": null,
            "flex_flow": null,
            "grid_area": null,
            "grid_auto_columns": null,
            "grid_auto_flow": null,
            "grid_auto_rows": null,
            "grid_column": null,
            "grid_gap": null,
            "grid_row": null,
            "grid_template_areas": null,
            "grid_template_columns": null,
            "grid_template_rows": null,
            "height": null,
            "justify_content": null,
            "justify_items": null,
            "left": null,
            "margin": null,
            "max_height": null,
            "max_width": null,
            "min_height": null,
            "min_width": null,
            "object_fit": null,
            "object_position": null,
            "order": null,
            "overflow": null,
            "overflow_x": null,
            "overflow_y": null,
            "padding": null,
            "right": null,
            "top": null,
            "visibility": null,
            "width": null
          }
        },
        "e0bca5090f5640a89f83b850823c01df": {
          "model_module": "@jupyter-widgets/controls",
          "model_module_version": "1.5.0",
          "model_name": "DescriptionStyleModel",
          "state": {
            "_model_module": "@jupyter-widgets/controls",
            "_model_module_version": "1.5.0",
            "_model_name": "DescriptionStyleModel",
            "_view_count": null,
            "_view_module": "@jupyter-widgets/base",
            "_view_module_version": "1.2.0",
            "_view_name": "StyleView",
            "description_width": ""
          }
        },
        "e2af00816f8346bc81062993427a3dad": {
          "model_module": "@jupyter-widgets/controls",
          "model_module_version": "1.5.0",
          "model_name": "HTMLModel",
          "state": {
            "_dom_classes": [],
            "_model_module": "@jupyter-widgets/controls",
            "_model_module_version": "1.5.0",
            "_model_name": "HTMLModel",
            "_view_count": null,
            "_view_module": "@jupyter-widgets/controls",
            "_view_module_version": "1.5.0",
            "_view_name": "HTMLView",
            "description": "",
            "description_tooltip": null,
            "layout": "IPY_MODEL_cb5d3e8bd5ef4aa6a4155088545a3d0c",
            "placeholder": "​",
            "style": "IPY_MODEL_d0ae8de401f94ffe87bdd9439f9136c2",
            "value": " 289/289 [00:00&lt;00:00, 11.1kB/s]"
          }
        },
        "e2b4c0ebddbb4c26aa121c0aec986957": {
          "model_module": "@jupyter-widgets/controls",
          "model_module_version": "1.5.0",
          "model_name": "DescriptionStyleModel",
          "state": {
            "_model_module": "@jupyter-widgets/controls",
            "_model_module_version": "1.5.0",
            "_model_name": "DescriptionStyleModel",
            "_view_count": null,
            "_view_module": "@jupyter-widgets/base",
            "_view_module_version": "1.2.0",
            "_view_name": "StyleView",
            "description_width": ""
          }
        },
        "f149704594904529b3ffce9432d49fa7": {
          "model_module": "@jupyter-widgets/controls",
          "model_module_version": "1.5.0",
          "model_name": "ProgressStyleModel",
          "state": {
            "_model_module": "@jupyter-widgets/controls",
            "_model_module_version": "1.5.0",
            "_model_name": "ProgressStyleModel",
            "_view_count": null,
            "_view_module": "@jupyter-widgets/base",
            "_view_module_version": "1.2.0",
            "_view_name": "StyleView",
            "bar_color": null,
            "description_width": ""
          }
        },
        "f2f6fa4ca9d94cc18d1d3569191cc2fc": {
          "model_module": "@jupyter-widgets/controls",
          "model_module_version": "1.5.0",
          "model_name": "DescriptionStyleModel",
          "state": {
            "_model_module": "@jupyter-widgets/controls",
            "_model_module_version": "1.5.0",
            "_model_name": "DescriptionStyleModel",
            "_view_count": null,
            "_view_module": "@jupyter-widgets/base",
            "_view_module_version": "1.2.0",
            "_view_name": "StyleView",
            "description_width": ""
          }
        },
        "f54e09e1acae4d28bbddcf27f0eadd55": {
          "model_module": "@jupyter-widgets/controls",
          "model_module_version": "1.5.0",
          "model_name": "HBoxModel",
          "state": {
            "_dom_classes": [],
            "_model_module": "@jupyter-widgets/controls",
            "_model_module_version": "1.5.0",
            "_model_name": "HBoxModel",
            "_view_count": null,
            "_view_module": "@jupyter-widgets/controls",
            "_view_module_version": "1.5.0",
            "_view_name": "HBoxView",
            "box_style": "",
            "children": [
              "IPY_MODEL_db6df438a1cb460487931c1c9f5498dd",
              "IPY_MODEL_a47e27bdd7fb4ea39d77341ae161c8c8",
              "IPY_MODEL_13b5d6ec770a4ef2a29dc9e354f0a5e4"
            ],
            "layout": "IPY_MODEL_2171c39ae28b45d8ba3129cc1610e52f"
          }
        }
      }
    }
  },
  "nbformat": 4,
  "nbformat_minor": 0
}
