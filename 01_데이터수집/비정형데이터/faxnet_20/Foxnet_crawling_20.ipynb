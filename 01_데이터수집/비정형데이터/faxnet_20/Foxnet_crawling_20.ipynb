{
 "cells": [
  {
   "cell_type": "code",
   "execution_count": 1,
   "id": "0b90f6e9",
   "metadata": {},
   "outputs": [],
   "source": [
    "import requests\n",
    "from bs4 import BeautifulSoup\n",
    "import pandas as pd\n",
    "import time\n",
    "from datetime import datetime\n",
    "from tqdm import tqdm\n",
    "import re"
   ]
  },
  {
   "cell_type": "code",
   "execution_count": 2,
   "id": "074b843f",
   "metadata": {},
   "outputs": [],
   "source": [
    "# 확인할 종목 및 종목 코드\n",
    "STOCK_DICT = {\n",
    "    '노루홀딩스': '000320',\n",
    "    '삼부토건': '001470',\n",
    "    '오리엔트바이오': '002630',\n",
    "    '덕성': '004830',\n",
    "    '서연': '007860',\n",
    "    '일성건설': '013360',\n",
    "    '이스타코': '015020',\n",
    "    '신원종합개발': '017000',\n",
    "    '상지건설': '042940',\n",
    "    '코나아이': '052400',\n",
    "    'NE능률': '053290',\n",
    "    '웹케시': '053580',\n",
    "    '포바이포': '389140'\n",
    "}\n",
    "\n",
    "# 수집 시점 및 끝나는 시점 (2022년 2월 6일 ~ 2022년 3월 16일)\n",
    "START_DATE = datetime.strptime(\"2022-02-06\", \"%Y-%m-%d\")\n",
    "END_DATE = datetime.strptime(\"2022-03-16\", \"%Y-%m-%d\")"
   ]
  },
  {
   "cell_type": "code",
   "execution_count": 3,
   "id": "44e9a99c",
   "metadata": {},
   "outputs": [],
   "source": [
    "# 3. '브라우저'인 척 하기 위한 헤더 정보\n",
    "headers = {'User-Agent': 'Mozilla/5.0 (Windows NT 10.0; Win64; x64) AppleWebKit/537.36 (KHTML, like Gecko) Chrome/107.0.0.0 Safari/537.36'}\n",
    "\n",
    "# --- 크롤링 실행 부분 ---\n",
    "total_results = []\n",
    "\n",
    "# 날짜 형식 변환 함수\n",
    "def parse_paxnet_date(date_str):\n",
    "    \"\"\"팍스넷의 날짜 형식('Thu Jun 26 13:20:02 KST 2025')을 datetime 객체로 변환\"\"\"\n",
    "    try:\n",
    "        # 'KST' 등 시간대 정보를 제외하고 파싱\n",
    "        date_parts = date_str.split()\n",
    "        # 예: ['Thu', 'Jun', '26', '13:20:02', 'KST', '2025']\n",
    "        # 필요한 부분만 조합: 'Jun 26 2025 13:20:02'\n",
    "        formatted_str = f\"{date_parts[1]} {date_parts[2]} {date_parts[5]} {date_parts[3]}\"\n",
    "        return datetime.strptime(formatted_str, \"%b %d %Y %H:%M:%S\")\n",
    "    except Exception:\n",
    "        return None"
   ]
  },
  {
   "cell_type": "code",
   "execution_count": 4,
   "id": "0edf4efa",
   "metadata": {},
   "outputs": [
    {
     "name": "stdout",
     "output_type": "stream",
     "text": [
      "\n",
      "====== 노루홀딩스 (000320) 크롤링 시작 ======\n",
      "페이지 1: 기간 내 게시물 링크 수집 중... (현재 4개)\n",
      "페이지 2: 기간 내 게시물 링크 수집 중... (현재 4개)\n",
      "수집 기간 이전의 게시물에 도달하여 링크 수집을 중단합니다.\n",
      "총 4개의 게시물 상세 정보를 수집합니다.\n",
      "수집 사이트 상세 : ['https://www.paxnet.co.kr/tbbs/view?id=000320&seq=150357586367089', 'https://www.paxnet.co.kr/tbbs/view?id=000320&seq=150357586342214', 'https://www.paxnet.co.kr/tbbs/view?id=000320&seq=150357586310633', 'https://www.paxnet.co.kr/tbbs/view?id=000320&seq=150357586309961']\n"
     ]
    },
    {
     "name": "stderr",
     "output_type": "stream",
     "text": [
      "노루홀딩스 상세 정보 수집: 100%|██████████| 4/4 [00:03<00:00,  1.18it/s]\n"
     ]
    },
    {
     "name": "stdout",
     "output_type": "stream",
     "text": [
      "\n",
      "====== 삼부토건 (001470) 크롤링 시작 ======\n",
      "페이지 1: 기간 내 게시물 링크 수집 중... (현재 0개)\n",
      "페이지 2: 기간 내 게시물 링크 수집 중... (현재 0개)\n",
      "페이지 3: 기간 내 게시물 링크 수집 중... (현재 0개)\n",
      "페이지 4: 기간 내 게시물 링크 수집 중... (현재 0개)\n",
      "페이지 5: 기간 내 게시물 링크 수집 중... (현재 0개)\n",
      "페이지 6: 기간 내 게시물 링크 수집 중... (현재 0개)\n",
      "페이지 7: 기간 내 게시물 링크 수집 중... (현재 0개)\n",
      "페이지 8: 기간 내 게시물 링크 수집 중... (현재 0개)\n",
      "페이지 9: 기간 내 게시물 링크 수집 중... (현재 0개)\n",
      "페이지 10: 기간 내 게시물 링크 수집 중... (현재 0개)\n",
      "페이지 11: 기간 내 게시물 링크 수집 중... (현재 0개)\n",
      "페이지 12: 기간 내 게시물 링크 수집 중... (현재 0개)\n",
      "페이지 13: 기간 내 게시물 링크 수집 중... (현재 0개)\n",
      "페이지 14: 기간 내 게시물 링크 수집 중... (현재 0개)\n",
      "페이지 15: 기간 내 게시물 링크 수집 중... (현재 0개)\n",
      "페이지 16: 기간 내 게시물 링크 수집 중... (현재 13개)\n",
      "페이지 17: 기간 내 게시물 링크 수집 중... (현재 41개)\n",
      "수집 기간 이전의 게시물에 도달하여 링크 수집을 중단합니다.\n",
      "총 41개의 게시물 상세 정보를 수집합니다.\n",
      "수집 사이트 상세 : ['https://www.paxnet.co.kr/tbbs/view?id=001470&seq=150357586379612', 'https://www.paxnet.co.kr/tbbs/view?id=001470&seq=150357586378134', 'https://www.paxnet.co.kr/tbbs/view?id=001470&seq=150357586378095', 'https://www.paxnet.co.kr/tbbs/view?id=001470&seq=150357586377334', 'https://www.paxnet.co.kr/tbbs/view?id=001470&seq=150357586377330', 'https://www.paxnet.co.kr/tbbs/view?id=001470&seq=150357586372405', 'https://www.paxnet.co.kr/tbbs/view?id=001470&seq=150357586370657', 'https://www.paxnet.co.kr/tbbs/view?id=001470&seq=150357586370029', 'https://www.paxnet.co.kr/tbbs/view?id=001470&seq=150357586369898', 'https://www.paxnet.co.kr/tbbs/view?id=001470&seq=150357586369686', 'https://www.paxnet.co.kr/tbbs/view?id=001470&seq=150357586369627', 'https://www.paxnet.co.kr/tbbs/view?id=001470&seq=150357586369533', 'https://www.paxnet.co.kr/tbbs/view?id=001470&seq=150357586368925', 'https://www.paxnet.co.kr/tbbs/view?id=001470&seq=150357586368916', 'https://www.paxnet.co.kr/tbbs/view?id=001470&seq=150357586367797', 'https://www.paxnet.co.kr/tbbs/view?id=001470&seq=150357586367794', 'https://www.paxnet.co.kr/tbbs/view?id=001470&seq=150357586367678', 'https://www.paxnet.co.kr/tbbs/view?id=001470&seq=150357586366623', 'https://www.paxnet.co.kr/tbbs/view?id=001470&seq=150357586366608', 'https://www.paxnet.co.kr/tbbs/view?id=001470&seq=150357586366438', 'https://www.paxnet.co.kr/tbbs/view?id=001470&seq=150357586366190', 'https://www.paxnet.co.kr/tbbs/view?id=001470&seq=150357586365093', 'https://www.paxnet.co.kr/tbbs/view?id=001470&seq=150357586364772', 'https://www.paxnet.co.kr/tbbs/view?id=001470&seq=150357586359040', 'https://www.paxnet.co.kr/tbbs/view?id=001470&seq=150357586357471', 'https://www.paxnet.co.kr/tbbs/view?id=001470&seq=150357586355928', 'https://www.paxnet.co.kr/tbbs/view?id=001470&seq=150357586354560', 'https://www.paxnet.co.kr/tbbs/view?id=001470&seq=150357586354394', 'https://www.paxnet.co.kr/tbbs/view?id=001470&seq=150357586329545', 'https://www.paxnet.co.kr/tbbs/view?id=001470&seq=150357586329528', 'https://www.paxnet.co.kr/tbbs/view?id=001470&seq=150357586329518', 'https://www.paxnet.co.kr/tbbs/view?id=001470&seq=150357586314602', 'https://www.paxnet.co.kr/tbbs/view?id=001470&seq=150357586292108', 'https://www.paxnet.co.kr/tbbs/view?id=001470&seq=150357586268462', 'https://www.paxnet.co.kr/tbbs/view?id=001470&seq=150357586268388', 'https://www.paxnet.co.kr/tbbs/view?id=001470&seq=150357586266557', 'https://www.paxnet.co.kr/tbbs/view?id=001470&seq=150357586266322', 'https://www.paxnet.co.kr/tbbs/view?id=001470&seq=150357586265340', 'https://www.paxnet.co.kr/tbbs/view?id=001470&seq=150357586264748', 'https://www.paxnet.co.kr/tbbs/view?id=001470&seq=150357586264487', 'https://www.paxnet.co.kr/tbbs/view?id=001470&seq=150357586262798']\n"
     ]
    },
    {
     "name": "stderr",
     "output_type": "stream",
     "text": [
      "삼부토건 상세 정보 수집: 100%|██████████| 41/41 [00:31<00:00,  1.31it/s]\n"
     ]
    },
    {
     "name": "stdout",
     "output_type": "stream",
     "text": [
      "\n",
      "====== 오리엔트바이오 (002630) 크롤링 시작 ======\n",
      "페이지 1: 기간 내 게시물 링크 수집 중... (현재 0개)\n",
      "페이지 2: 기간 내 게시물 링크 수집 중... (현재 0개)\n",
      "수집 기간 이전의 게시물에 도달하여 링크 수집을 중단합니다.\n",
      "총 0개의 게시물 상세 정보를 수집합니다.\n",
      "수집 사이트 상세 : []\n"
     ]
    },
    {
     "name": "stderr",
     "output_type": "stream",
     "text": [
      "오리엔트바이오 상세 정보 수집: 0it [00:00, ?it/s]"
     ]
    },
    {
     "name": "stdout",
     "output_type": "stream",
     "text": [
      "\n",
      "====== 덕성 (004830) 크롤링 시작 ======\n"
     ]
    },
    {
     "name": "stderr",
     "output_type": "stream",
     "text": [
      "\n"
     ]
    },
    {
     "name": "stdout",
     "output_type": "stream",
     "text": [
      "페이지 1: 기간 내 게시물 링크 수집 중... (현재 0개)\n",
      "페이지 2: 기간 내 게시물 링크 수집 중... (현재 0개)\n",
      "페이지 3: 기간 내 게시물 링크 수집 중... (현재 0개)\n",
      "페이지 4: 기간 내 게시물 링크 수집 중... (현재 0개)\n",
      "페이지 5: 기간 내 게시물 링크 수집 중... (현재 0개)\n",
      "페이지 6: 기간 내 게시물 링크 수집 중... (현재 0개)\n",
      "페이지 7: 기간 내 게시물 링크 수집 중... (현재 0개)\n",
      "페이지 8: 기간 내 게시물 링크 수집 중... (현재 7개)\n",
      "페이지 9: 기간 내 게시물 링크 수집 중... (현재 37개)\n",
      "페이지 10: 기간 내 게시물 링크 수집 중... (현재 42개)\n",
      "수집 기간 이전의 게시물에 도달하여 링크 수집을 중단합니다.\n",
      "총 42개의 게시물 상세 정보를 수집합니다.\n",
      "수집 사이트 상세 : ['https://www.paxnet.co.kr/tbbs/view?id=004830&seq=150357586384839', 'https://www.paxnet.co.kr/tbbs/view?id=004830&seq=150357586378656', 'https://www.paxnet.co.kr/tbbs/view?id=004830&seq=150357586377563', 'https://www.paxnet.co.kr/tbbs/view?id=004830&seq=150357586372384', 'https://www.paxnet.co.kr/tbbs/view?id=004830&seq=150357586371673', 'https://www.paxnet.co.kr/tbbs/view?id=004830&seq=150357586370754', 'https://www.paxnet.co.kr/tbbs/view?id=004830&seq=150357586370372', 'https://www.paxnet.co.kr/tbbs/view?id=004830&seq=150357586370088', 'https://www.paxnet.co.kr/tbbs/view?id=004830&seq=150357586369700', 'https://www.paxnet.co.kr/tbbs/view?id=004830&seq=150357586369108', 'https://www.paxnet.co.kr/tbbs/view?id=004830&seq=150357586367816', 'https://www.paxnet.co.kr/tbbs/view?id=004830&seq=150357586367695', 'https://www.paxnet.co.kr/tbbs/view?id=004830&seq=150357586367116', 'https://www.paxnet.co.kr/tbbs/view?id=004830&seq=150357586366181', 'https://www.paxnet.co.kr/tbbs/view?id=004830&seq=150357586365332', 'https://www.paxnet.co.kr/tbbs/view?id=004830&seq=150357586365294', 'https://www.paxnet.co.kr/tbbs/view?id=004830&seq=150357586365163', 'https://www.paxnet.co.kr/tbbs/view?id=004830&seq=150357586365161', 'https://www.paxnet.co.kr/tbbs/view?id=004830&seq=150357586359940', 'https://www.paxnet.co.kr/tbbs/view?id=004830&seq=150357586359789', 'https://www.paxnet.co.kr/tbbs/view?id=004830&seq=150357586359172', 'https://www.paxnet.co.kr/tbbs/view?id=004830&seq=150357586358308', 'https://www.paxnet.co.kr/tbbs/view?id=004830&seq=150357586348260', 'https://www.paxnet.co.kr/tbbs/view?id=004830&seq=150357586345591', 'https://www.paxnet.co.kr/tbbs/view?id=004830&seq=150357586345122', 'https://www.paxnet.co.kr/tbbs/view?id=004830&seq=150357586340778', 'https://www.paxnet.co.kr/tbbs/view?id=004830&seq=150357586331162', 'https://www.paxnet.co.kr/tbbs/view?id=004830&seq=150357586329190', 'https://www.paxnet.co.kr/tbbs/view?id=004830&seq=150357586318873', 'https://www.paxnet.co.kr/tbbs/view?id=004830&seq=150357586310630', 'https://www.paxnet.co.kr/tbbs/view?id=004830&seq=150357586309981', 'https://www.paxnet.co.kr/tbbs/view?id=004830&seq=150357586309845', 'https://www.paxnet.co.kr/tbbs/view?id=004830&seq=150357586299736', 'https://www.paxnet.co.kr/tbbs/view?id=004830&seq=150357586299431', 'https://www.paxnet.co.kr/tbbs/view?id=004830&seq=150357586299063', 'https://www.paxnet.co.kr/tbbs/view?id=004830&seq=150357586298989', 'https://www.paxnet.co.kr/tbbs/view?id=004830&seq=150357586298939', 'https://www.paxnet.co.kr/tbbs/view?id=004830&seq=150357586298868', 'https://www.paxnet.co.kr/tbbs/view?id=004830&seq=150357586298800', 'https://www.paxnet.co.kr/tbbs/view?id=004830&seq=150357586298501', 'https://www.paxnet.co.kr/tbbs/view?id=004830&seq=150357586298115', 'https://www.paxnet.co.kr/tbbs/view?id=004830&seq=150357586258532']\n"
     ]
    },
    {
     "name": "stderr",
     "output_type": "stream",
     "text": [
      "덕성 상세 정보 수집: 100%|██████████| 42/42 [00:33<00:00,  1.27it/s]\n"
     ]
    },
    {
     "name": "stdout",
     "output_type": "stream",
     "text": [
      "\n",
      "====== 서연 (007860) 크롤링 시작 ======\n",
      "페이지 1: 기간 내 게시물 링크 수집 중... (현재 0개)\n",
      "페이지 2: 기간 내 게시물 링크 수집 중... (현재 0개)\n",
      "페이지 3: 기간 내 게시물 링크 수집 중... (현재 6개)\n",
      "수집 기간 이전의 게시물에 도달하여 링크 수집을 중단합니다.\n",
      "총 6개의 게시물 상세 정보를 수집합니다.\n",
      "수집 사이트 상세 : ['https://www.paxnet.co.kr/tbbs/view?id=007860&seq=150357586368470', 'https://www.paxnet.co.kr/tbbs/view?id=007860&seq=150357586368028', 'https://www.paxnet.co.kr/tbbs/view?id=007860&seq=150357586367700', 'https://www.paxnet.co.kr/tbbs/view?id=007860&seq=150357586303746', 'https://www.paxnet.co.kr/tbbs/view?id=007860&seq=150357586301212', 'https://www.paxnet.co.kr/tbbs/view?id=007860&seq=150357586298550']\n"
     ]
    },
    {
     "name": "stderr",
     "output_type": "stream",
     "text": [
      "서연 상세 정보 수집: 100%|██████████| 6/6 [00:04<00:00,  1.30it/s]\n"
     ]
    },
    {
     "name": "stdout",
     "output_type": "stream",
     "text": [
      "\n",
      "====== 일성건설 (013360) 크롤링 시작 ======\n",
      "페이지 1: 기간 내 게시물 링크 수집 중... (현재 0개)\n",
      "페이지 2: 기간 내 게시물 링크 수집 중... (현재 0개)\n",
      "페이지 3: 기간 내 게시물 링크 수집 중... (현재 0개)\n",
      "페이지 4: 기간 내 게시물 링크 수집 중... (현재 8개)\n",
      "페이지 5: 기간 내 게시물 링크 수집 중... (현재 8개)\n",
      "수집 기간 이전의 게시물에 도달하여 링크 수집을 중단합니다.\n",
      "총 8개의 게시물 상세 정보를 수집합니다.\n",
      "수집 사이트 상세 : ['https://www.paxnet.co.kr/tbbs/view?id=013360&seq=150357586369803', 'https://www.paxnet.co.kr/tbbs/view?id=013360&seq=150357586369731', 'https://www.paxnet.co.kr/tbbs/view?id=013360&seq=150357586369677', 'https://www.paxnet.co.kr/tbbs/view?id=013360&seq=150357586365340', 'https://www.paxnet.co.kr/tbbs/view?id=013360&seq=150357586339471', 'https://www.paxnet.co.kr/tbbs/view?id=013360&seq=150357586335453', 'https://www.paxnet.co.kr/tbbs/view?id=013360&seq=150357586298589', 'https://www.paxnet.co.kr/tbbs/view?id=013360&seq=150357586266067']\n"
     ]
    },
    {
     "name": "stderr",
     "output_type": "stream",
     "text": [
      "일성건설 상세 정보 수집: 100%|██████████| 8/8 [00:06<00:00,  1.28it/s]\n"
     ]
    },
    {
     "name": "stdout",
     "output_type": "stream",
     "text": [
      "\n",
      "====== 이스타코 (015020) 크롤링 시작 ======\n",
      "페이지 1: 기간 내 게시물 링크 수집 중... (현재 0개)\n",
      "페이지 2: 기간 내 게시물 링크 수집 중... (현재 4개)\n",
      "수집 기간 이전의 게시물에 도달하여 링크 수집을 중단합니다.\n",
      "총 4개의 게시물 상세 정보를 수집합니다.\n",
      "수집 사이트 상세 : ['https://www.paxnet.co.kr/tbbs/view?id=015020&seq=150357586365419', 'https://www.paxnet.co.kr/tbbs/view?id=015020&seq=150357586365405', 'https://www.paxnet.co.kr/tbbs/view?id=015020&seq=150357586340063', 'https://www.paxnet.co.kr/tbbs/view?id=015020&seq=150357586340045']\n"
     ]
    },
    {
     "name": "stderr",
     "output_type": "stream",
     "text": [
      "이스타코 상세 정보 수집: 100%|██████████| 4/4 [00:02<00:00,  1.35it/s]\n"
     ]
    },
    {
     "name": "stdout",
     "output_type": "stream",
     "text": [
      "\n",
      "====== 신원종합개발 (017000) 크롤링 시작 ======\n",
      "페이지 1: 기간 내 게시물 링크 수집 중... (현재 0개)\n",
      "페이지 2: 기간 내 게시물 링크 수집 중... (현재 12개)\n",
      "수집 기간 이전의 게시물에 도달하여 링크 수집을 중단합니다.\n",
      "총 12개의 게시물 상세 정보를 수집합니다.\n",
      "수집 사이트 상세 : ['https://www.paxnet.co.kr/tbbs/view?id=017000&seq=150357586370488', 'https://www.paxnet.co.kr/tbbs/view?id=017000&seq=150357586370476', 'https://www.paxnet.co.kr/tbbs/view?id=017000&seq=150357586369440', 'https://www.paxnet.co.kr/tbbs/view?id=017000&seq=150357586368564', 'https://www.paxnet.co.kr/tbbs/view?id=017000&seq=150357586367793', 'https://www.paxnet.co.kr/tbbs/view?id=017000&seq=150357586367675', 'https://www.paxnet.co.kr/tbbs/view?id=017000&seq=150357586366505', 'https://www.paxnet.co.kr/tbbs/view?id=017000&seq=150357586366432', 'https://www.paxnet.co.kr/tbbs/view?id=017000&seq=150357586366357', 'https://www.paxnet.co.kr/tbbs/view?id=017000&seq=150357586366193', 'https://www.paxnet.co.kr/tbbs/view?id=017000&seq=150357586263038', 'https://www.paxnet.co.kr/tbbs/view?id=017000&seq=150357586262924']\n"
     ]
    },
    {
     "name": "stderr",
     "output_type": "stream",
     "text": [
      "신원종합개발 상세 정보 수집: 100%|██████████| 12/12 [00:08<00:00,  1.33it/s]\n"
     ]
    },
    {
     "name": "stdout",
     "output_type": "stream",
     "text": [
      "\n",
      "====== 상지건설 (042940) 크롤링 시작 ======\n",
      "페이지 1: 기간 내 게시물 링크 수집 중... (현재 0개)\n",
      "페이지 2: 기간 내 게시물 링크 수집 중... (현재 0개)\n",
      "페이지 3: 기간 내 게시물 링크 수집 중... (현재 0개)\n",
      "페이지 4: 기간 내 게시물 링크 수집 중... (현재 0개)\n",
      "페이지 5: 기간 내 게시물 링크 수집 중... (현재 1개)\n",
      "수집 기간 이전의 게시물에 도달하여 링크 수집을 중단합니다.\n",
      "총 1개의 게시물 상세 정보를 수집합니다.\n",
      "수집 사이트 상세 : ['https://www.paxnet.co.kr/tbbs/view?id=042940&seq=150357586260360']\n"
     ]
    },
    {
     "name": "stderr",
     "output_type": "stream",
     "text": [
      "상지건설 상세 정보 수집: 100%|██████████| 1/1 [00:00<00:00,  1.37it/s]\n"
     ]
    },
    {
     "name": "stdout",
     "output_type": "stream",
     "text": [
      "\n",
      "====== 코나아이 (052400) 크롤링 시작 ======\n",
      "페이지 1: 기간 내 게시물 링크 수집 중... (현재 0개)\n",
      "페이지 2: 기간 내 게시물 링크 수집 중... (현재 0개)\n",
      "페이지 3: 기간 내 게시물 링크 수집 중... (현재 0개)\n",
      "수집 기간 이전의 게시물에 도달하여 링크 수집을 중단합니다.\n",
      "총 0개의 게시물 상세 정보를 수집합니다.\n",
      "수집 사이트 상세 : []\n"
     ]
    },
    {
     "name": "stderr",
     "output_type": "stream",
     "text": [
      "코나아이 상세 정보 수집: 0it [00:00, ?it/s]"
     ]
    },
    {
     "name": "stdout",
     "output_type": "stream",
     "text": [
      "\n",
      "====== NE능률 (053290) 크롤링 시작 ======\n"
     ]
    },
    {
     "name": "stderr",
     "output_type": "stream",
     "text": [
      "\n"
     ]
    },
    {
     "name": "stdout",
     "output_type": "stream",
     "text": [
      "페이지 1: 기간 내 게시물 링크 수집 중... (현재 0개)\n",
      "페이지 2: 기간 내 게시물 링크 수집 중... (현재 0개)\n",
      "페이지 3: 기간 내 게시물 링크 수집 중... (현재 0개)\n",
      "페이지 4: 기간 내 게시물 링크 수집 중... (현재 0개)\n",
      "페이지 5: 기간 내 게시물 링크 수집 중... (현재 9개)\n",
      "수집 기간 이전의 게시물에 도달하여 링크 수집을 중단합니다.\n",
      "총 9개의 게시물 상세 정보를 수집합니다.\n",
      "수집 사이트 상세 : ['https://www.paxnet.co.kr/tbbs/view?id=053290&seq=150357586367693', 'https://www.paxnet.co.kr/tbbs/view?id=053290&seq=150357586366118', 'https://www.paxnet.co.kr/tbbs/view?id=053290&seq=150357586365362', 'https://www.paxnet.co.kr/tbbs/view?id=053290&seq=150357586339407', 'https://www.paxnet.co.kr/tbbs/view?id=053290&seq=150357586299072', 'https://www.paxnet.co.kr/tbbs/view?id=053290&seq=150357586298910', 'https://www.paxnet.co.kr/tbbs/view?id=053290&seq=150357586294883', 'https://www.paxnet.co.kr/tbbs/view?id=053290&seq=150357586289853', 'https://www.paxnet.co.kr/tbbs/view?id=053290&seq=150357586289846']\n"
     ]
    },
    {
     "name": "stderr",
     "output_type": "stream",
     "text": [
      "NE능률 상세 정보 수집: 100%|██████████| 9/9 [00:06<00:00,  1.31it/s]\n"
     ]
    },
    {
     "name": "stdout",
     "output_type": "stream",
     "text": [
      "\n",
      "====== 웹케시 (053580) 크롤링 시작 ======\n",
      "페이지 1: 기간 내 게시물 링크 수집 중... (현재 0개)\n",
      "페이지 2: 기간 내 게시물 링크 수집 중... (현재 0개)\n",
      "페이지 3: 기간 내 게시물 링크 수집 중... (현재 0개)\n",
      "페이지 4: 기간 내 게시물 링크 수집 중... (현재 0개)\n",
      "수집 기간 이전의 게시물에 도달하여 링크 수집을 중단합니다.\n",
      "총 0개의 게시물 상세 정보를 수집합니다.\n",
      "수집 사이트 상세 : []\n"
     ]
    },
    {
     "name": "stderr",
     "output_type": "stream",
     "text": [
      "웹케시 상세 정보 수집: 0it [00:00, ?it/s]"
     ]
    },
    {
     "name": "stdout",
     "output_type": "stream",
     "text": [
      "\n",
      "====== 포바이포 (389140) 크롤링 시작 ======\n"
     ]
    },
    {
     "name": "stderr",
     "output_type": "stream",
     "text": [
      "\n"
     ]
    },
    {
     "name": "stdout",
     "output_type": "stream",
     "text": [
      "페이지 1: 기간 내 게시물 링크 수집 중... (현재 0개)\n",
      "페이지 2: 기간 내 게시물 링크 수집 중... (현재 0개)\n",
      "페이지 3: 기간 내 게시물 링크 수집 중... (현재 0개)\n",
      "페이지 4: 기간 내 게시물 링크 수집 중... (현재 0개)\n",
      "페이지 5: 기간 내 게시물 링크 수집 중... (현재 0개)\n",
      "페이지 6: 기간 내 게시물 링크 수집 중... (현재 0개)\n",
      "페이지 7: 기간 내 게시물 링크 수집 중... (현재 0개)\n",
      "페이지 8에서 더 이상 게시물을 찾을 수 없습니다.\n",
      "총 0개의 게시물 상세 정보를 수집합니다.\n",
      "수집 사이트 상세 : []\n"
     ]
    },
    {
     "name": "stderr",
     "output_type": "stream",
     "text": [
      "포바이포 상세 정보 수집: 0it [00:00, ?it/s]\n"
     ]
    }
   ],
   "source": [
    "for stock_name, stock_code in STOCK_DICT.items():\n",
    "# for _ in range(1):\n",
    "#     stock_name, stock_code = list(STOCK_DICT.items())[0]\n",
    "    print(f\"\\n====== {stock_name} ({stock_code}) 크롤링 시작 ======\")\n",
    "    \n",
    "    detail_page_links = []\n",
    "    \n",
    "    # 1. 목록 페이지에서 게시물 링크 수집\n",
    "    for page in range(1, 50): # 최대 50페이지까지 수집\n",
    "        stop_collecting = False\n",
    "        try:\n",
    "            list_url = f\"https://www.paxnet.co.kr/tbbs/list?tbbsType=L&id={stock_code}&page={page}\"\n",
    "            res = requests.get(list_url, headers=headers)\n",
    "            res.raise_for_status()\n",
    "            soup = BeautifulSoup(res.text, 'html.parser')\n",
    "            \n",
    "            # 'comm-list' 내부의 게시물 li만 선택 (광고, 헤더 제외)\n",
    "            posts = soup.select('ul#comm-list > li:not(.board-col, .board-ad-pc, .board-ad-mobile)')\n",
    "\n",
    "            if not posts:\n",
    "                print(f\"페이지 {page}에서 더 이상 게시물을 찾을 수 없습니다.\")\n",
    "                break\n",
    "\n",
    "            for post in posts:\n",
    "                # 날짜 정보가 있는 span 태그 선택\n",
    "                date_span = post.select_one('div.date > span.data-date-format')\n",
    "                if not date_span:\n",
    "                    continue\n",
    "                \n",
    "                # 날짜 추출 및 기간 필터링\n",
    "                paxnet_date_str = date_span.get('data-date-format')\n",
    "                post_date = parse_paxnet_date(paxnet_date_str)\n",
    "\n",
    "                if post_date:\n",
    "                    if post_date < START_DATE:\n",
    "                        stop_collecting = True\n",
    "                        break # 이 페이지의 나머지 게시물은 볼 필요 없음\n",
    "\n",
    "                    if START_DATE <= post_date <= END_DATE:\n",
    "                        # 게시물 고유번호(seq) 추출\n",
    "                        seq_div = post.select_one('div.type')\n",
    "                        if seq_div and seq_div.has_attr('data-seq'):\n",
    "                            seq = seq_div['data-seq']\n",
    "                            # 상세 페이지 URL 조립\n",
    "                            detail_url = f\"https://www.paxnet.co.kr/tbbs/view?id={stock_code}&seq={seq}\"\n",
    "                            detail_page_links.append(detail_url)\n",
    "            \n",
    "            print(f\"페이지 {page}: 기간 내 게시물 링크 수집 중... (현재 {len(detail_page_links)}개)\")\n",
    "            if stop_collecting:\n",
    "                print(\"수집 기간 이전의 게시물에 도달하여 링크 수집을 중단합니다.\")\n",
    "                break\n",
    "            \n",
    "            time.sleep(0.5) # 서버 부하 방지\n",
    "\n",
    "        except Exception as e:\n",
    "            print(f\"목록 페이지 {page} 처리 중 오류: {e}\")\n",
    "            break\n",
    "            \n",
    "    # 2. 수집된 링크를 방문하여 상세 정보 수집\n",
    "    print(f\"총 {len(detail_page_links)}개의 게시물 상세 정보를 수집합니다.\")\n",
    "    print(f\"수집 사이트 상세 : {detail_page_links}\")\n",
    "    for post_url in tqdm(detail_page_links, desc=f\"{stock_name} 상세 정보 수집\"):\n",
    "        try:\n",
    "            res = requests.get(post_url, headers=headers)\n",
    "            res.raise_for_status()\n",
    "            soup = BeautifulSoup(res.text, 'html.parser')\n",
    "\n",
    "            # --- 상세 정보 추출 (HTML 분석 기반 최종 선택자) ---\n",
    "            # 제목에서 댓글 수 분리\n",
    "            title_raw = soup.select_one('div.board-view-tit > h1').get_text(strip=True)\n",
    "            match = re.match(r'^(.*?)(?:코멘트(\\d+))?$', title_raw)\n",
    "            if match:\n",
    "                title = match.group(1).strip()\n",
    "                comment_count = int(match.group(2)) if match.group(2) else 0\n",
    "            else:\n",
    "                title = title_raw\n",
    "                comment_count = 0\n",
    "            author = soup.select_one('span.nickname').text.strip()\n",
    "            date_str = soup.select_one('span.data-date-format1')['data-date-format'].split('.')[0] # 'YYYY-MM-DD HH:MM:SS'\n",
    "            views_text = soup.select_one('span.viewer').text.strip()\n",
    "            views = views_text.replace('조회', '').strip()\n",
    "            recommends = soup.select_one('span#recommendCount').text.strip()\n",
    "            \n",
    "            # 내용에서 불필요한 부분(공유/추천 버튼 등) 제거 후 텍스트 추출\n",
    "            content_div = soup.select_one('div#bbsWrtCntn')\n",
    "            if content_div:\n",
    "                # div 내의 'board-view-func' 클래스를 가진 div 제거\n",
    "                func_div = content_div.find('div', class_='board-view-func')\n",
    "                if func_div:\n",
    "                    func_div.decompose()\n",
    "                content = content_div.get_text('\\n', strip=True) # 줄바꿈 유지하며 텍스트 추출\n",
    "            else:\n",
    "                content = \"\"\n",
    "\n",
    "            total_results.append({\n",
    "                '종목명': stock_name,\n",
    "                '날짜': date_str.split(' ')[0], # YYYY-MM-DD\n",
    "                '시간': date_str.split(' ')[1], # HH:MM:SS\n",
    "                '제목': title,\n",
    "                '댓글수' : comment_count,\n",
    "                '작성자': author,\n",
    "                '조회수': int(views.replace(',', '')),\n",
    "                '추천수': int(recommends.replace(',', '')),\n",
    "                '내용': content,\n",
    "                'URL': post_url\n",
    "            })\n",
    "            \n",
    "            time.sleep(0.3)\n",
    "        \n",
    "        except Exception as e:\n",
    "            # print(f\"상세 페이지 처리 중 오류: {e} (URL: {post_url})\")\n",
    "            continue\n"
   ]
  },
  {
   "cell_type": "code",
   "execution_count": 5,
   "id": "0ae8e12e",
   "metadata": {},
   "outputs": [
    {
     "name": "stdout",
     "output_type": "stream",
     "text": [
      "\n",
      "크롤링 완료! 총 127개의 데이터를 '팍스넷_20대_대선_테마주_크롤링_20250627.csv' 파일로 저장했습니다.\n"
     ]
    }
   ],
   "source": [
    "# 3. 최종 결과를 DataFrame으로 변환 후 CSV 저장\n",
    "if total_results:\n",
    "    df = pd.DataFrame(total_results)\n",
    "    df.sort_values(by='날짜', inplace=True) \n",
    "    file_name = f\"팍스넷_20대_대선_테마주_크롤링_{datetime.now().strftime('%Y%m%d')}.csv\"\n",
    "    df.to_csv(file_name, index=False, encoding='utf-8-sig')\n",
    "    print(f\"\\n크롤링 완료! 총 {len(total_results)}개의 데이터를 '{file_name}' 파일로 저장했습니다.\")\n",
    "else:\n",
    "    print(\"\\n수집된 데이터가 없습니다.\")"
   ]
  }
 ],
 "metadata": {
  "kernelspec": {
   "display_name": ".venv",
   "language": "python",
   "name": "python3"
  },
  "language_info": {
   "codemirror_mode": {
    "name": "ipython",
    "version": 3
   },
   "file_extension": ".py",
   "mimetype": "text/x-python",
   "name": "python",
   "nbconvert_exporter": "python",
   "pygments_lexer": "ipython3",
   "version": "3.12.3"
  }
 },
 "nbformat": 4,
 "nbformat_minor": 5
}
