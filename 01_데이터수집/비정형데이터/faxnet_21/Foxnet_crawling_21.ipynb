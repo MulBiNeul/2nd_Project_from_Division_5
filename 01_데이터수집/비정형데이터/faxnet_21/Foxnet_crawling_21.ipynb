{
 "cells": [
  {
   "cell_type": "code",
   "execution_count": 1,
   "id": "0b90f6e9",
   "metadata": {},
   "outputs": [],
   "source": [
    "import requests\n",
    "from bs4 import BeautifulSoup\n",
    "import pandas as pd\n",
    "import time\n",
    "from datetime import datetime\n",
    "from tqdm import tqdm\n",
    "import re"
   ]
  },
  {
   "cell_type": "code",
   "execution_count": 2,
   "id": "074b843f",
   "metadata": {},
   "outputs": [],
   "source": [
    "# 확인할 종목 및 종목 코드\n",
    "STOCK_DICT = {\n",
    "    '오리엔트바이오': '002630',\n",
    "    '윌비스': '008600',\n",
    "    '태영건설우': '009415',\n",
    "    '삼보산업': '009620',\n",
    "    '평화홀딩스': '010770',\n",
    "    '대영포장': '014160',\n",
    "    '한솔홈데코': '025750',\n",
    "    '상지건설': '042940',\n",
    "    '코나아이': '052400',\n",
    "    '웹케시': '053580',\n",
    "    '평화산업': '090080',\n",
    "    '넥스트아이': '137940',\n",
    "    '포바이포': '389140'\n",
    "}\n",
    "\n",
    "# 수집 시점 및 끝나는 시점\n",
    "START_DATE = datetime.strptime(\"2025-05-03\", \"%Y-%m-%d\")\n",
    "END_DATE = datetime.strptime(\"2025-06-10\", \"%Y-%m-%d\")"
   ]
  },
  {
   "cell_type": "code",
   "execution_count": 3,
   "id": "44e9a99c",
   "metadata": {},
   "outputs": [],
   "source": [
    "# 3. '브라우저'인 척 하기 위한 헤더 정보\n",
    "headers = {'User-Agent': 'Mozilla/5.0 (Windows NT 10.0; Win64; x64) AppleWebKit/537.36 (KHTML, like Gecko) Chrome/107.0.0.0 Safari/537.36'}\n",
    "\n",
    "# --- 크롤링 실행 부분 ---\n",
    "total_results = []\n",
    "\n",
    "# 날짜 형식 변환 함수\n",
    "def parse_paxnet_date(date_str):\n",
    "    \"\"\"팍스넷의 날짜 형식('Thu Jun 26 13:20:02 KST 2025')을 datetime 객체로 변환\"\"\"\n",
    "    try:\n",
    "        # 'KST' 등 시간대 정보를 제외하고 파싱\n",
    "        date_parts = date_str.split()\n",
    "        # 예: ['Thu', 'Jun', '26', '13:20:02', 'KST', '2025']\n",
    "        # 필요한 부분만 조합: 'Jun 26 2025 13:20:02'\n",
    "        formatted_str = f\"{date_parts[1]} {date_parts[2]} {date_parts[5]} {date_parts[3]}\"\n",
    "        return datetime.strptime(formatted_str, \"%b %d %Y %H:%M:%S\")\n",
    "    except Exception:\n",
    "        return None"
   ]
  },
  {
   "cell_type": "code",
   "execution_count": 7,
   "id": "0edf4efa",
   "metadata": {},
   "outputs": [
    {
     "name": "stdout",
     "output_type": "stream",
     "text": [
      "\n",
      "====== 오리엔트바이오 (002630) 크롤링 시작 ======\n",
      "페이지 1: 기간 내 게시물 링크 수집 중... (현재 1개)\n",
      "수집 기간 이전의 게시물에 도달하여 링크 수집을 중단합니다.\n",
      "총 1개의 게시물 상세 정보를 수집합니다.\n",
      "수집 사이트 상세 : ['https://www.paxnet.co.kr/tbbs/view?id=002630&seq=150357589326523']\n"
     ]
    },
    {
     "name": "stderr",
     "output_type": "stream",
     "text": [
      "오리엔트바이오 상세 정보 수집: 100%|██████████| 1/1 [00:00<00:00,  1.40it/s]\n"
     ]
    },
    {
     "name": "stdout",
     "output_type": "stream",
     "text": [
      "\n",
      "====== 윌비스 (008600) 크롤링 시작 ======\n",
      "페이지 1: 기간 내 게시물 링크 수집 중... (현재 6개)\n",
      "수집 기간 이전의 게시물에 도달하여 링크 수집을 중단합니다.\n",
      "총 6개의 게시물 상세 정보를 수집합니다.\n",
      "수집 사이트 상세 : ['https://www.paxnet.co.kr/tbbs/view?id=008600&seq=150357589332165', 'https://www.paxnet.co.kr/tbbs/view?id=008600&seq=150357589285678', 'https://www.paxnet.co.kr/tbbs/view?id=008600&seq=150357589280676', 'https://www.paxnet.co.kr/tbbs/view?id=008600&seq=150357589279937', 'https://www.paxnet.co.kr/tbbs/view?id=008600&seq=150357589269036', 'https://www.paxnet.co.kr/tbbs/view?id=008600&seq=150357589261292']\n"
     ]
    },
    {
     "name": "stderr",
     "output_type": "stream",
     "text": [
      "윌비스 상세 정보 수집: 100%|██████████| 6/6 [00:04<00:00,  1.29it/s]\n"
     ]
    },
    {
     "name": "stdout",
     "output_type": "stream",
     "text": [
      "\n",
      "====== 태영건설우 (009415) 크롤링 시작 ======\n",
      "페이지 1: 기간 내 게시물 링크 수집 중... (현재 0개)\n",
      "수집 기간 이전의 게시물에 도달하여 링크 수집을 중단합니다.\n",
      "총 0개의 게시물 상세 정보를 수집합니다.\n",
      "수집 사이트 상세 : []\n"
     ]
    },
    {
     "name": "stderr",
     "output_type": "stream",
     "text": [
      "태영건설우 상세 정보 수집: 0it [00:00, ?it/s]"
     ]
    },
    {
     "name": "stdout",
     "output_type": "stream",
     "text": [
      "\n",
      "====== 삼보산업 (009620) 크롤링 시작 ======\n"
     ]
    },
    {
     "name": "stderr",
     "output_type": "stream",
     "text": [
      "\n"
     ]
    },
    {
     "name": "stdout",
     "output_type": "stream",
     "text": [
      "페이지 1: 기간 내 게시물 링크 수집 중... (현재 0개)\n",
      "수집 기간 이전의 게시물에 도달하여 링크 수집을 중단합니다.\n",
      "총 0개의 게시물 상세 정보를 수집합니다.\n",
      "수집 사이트 상세 : []\n"
     ]
    },
    {
     "name": "stderr",
     "output_type": "stream",
     "text": [
      "삼보산업 상세 정보 수집: 0it [00:00, ?it/s]"
     ]
    },
    {
     "name": "stdout",
     "output_type": "stream",
     "text": [
      "\n",
      "====== 평화홀딩스 (010770) 크롤링 시작 ======\n"
     ]
    },
    {
     "name": "stderr",
     "output_type": "stream",
     "text": [
      "\n"
     ]
    },
    {
     "name": "stdout",
     "output_type": "stream",
     "text": [
      "페이지 1: 기간 내 게시물 링크 수집 중... (현재 14개)\n",
      "수집 기간 이전의 게시물에 도달하여 링크 수집을 중단합니다.\n",
      "총 14개의 게시물 상세 정보를 수집합니다.\n",
      "수집 사이트 상세 : ['https://www.paxnet.co.kr/tbbs/view?id=010770&seq=150357589309401', 'https://www.paxnet.co.kr/tbbs/view?id=010770&seq=150357589274518', 'https://www.paxnet.co.kr/tbbs/view?id=010770&seq=150357589272453', 'https://www.paxnet.co.kr/tbbs/view?id=010770&seq=150357589271234', 'https://www.paxnet.co.kr/tbbs/view?id=010770&seq=150357589270173', 'https://www.paxnet.co.kr/tbbs/view?id=010770&seq=150357589268789', 'https://www.paxnet.co.kr/tbbs/view?id=010770&seq=150357589268065', 'https://www.paxnet.co.kr/tbbs/view?id=010770&seq=150357589267500', 'https://www.paxnet.co.kr/tbbs/view?id=010770&seq=150357589267466', 'https://www.paxnet.co.kr/tbbs/view?id=010770&seq=150357589267411', 'https://www.paxnet.co.kr/tbbs/view?id=010770&seq=150357589267408', 'https://www.paxnet.co.kr/tbbs/view?id=010770&seq=150357589267331', 'https://www.paxnet.co.kr/tbbs/view?id=010770&seq=150357589265536', 'https://www.paxnet.co.kr/tbbs/view?id=010770&seq=150357589261033']\n"
     ]
    },
    {
     "name": "stderr",
     "output_type": "stream",
     "text": [
      "평화홀딩스 상세 정보 수집: 100%|██████████| 14/14 [00:11<00:00,  1.25it/s]\n"
     ]
    },
    {
     "name": "stdout",
     "output_type": "stream",
     "text": [
      "\n",
      "====== 대영포장 (014160) 크롤링 시작 ======\n",
      "페이지 1: 기간 내 게시물 링크 수집 중... (현재 2개)\n",
      "수집 기간 이전의 게시물에 도달하여 링크 수집을 중단합니다.\n",
      "총 2개의 게시물 상세 정보를 수집합니다.\n",
      "수집 사이트 상세 : ['https://www.paxnet.co.kr/tbbs/view?id=014160&seq=150357589292117', 'https://www.paxnet.co.kr/tbbs/view?id=014160&seq=150357589289483']\n"
     ]
    },
    {
     "name": "stderr",
     "output_type": "stream",
     "text": [
      "대영포장 상세 정보 수집: 100%|██████████| 2/2 [00:01<00:00,  1.21it/s]\n"
     ]
    },
    {
     "name": "stdout",
     "output_type": "stream",
     "text": [
      "\n",
      "====== 한솔홈데코 (025750) 크롤링 시작 ======\n",
      "페이지 1: 기간 내 게시물 링크 수집 중... (현재 6개)\n",
      "수집 기간 이전의 게시물에 도달하여 링크 수집을 중단합니다.\n",
      "총 6개의 게시물 상세 정보를 수집합니다.\n",
      "수집 사이트 상세 : ['https://www.paxnet.co.kr/tbbs/view?id=025750&seq=150357589267422', 'https://www.paxnet.co.kr/tbbs/view?id=025750&seq=150357589267418', 'https://www.paxnet.co.kr/tbbs/view?id=025750&seq=150357589265409', 'https://www.paxnet.co.kr/tbbs/view?id=025750&seq=150357589265384', 'https://www.paxnet.co.kr/tbbs/view?id=025750&seq=150357589265382', 'https://www.paxnet.co.kr/tbbs/view?id=025750&seq=150357589265380']\n"
     ]
    },
    {
     "name": "stderr",
     "output_type": "stream",
     "text": [
      "한솔홈데코 상세 정보 수집: 100%|██████████| 6/6 [00:02<00:00,  2.50it/s]\n"
     ]
    },
    {
     "name": "stdout",
     "output_type": "stream",
     "text": [
      "\n",
      "====== 상지건설 (042940) 크롤링 시작 ======\n",
      "페이지 1: 기간 내 게시물 링크 수집 중... (현재 6개)\n",
      "페이지 2: 기간 내 게시물 링크 수집 중... (현재 21개)\n",
      "수집 기간 이전의 게시물에 도달하여 링크 수집을 중단합니다.\n",
      "총 21개의 게시물 상세 정보를 수집합니다.\n",
      "수집 사이트 상세 : ['https://www.paxnet.co.kr/tbbs/view?id=042940&seq=150357589308437', 'https://www.paxnet.co.kr/tbbs/view?id=042940&seq=150357589291793', 'https://www.paxnet.co.kr/tbbs/view?id=042940&seq=150357589291787', 'https://www.paxnet.co.kr/tbbs/view?id=042940&seq=150357589291076', 'https://www.paxnet.co.kr/tbbs/view?id=042940&seq=150357589282034', 'https://www.paxnet.co.kr/tbbs/view?id=042940&seq=150357589278808', 'https://www.paxnet.co.kr/tbbs/view?id=042940&seq=150357589278349', 'https://www.paxnet.co.kr/tbbs/view?id=042940&seq=150357589277989', 'https://www.paxnet.co.kr/tbbs/view?id=042940&seq=150357589277654', 'https://www.paxnet.co.kr/tbbs/view?id=042940&seq=150357589277455', 'https://www.paxnet.co.kr/tbbs/view?id=042940&seq=150357589276565', 'https://www.paxnet.co.kr/tbbs/view?id=042940&seq=150357589276289', 'https://www.paxnet.co.kr/tbbs/view?id=042940&seq=150357589276225', 'https://www.paxnet.co.kr/tbbs/view?id=042940&seq=150357589276206', 'https://www.paxnet.co.kr/tbbs/view?id=042940&seq=150357589274625', 'https://www.paxnet.co.kr/tbbs/view?id=042940&seq=150357589274415', 'https://www.paxnet.co.kr/tbbs/view?id=042940&seq=150357589269861', 'https://www.paxnet.co.kr/tbbs/view?id=042940&seq=150357589266800', 'https://www.paxnet.co.kr/tbbs/view?id=042940&seq=150357589266768', 'https://www.paxnet.co.kr/tbbs/view?id=042940&seq=150357589265857', 'https://www.paxnet.co.kr/tbbs/view?id=042940&seq=150357589265778']\n"
     ]
    },
    {
     "name": "stderr",
     "output_type": "stream",
     "text": [
      "상지건설 상세 정보 수집: 100%|██████████| 21/21 [00:17<00:00,  1.21it/s]\n"
     ]
    },
    {
     "name": "stdout",
     "output_type": "stream",
     "text": [
      "\n",
      "====== 코나아이 (052400) 크롤링 시작 ======\n",
      "페이지 1: 기간 내 게시물 링크 수집 중... (현재 13개)\n",
      "수집 기간 이전의 게시물에 도달하여 링크 수집을 중단합니다.\n",
      "총 13개의 게시물 상세 정보를 수집합니다.\n",
      "수집 사이트 상세 : ['https://www.paxnet.co.kr/tbbs/view?id=052400&seq=150357589335420', 'https://www.paxnet.co.kr/tbbs/view?id=052400&seq=150357589331711', 'https://www.paxnet.co.kr/tbbs/view?id=052400&seq=150357589331623', 'https://www.paxnet.co.kr/tbbs/view?id=052400&seq=150357589331558', 'https://www.paxnet.co.kr/tbbs/view?id=052400&seq=150357589331473', 'https://www.paxnet.co.kr/tbbs/view?id=052400&seq=150357589331400', 'https://www.paxnet.co.kr/tbbs/view?id=052400&seq=150357589329487', 'https://www.paxnet.co.kr/tbbs/view?id=052400&seq=150357589326306', 'https://www.paxnet.co.kr/tbbs/view?id=052400&seq=150357589326172', 'https://www.paxnet.co.kr/tbbs/view?id=052400&seq=150357589322750', 'https://www.paxnet.co.kr/tbbs/view?id=052400&seq=150357589271249', 'https://www.paxnet.co.kr/tbbs/view?id=052400&seq=150357589264078', 'https://www.paxnet.co.kr/tbbs/view?id=052400&seq=150357589261041']\n"
     ]
    },
    {
     "name": "stderr",
     "output_type": "stream",
     "text": [
      "코나아이 상세 정보 수집: 100%|██████████| 13/13 [00:09<00:00,  1.40it/s]\n"
     ]
    },
    {
     "name": "stdout",
     "output_type": "stream",
     "text": [
      "\n",
      "====== 웹케시 (053580) 크롤링 시작 ======\n",
      "페이지 1: 기간 내 게시물 링크 수집 중... (현재 27개)\n",
      "페이지 2: 기간 내 게시물 링크 수집 중... (현재 57개)\n",
      "페이지 3: 기간 내 게시물 링크 수집 중... (현재 62개)\n",
      "수집 기간 이전의 게시물에 도달하여 링크 수집을 중단합니다.\n",
      "총 62개의 게시물 상세 정보를 수집합니다.\n",
      "수집 사이트 상세 : ['https://www.paxnet.co.kr/tbbs/view?id=053580&seq=150357589331644', 'https://www.paxnet.co.kr/tbbs/view?id=053580&seq=150357589326434', 'https://www.paxnet.co.kr/tbbs/view?id=053580&seq=150357589323668', 'https://www.paxnet.co.kr/tbbs/view?id=053580&seq=150357589323436', 'https://www.paxnet.co.kr/tbbs/view?id=053580&seq=150357589319057', 'https://www.paxnet.co.kr/tbbs/view?id=053580&seq=150357589318980', 'https://www.paxnet.co.kr/tbbs/view?id=053580&seq=150357589312806', 'https://www.paxnet.co.kr/tbbs/view?id=053580&seq=150357589312786', 'https://www.paxnet.co.kr/tbbs/view?id=053580&seq=150357589308404', 'https://www.paxnet.co.kr/tbbs/view?id=053580&seq=150357589295378', 'https://www.paxnet.co.kr/tbbs/view?id=053580&seq=150357589295337', 'https://www.paxnet.co.kr/tbbs/view?id=053580&seq=150357589295335', 'https://www.paxnet.co.kr/tbbs/view?id=053580&seq=150357589295259', 'https://www.paxnet.co.kr/tbbs/view?id=053580&seq=150357589295169', 'https://www.paxnet.co.kr/tbbs/view?id=053580&seq=150357589295148', 'https://www.paxnet.co.kr/tbbs/view?id=053580&seq=150357589295098', 'https://www.paxnet.co.kr/tbbs/view?id=053580&seq=150357589295078', 'https://www.paxnet.co.kr/tbbs/view?id=053580&seq=150357589294800', 'https://www.paxnet.co.kr/tbbs/view?id=053580&seq=150357589294788', 'https://www.paxnet.co.kr/tbbs/view?id=053580&seq=150357589294671', 'https://www.paxnet.co.kr/tbbs/view?id=053580&seq=150357589294665', 'https://www.paxnet.co.kr/tbbs/view?id=053580&seq=150357589294642', 'https://www.paxnet.co.kr/tbbs/view?id=053580&seq=150357589294637', 'https://www.paxnet.co.kr/tbbs/view?id=053580&seq=150357589294591', 'https://www.paxnet.co.kr/tbbs/view?id=053580&seq=150357589294577', 'https://www.paxnet.co.kr/tbbs/view?id=053580&seq=150357589294462', 'https://www.paxnet.co.kr/tbbs/view?id=053580&seq=150357589294353', 'https://www.paxnet.co.kr/tbbs/view?id=053580&seq=150357589294349', 'https://www.paxnet.co.kr/tbbs/view?id=053580&seq=150357589294233', 'https://www.paxnet.co.kr/tbbs/view?id=053580&seq=150357589294231', 'https://www.paxnet.co.kr/tbbs/view?id=053580&seq=150357589294210', 'https://www.paxnet.co.kr/tbbs/view?id=053580&seq=150357589294196', 'https://www.paxnet.co.kr/tbbs/view?id=053580&seq=150357589294193', 'https://www.paxnet.co.kr/tbbs/view?id=053580&seq=150357589294065', 'https://www.paxnet.co.kr/tbbs/view?id=053580&seq=150357589294063', 'https://www.paxnet.co.kr/tbbs/view?id=053580&seq=150357589294050', 'https://www.paxnet.co.kr/tbbs/view?id=053580&seq=150357589294048', 'https://www.paxnet.co.kr/tbbs/view?id=053580&seq=150357589294044', 'https://www.paxnet.co.kr/tbbs/view?id=053580&seq=150357589294014', 'https://www.paxnet.co.kr/tbbs/view?id=053580&seq=150357589293987', 'https://www.paxnet.co.kr/tbbs/view?id=053580&seq=150357589293960', 'https://www.paxnet.co.kr/tbbs/view?id=053580&seq=150357589293958', 'https://www.paxnet.co.kr/tbbs/view?id=053580&seq=150357589293920', 'https://www.paxnet.co.kr/tbbs/view?id=053580&seq=150357589293906', 'https://www.paxnet.co.kr/tbbs/view?id=053580&seq=150357589293879', 'https://www.paxnet.co.kr/tbbs/view?id=053580&seq=150357589293863', 'https://www.paxnet.co.kr/tbbs/view?id=053580&seq=150357589293841', 'https://www.paxnet.co.kr/tbbs/view?id=053580&seq=150357589293839', 'https://www.paxnet.co.kr/tbbs/view?id=053580&seq=150357589293819', 'https://www.paxnet.co.kr/tbbs/view?id=053580&seq=150357589293797', 'https://www.paxnet.co.kr/tbbs/view?id=053580&seq=150357589293740', 'https://www.paxnet.co.kr/tbbs/view?id=053580&seq=150357589293738', 'https://www.paxnet.co.kr/tbbs/view?id=053580&seq=150357589293708', 'https://www.paxnet.co.kr/tbbs/view?id=053580&seq=150357589293705', 'https://www.paxnet.co.kr/tbbs/view?id=053580&seq=150357589290144', 'https://www.paxnet.co.kr/tbbs/view?id=053580&seq=150357589289937', 'https://www.paxnet.co.kr/tbbs/view?id=053580&seq=150357589284248', 'https://www.paxnet.co.kr/tbbs/view?id=053580&seq=150357589284182', 'https://www.paxnet.co.kr/tbbs/view?id=053580&seq=150357589284129', 'https://www.paxnet.co.kr/tbbs/view?id=053580&seq=150357589284122', 'https://www.paxnet.co.kr/tbbs/view?id=053580&seq=150357589264015', 'https://www.paxnet.co.kr/tbbs/view?id=053580&seq=150357589262617']\n"
     ]
    },
    {
     "name": "stderr",
     "output_type": "stream",
     "text": [
      "웹케시 상세 정보 수집: 100%|██████████| 62/62 [00:48<00:00,  1.29it/s]\n"
     ]
    },
    {
     "name": "stdout",
     "output_type": "stream",
     "text": [
      "\n",
      "====== 평화산업 (090080) 크롤링 시작 ======\n",
      "페이지 1: 기간 내 게시물 링크 수집 중... (현재 6개)\n",
      "수집 기간 이전의 게시물에 도달하여 링크 수집을 중단합니다.\n",
      "총 6개의 게시물 상세 정보를 수집합니다.\n",
      "수집 사이트 상세 : ['https://www.paxnet.co.kr/tbbs/view?id=090080&seq=150357589292128', 'https://www.paxnet.co.kr/tbbs/view?id=090080&seq=150357589291670', 'https://www.paxnet.co.kr/tbbs/view?id=090080&seq=150357589267068', 'https://www.paxnet.co.kr/tbbs/view?id=090080&seq=150357589266362', 'https://www.paxnet.co.kr/tbbs/view?id=090080&seq=150357589264076', 'https://www.paxnet.co.kr/tbbs/view?id=090080&seq=150357589263892']\n"
     ]
    },
    {
     "name": "stderr",
     "output_type": "stream",
     "text": [
      "평화산업 상세 정보 수집: 100%|██████████| 6/6 [00:04<00:00,  1.24it/s]\n"
     ]
    },
    {
     "name": "stdout",
     "output_type": "stream",
     "text": [
      "\n",
      "====== 넥스트아이 (137940) 크롤링 시작 ======\n",
      "페이지 1: 기간 내 게시물 링크 수집 중... (현재 12개)\n",
      "수집 기간 이전의 게시물에 도달하여 링크 수집을 중단합니다.\n",
      "총 12개의 게시물 상세 정보를 수집합니다.\n",
      "수집 사이트 상세 : ['https://www.paxnet.co.kr/tbbs/view?id=137940&seq=150357589284252', 'https://www.paxnet.co.kr/tbbs/view?id=137940&seq=150357589284238', 'https://www.paxnet.co.kr/tbbs/view?id=137940&seq=150357589284064', 'https://www.paxnet.co.kr/tbbs/view?id=137940&seq=150357589284062', 'https://www.paxnet.co.kr/tbbs/view?id=137940&seq=150357589283947', 'https://www.paxnet.co.kr/tbbs/view?id=137940&seq=150357589283945', 'https://www.paxnet.co.kr/tbbs/view?id=137940&seq=150357589283914', 'https://www.paxnet.co.kr/tbbs/view?id=137940&seq=150357589283911', 'https://www.paxnet.co.kr/tbbs/view?id=137940&seq=150357589283890', 'https://www.paxnet.co.kr/tbbs/view?id=137940&seq=150357589283888', 'https://www.paxnet.co.kr/tbbs/view?id=137940&seq=150357589267667', 'https://www.paxnet.co.kr/tbbs/view?id=137940&seq=150357589265541']\n"
     ]
    },
    {
     "name": "stderr",
     "output_type": "stream",
     "text": [
      "넥스트아이 상세 정보 수집: 100%|██████████| 12/12 [00:07<00:00,  1.66it/s]\n"
     ]
    },
    {
     "name": "stdout",
     "output_type": "stream",
     "text": [
      "\n",
      "====== 포바이포 (389140) 크롤링 시작 ======\n",
      "페이지 1: 기간 내 게시물 링크 수집 중... (현재 28개)\n",
      "페이지 2: 기간 내 게시물 링크 수집 중... (현재 33개)\n",
      "수집 기간 이전의 게시물에 도달하여 링크 수집을 중단합니다.\n",
      "총 33개의 게시물 상세 정보를 수집합니다.\n",
      "수집 사이트 상세 : ['https://www.paxnet.co.kr/tbbs/view?id=389140&seq=150357589337524', 'https://www.paxnet.co.kr/tbbs/view?id=389140&seq=150357589328035', 'https://www.paxnet.co.kr/tbbs/view?id=389140&seq=150357589327966', 'https://www.paxnet.co.kr/tbbs/view?id=389140&seq=150357589327517', 'https://www.paxnet.co.kr/tbbs/view?id=389140&seq=150357589327424', 'https://www.paxnet.co.kr/tbbs/view?id=389140&seq=150357589327160', 'https://www.paxnet.co.kr/tbbs/view?id=389140&seq=150357589326679', 'https://www.paxnet.co.kr/tbbs/view?id=389140&seq=150357589326586', 'https://www.paxnet.co.kr/tbbs/view?id=389140&seq=150357589326477', 'https://www.paxnet.co.kr/tbbs/view?id=389140&seq=150357589326457', 'https://www.paxnet.co.kr/tbbs/view?id=389140&seq=150357589326393', 'https://www.paxnet.co.kr/tbbs/view?id=389140&seq=150357589326130', 'https://www.paxnet.co.kr/tbbs/view?id=389140&seq=150357589325594', 'https://www.paxnet.co.kr/tbbs/view?id=389140&seq=150357589324523', 'https://www.paxnet.co.kr/tbbs/view?id=389140&seq=150357589324446', 'https://www.paxnet.co.kr/tbbs/view?id=389140&seq=150357589324434', 'https://www.paxnet.co.kr/tbbs/view?id=389140&seq=150357589324368', 'https://www.paxnet.co.kr/tbbs/view?id=389140&seq=150357589318508', 'https://www.paxnet.co.kr/tbbs/view?id=389140&seq=150357589318430', 'https://www.paxnet.co.kr/tbbs/view?id=389140&seq=150357589312676', 'https://www.paxnet.co.kr/tbbs/view?id=389140&seq=150357589312039', 'https://www.paxnet.co.kr/tbbs/view?id=389140&seq=150357589311757', 'https://www.paxnet.co.kr/tbbs/view?id=389140&seq=150357589311708', 'https://www.paxnet.co.kr/tbbs/view?id=389140&seq=150357589311443', 'https://www.paxnet.co.kr/tbbs/view?id=389140&seq=150357589311348', 'https://www.paxnet.co.kr/tbbs/view?id=389140&seq=150357589311346', 'https://www.paxnet.co.kr/tbbs/view?id=389140&seq=150357589311344', 'https://www.paxnet.co.kr/tbbs/view?id=389140&seq=150357589289642', 'https://www.paxnet.co.kr/tbbs/view?id=389140&seq=150357589271153', 'https://www.paxnet.co.kr/tbbs/view?id=389140&seq=150357589266721', 'https://www.paxnet.co.kr/tbbs/view?id=389140&seq=150357589265544', 'https://www.paxnet.co.kr/tbbs/view?id=389140&seq=150357589263405', 'https://www.paxnet.co.kr/tbbs/view?id=389140&seq=150357589260940']\n"
     ]
    },
    {
     "name": "stderr",
     "output_type": "stream",
     "text": [
      "포바이포 상세 정보 수집: 100%|██████████| 33/33 [00:24<00:00,  1.37it/s]\n"
     ]
    }
   ],
   "source": [
    "for stock_name, stock_code in STOCK_DICT.items():\n",
    "# for _ in range(1):\n",
    "#     stock_name, stock_code = list(STOCK_DICT.items())[0]\n",
    "    print(f\"\\n====== {stock_name} ({stock_code}) 크롤링 시작 ======\")\n",
    "    \n",
    "    detail_page_links = []\n",
    "    \n",
    "    # 1. 목록 페이지에서 게시물 링크 수집\n",
    "    for page in range(1, 10): # 최대 10페이지까지 수집\n",
    "        stop_collecting = False\n",
    "        try:\n",
    "            list_url = f\"https://www.paxnet.co.kr/tbbs/list?tbbsType=L&id={stock_code}&page={page}\"\n",
    "            res = requests.get(list_url, headers=headers)\n",
    "            res.raise_for_status()\n",
    "            soup = BeautifulSoup(res.text, 'html.parser')\n",
    "            \n",
    "            # 'comm-list' 내부의 게시물 li만 선택 (광고, 헤더 제외)\n",
    "            posts = soup.select('ul#comm-list > li:not(.board-col, .board-ad-pc, .board-ad-mobile)')\n",
    "\n",
    "            if not posts:\n",
    "                print(f\"페이지 {page}에서 더 이상 게시물을 찾을 수 없습니다.\")\n",
    "                break\n",
    "\n",
    "            for post in posts:\n",
    "                # 날짜 정보가 있는 span 태그 선택\n",
    "                date_span = post.select_one('div.date > span.data-date-format')\n",
    "                if not date_span:\n",
    "                    continue\n",
    "                \n",
    "                # 날짜 추출 및 기간 필터링\n",
    "                paxnet_date_str = date_span.get('data-date-format')\n",
    "                post_date = parse_paxnet_date(paxnet_date_str)\n",
    "\n",
    "                if post_date:\n",
    "                    if post_date < START_DATE:\n",
    "                        stop_collecting = True\n",
    "                        break # 이 페이지의 나머지 게시물은 볼 필요 없음\n",
    "\n",
    "                    if START_DATE <= post_date <= END_DATE:\n",
    "                        # 게시물 고유번호(seq) 추출\n",
    "                        seq_div = post.select_one('div.type')\n",
    "                        if seq_div and seq_div.has_attr('data-seq'):\n",
    "                            seq = seq_div['data-seq']\n",
    "                            # 상세 페이지 URL 조립\n",
    "                            detail_url = f\"https://www.paxnet.co.kr/tbbs/view?id={stock_code}&seq={seq}\"\n",
    "                            detail_page_links.append(detail_url)\n",
    "            \n",
    "            print(f\"페이지 {page}: 기간 내 게시물 링크 수집 중... (현재 {len(detail_page_links)}개)\")\n",
    "            if stop_collecting:\n",
    "                print(\"수집 기간 이전의 게시물에 도달하여 링크 수집을 중단합니다.\")\n",
    "                break\n",
    "            \n",
    "            time.sleep(0.5) # 서버 부하 방지\n",
    "\n",
    "        except Exception as e:\n",
    "            print(f\"목록 페이지 {page} 처리 중 오류: {e}\")\n",
    "            break\n",
    "            \n",
    "    # 2. 수집된 링크를 방문하여 상세 정보 수집\n",
    "    print(f\"총 {len(detail_page_links)}개의 게시물 상세 정보를 수집합니다.\")\n",
    "    print(f\"수집 사이트 상세 : {detail_page_links}\")\n",
    "    for post_url in tqdm(detail_page_links, desc=f\"{stock_name} 상세 정보 수집\"):\n",
    "        try:\n",
    "            res = requests.get(post_url, headers=headers)\n",
    "            res.raise_for_status()\n",
    "            soup = BeautifulSoup(res.text, 'html.parser')\n",
    "\n",
    "            # --- 상세 정보 추출 (HTML 분석 기반 최종 선택자) ---\n",
    "            # 제목에서 댓글 수 분리\n",
    "            title_raw = soup.select_one('div.board-view-tit > h1').get_text(strip=True)\n",
    "            match = re.match(r'^(.*?)(?:코멘트(\\d+))?$', title_raw)\n",
    "            if match:\n",
    "                title = match.group(1).strip()\n",
    "                comment_count = int(match.group(2)) if match.group(2) else 0\n",
    "            else:\n",
    "                title = title_raw\n",
    "                comment_count = 0\n",
    "            author = soup.select_one('span.nickname').text.strip()\n",
    "            date_str = soup.select_one('span.data-date-format1')['data-date-format'].split('.')[0] # 'YYYY-MM-DD HH:MM:SS'\n",
    "            views_text = soup.select_one('span.viewer').text.strip()\n",
    "            views = views_text.replace('조회', '').strip()\n",
    "            recommends = soup.select_one('span#recommendCount').text.strip()\n",
    "            \n",
    "            # 내용에서 불필요한 부분(공유/추천 버튼 등) 제거 후 텍스트 추출\n",
    "            content_div = soup.select_one('div#bbsWrtCntn')\n",
    "            if content_div:\n",
    "                # div 내의 'board-view-func' 클래스를 가진 div 제거\n",
    "                func_div = content_div.find('div', class_='board-view-func')\n",
    "                if func_div:\n",
    "                    func_div.decompose()\n",
    "                content = content_div.get_text('\\n', strip=True) # 줄바꿈 유지하며 텍스트 추출\n",
    "            else:\n",
    "                content = \"\"\n",
    "\n",
    "            total_results.append({\n",
    "                '종목명': stock_name,\n",
    "                '날짜': date_str.split(' ')[0], # YYYY-MM-DD\n",
    "                '시간': date_str.split(' ')[1], # HH:MM:SS\n",
    "                '제목': title,\n",
    "                '댓글수' : comment_count,\n",
    "                '작성자': author,\n",
    "                '조회수': int(views.replace(',', '')),\n",
    "                '추천수': int(recommends.replace(',', '')),\n",
    "                '내용': content,\n",
    "                'URL': post_url\n",
    "            })\n",
    "            \n",
    "            time.sleep(0.3)\n",
    "        \n",
    "        except Exception as e:\n",
    "            # print(f\"상세 페이지 처리 중 오류: {e} (URL: {post_url})\")\n",
    "            continue\n"
   ]
  },
  {
   "cell_type": "code",
   "execution_count": 8,
   "id": "0ae8e12e",
   "metadata": {},
   "outputs": [
    {
     "name": "stdout",
     "output_type": "stream",
     "text": [
      "\n",
      "크롤링 완료! 총 177개의 데이터를 '팍스넷_21대_대선_테마주_크롤링_20250627.csv' 파일로 저장했습니다.\n"
     ]
    }
   ],
   "source": [
    "# 3. 최종 결과를 DataFrame으로 변환 후 CSV 저장\n",
    "if total_results:\n",
    "    df = pd.DataFrame(total_results)\n",
    "    df.sort_values(by='날짜', inplace=True) \n",
    "    file_name = f\"팍스넷_21대_대선_테마주_크롤링_{datetime.now().strftime('%Y%m%d')}.csv\"\n",
    "    df.to_csv(file_name, index=False, encoding='utf-8-sig')\n",
    "    print(f\"\\n크롤링 완료! 총 {len(total_results)}개의 데이터를 '{file_name}' 파일로 저장했습니다.\")\n",
    "else:\n",
    "    print(\"\\n수집된 데이터가 없습니다.\")"
   ]
  }
 ],
 "metadata": {
  "kernelspec": {
   "display_name": ".venv",
   "language": "python",
   "name": "python3"
  },
  "language_info": {
   "codemirror_mode": {
    "name": "ipython",
    "version": 3
   },
   "file_extension": ".py",
   "mimetype": "text/x-python",
   "name": "python",
   "nbconvert_exporter": "python",
   "pygments_lexer": "ipython3",
   "version": "3.12.3"
  }
 },
 "nbformat": 4,
 "nbformat_minor": 5
}
